{
 "cells": [
  {
   "cell_type": "code",
   "execution_count": 1,
   "metadata": {},
   "outputs": [],
   "source": [
    "from isochrones import StarModel\n",
    "from isochrones.observation import ObservationTree, Observation, Source\n",
    "from isochrones.starmodel import StarModel, BinaryStarModel\n",
    "from isochrones import get_ichrone\n",
    "import pandas as pd"
   ]
  },
  {
   "cell_type": "code",
   "execution_count": 2,
   "metadata": {
    "scrolled": false
   },
   "outputs": [
    {
     "data": {
      "text/plain": [
       "Index(['fpl_hostname', 'fpl_letter', 'fpl_name', 'fpl_discmethod',\n",
       "       'fpl_orbper', 'fpl_orbpererr1', 'fpl_orbpererr2', 'fpl_orbperlim',\n",
       "       'fpl_rade', 'fpl_radeerr1', 'fpl_radeerr2', 'fpl_cbflag', 'fpl_snum',\n",
       "       'ra_str', 'ra_x', 'dec_str', 'dec_x', 'fst_posreflink', 'fst_dist',\n",
       "       'fst_disterr1', 'fst_disterr2', 'fst_distlim', 'fst_distreflink',\n",
       "       'fst_spt', 'fst_teff', 'fst_tefferr1', 'fst_tefferr2', 'fst_tefflim',\n",
       "       'fst_logg', 'fst_loggerr1', 'fst_loggerr2', 'fst_logglim', 'fst_mass',\n",
       "       'fst_masserr1', 'fst_masserr2', 'fst_masslim', 'fst_rad', 'fst_raderr1',\n",
       "       'fst_raderr2', 'fst_radlim', 'fst_met', 'fst_meterr1', 'fst_meterr2',\n",
       "       'fst_metlim', 'fst_metratio', 'fst_age', 'fst_ageerr1', 'fst_ageerr2',\n",
       "       'fst_agelim', 'fst_agereflink', 'kepler_name_x', 'kepid', 'kepoi_name',\n",
       "       'kepler_name_y', 'koi_disposition', 'koi_period', 'koi_period_err1',\n",
       "       'koi_period_err2', 'koi_depth', 'koi_depth_err1', 'koi_depth_err2',\n",
       "       'koi_ror', 'koi_ror_err1', 'koi_ror_err2', 'koi_prad', 'koi_prad_err1',\n",
       "       'koi_prad_err2', 'koi_sma', 'koi_sma_err1', 'koi_sma_err2', 'koi_steff',\n",
       "       'koi_steff_err1', 'koi_steff_err2', 'koi_slogg', 'koi_slogg_err1',\n",
       "       'koi_slogg_err2', 'koi_smet', 'koi_smet_err1', 'koi_smet_err2',\n",
       "       'koi_srad', 'koi_srad_err1', 'koi_srad_err2', 'koi_smass',\n",
       "       'koi_smass_err1', 'koi_smass_err2', 'ra_y', 'dec_y', 'koi_kepmag',\n",
       "       'koi_gmag', 'koi_rmag', 'koi_imag', 'koi_zmag', 'koi_jmag', 'koi_hmag',\n",
       "       'koi_kmag', 'hostname'],\n",
       "      dtype='object')"
      ]
     },
     "execution_count": 2,
     "metadata": {},
     "output_type": "execute_result"
    }
   ],
   "source": [
    "sample = pd.read_csv('plpop_v3.csv')\n",
    "star = sample.iloc[1]\n",
    "star.index"
   ]
  },
  {
   "cell_type": "code",
   "execution_count": 3,
   "metadata": {},
   "outputs": [],
   "source": [
    "def build_obstree(obs):\n",
    "    o = Observation('2MASS', 'J', 99)  # Name, band, resolution (in arcsec)\n",
    "    s = Source(star['koi_jmag'], 0.05)\n",
    "    o.add_source(s)\n",
    "    obs.add_observation(o)\n",
    "    o = Observation('2MASS', 'H', 99)  # Name, band, resolution (in arcsec)\n",
    "    s = Source(star['koi_hmag'], 0.05)\n",
    "    o.add_source(s)\n",
    "    obs.add_observation(o)\n",
    "    o = Observation('2MASS', 'K', 99)  # Name, band, resolution (in arcsec)\n",
    "    s = Source(star['koi_kmag'], 0.05)\n",
    "    o.add_source(s)\n",
    "    obs.add_observation(o)\n",
    "    o = Observation('SDSS', 'g', 99)  # Name, band, resolution (in arcsec)\n",
    "    s = Source(star['koi_gmag'], 0.05)\n",
    "    o.add_source(s)\n",
    "    obs.add_observation(o)\n",
    "    o = Observation('SDSS', 'r', 99)  # Name, band, resolution (in arcsec)\n",
    "    s = Source(star['koi_rmag'], 0.05)\n",
    "    o.add_source(s)\n",
    "    obs.add_observation(o)\n",
    "    o = Observation('SDSS', 'i', 99)  # Name, band, resolution (in arcsec)\n",
    "    s = Source(star['koi_imag'], 0.05)\n",
    "    o.add_source(s)\n",
    "    obs.add_observation(o)\n",
    "    o = Observation('SDSS', 'z', 99)  # Name, band, resolution (in arcsec)\n",
    "    s = Source(star['koi_zmag'], 0.05)\n",
    "    o.add_source(s)\n",
    "    o = Observation('Kepler', 'Kepler', 99)  # Name, band, resolution (in arcsec)\n",
    "    s = Source(star['koi_kepmag'], 0.05)\n",
    "    o.add_source(s)\n",
    "    obs.add_observation(o)\n",
    "    return obs"
   ]
  },
  {
   "cell_type": "code",
   "execution_count": 5,
   "metadata": {},
   "outputs": [],
   "source": [
    "obs = ObservationTree(name='test')\n",
    "\n",
    "obs = build_obstree(obs)\n",
    "obs.define_models(ic=ichrone,N=2)\n",
    "distance=(291.000,7.8)\n",
    "spec = {'Teff':(star['koi_steff'],star['koi_steff_err1']),'logg':(star['koi_slogg'],star['koi_slogg_err1']),\n",
    "                 'feh':(star['koi_smet'],star['koi_smet_err1'])}\n",
    "parallex=(1000./distance[0], (1000./distance[0]**2)*distance[1])\n",
    "\n",
    "obs.add_spectroscopy(**spec)\n",
    "obs.add_parallax(parallex)"
   ]
  },
  {
   "cell_type": "code",
   "execution_count": 7,
   "metadata": {},
   "outputs": [],
   "source": [
    "ichrone = get_ichrone('mist',bands = ['g','r','i','z','J','H','K','Kepler'])\n",
    "obs.define_models(ic=ichrone,N=2)"
   ]
  },
  {
   "cell_type": "code",
   "execution_count": 8,
   "metadata": {},
   "outputs": [],
   "source": [
    "distance=(291.000,7.8)\n",
    "spec = {'Teff':(star['koi_steff'],star['koi_steff_err1']),'logg':(star['koi_slogg'],star['koi_slogg_err1']),\n",
    "                 'feh':(star['koi_smet'],star['koi_smet_err1'])}\n",
    "parallex=(1000./distance[0], (1000./distance[0]**2)*distance[1])\n",
    "\n",
    "obs.add_spectroscopy(**spec)\n",
    "obs.add_parallax(parallex)\n"
   ]
  },
  {
   "cell_type": "code",
   "execution_count": 9,
   "metadata": {},
   "outputs": [
    {
     "name": "stdout",
     "output_type": "stream",
     "text": [
      "test\n",
      " ╚═ 2MASS J=(11.54, 0.05) @(0.00, 0 [99.00])\n",
      "    ╚═ 2MASS H=(11.23, 0.05) @(0.00, 0 [99.00])\n",
      "       ╚═ 2MASS K=(11.12, 0.05) @(0.00, 0 [99.00])\n",
      "          ╚═ SDSS g=(13.42, 0.05) @(0.00, 0 [99.00])\n",
      "             ╚═ SDSS r=(12.80, 0.05) @(0.00, 0 [99.00])\n",
      "                ╚═ SDSS i=(12.61, 0.05) @(0.00, 0 [99.00])\n",
      "                   ╚═ Kepler Kepler=(12.85, 0.05) @(0.00, 0 [99.00])\n",
      "                      ╠═ 0_0, Teff=(5435.0, 97.0), logg=(4.578, 0.01), feh=(0.07, 0.15), parallax=(3.4364261168384878, 0.09211039076061926)\n",
      "                      ╚═ 0_1, parallax=(3.4364261168384878, 0.09211039076061926)\n"
     ]
    }
   ],
   "source": [
    "obs.print_ascii()"
   ]
  },
  {
   "cell_type": "code",
   "execution_count": 10,
   "metadata": {},
   "outputs": [],
   "source": [
    "distance=(291.000,7.8)\n",
    "ichrone = get_ichrone('mist',bands = ['g','r','i','z','J','H','K','Kepler'])\n",
    "\n",
    "'''\n",
    "mags = dict({\n",
    "          'J': (13.391,0.027), 'g': (17.617,0.05) , 'i': (15.194,0.01), \n",
    "          'K': (12.93,0.03), 'r': (16.090,0.01), \n",
    "          'Kepler': (15.921,0.05) , 'H': (12.807,0.01), 'z': (14.726,0.01),          \n",
    "           })\n",
    "model = BinaryStarModel(ichrone,obs=obs,parallex = (1000./distance[0], (1000./distance[0]**2)*distance[1]),\n",
    "                  Teff=(star['koi_steff'],star['koi_steff_err1']),logg=(star['koi_slogg'],star['koi_slogg_err1']),\n",
    "                 feh=(star['koi_smet'],star['koi_smet_err1']),N=2,index=[0, 1])\n",
    "'''\n",
    "model = BinaryStarModel(ichrone,obs=obs)\n",
    "\n",
    "model.fit(n_live_points=1000,refit=False,basename='test')\n",
    "\n",
    "\n"
   ]
  },
  {
   "cell_type": "code",
   "execution_count": 14,
   "metadata": {},
   "outputs": [
    {
     "data": {
      "text/plain": [
       "Index(['index', 'age_0_0', 'mass_0_0', 'radius_0_0', 'logL_0_0', 'logg_0_0',\n",
       "       'Teff_0_0', 'H_mag_0_0', 'J_mag_0_0', 'K_mag_0_0', 'Kepler_mag_0_0',\n",
       "       'g_mag_0_0', 'i_mag_0_0', 'r_mag_0_0', 'z_mag_0_0', 'age_0_1',\n",
       "       'mass_0_1', 'radius_0_1', 'logL_0_1', 'logg_0_1', 'Teff_0_1',\n",
       "       'H_mag_0_1', 'J_mag_0_1', 'K_mag_0_1', 'Kepler_mag_0_1', 'g_mag_0_1',\n",
       "       'i_mag_0_1', 'r_mag_0_1', 'z_mag_0_1', 'age_0', 'feh_0', 'distance_0',\n",
       "       'AV_0', 'H_mag', 'J_mag', 'K_mag', 'Kepler_mag', 'g_mag', 'i_mag',\n",
       "       'r_mag', 'z_mag', 'lnprob'],\n",
       "      dtype='object')"
      ]
     },
     "execution_count": 14,
     "metadata": {},
     "output_type": "execute_result"
    }
   ],
   "source": [
    "model.random_samples(1000).columns"
   ]
  },
  {
   "cell_type": "code",
   "execution_count": null,
   "metadata": {},
   "outputs": [],
   "source": []
  },
  {
   "cell_type": "code",
   "execution_count": 44,
   "metadata": {},
   "outputs": [
    {
     "name": "stdout",
     "output_type": "stream",
     "text": [
      "root\n",
      " ╚═ 2MASS H=(11.23, 0.05) @(0.00, 0 [99.00])\n",
      "    ╚═ 2MASS J=(11.54, 0.05) @(0.00, 0 [99.00])\n",
      "       ╚═ 2MASS K=(11.12, 0.05) @(0.00, 0 [99.00])\n",
      "          ╚═ Kepler Kepler=(12.85, 0.05) @(0.00, 0 [99.00])\n",
      "             ╚═ SDSS g=(13.42, 0.05) @(0.00, 0 [99.00])\n",
      "                ╚═ SDSS i=(12.61, 0.05) @(0.00, 0 [99.00])\n",
      "                   ╚═ SDSS r=(12.80, 0.05) @(0.00, 0 [99.00])\n",
      "                      ╠═ 0_0, Teff=(5435.0, 97.0), logg=(4.578, 0.01), feh=(0.07, 0.15), parallax=(3.4364261168384878, 0.09211039076061926)\n",
      "                      ╚═ 0_1, parallax=(3.4364261168384878, 0.09211039076061926)\n"
     ]
    }
   ],
   "source": [
    "m = StarModel.load_hdf('test.hd5')\n",
    "m.obs.print_ascii()"
   ]
  },
  {
   "cell_type": "code",
   "execution_count": null,
   "metadata": {},
   "outputs": [],
   "source": [
    "import numpy as np\n",
    "percentile = np.array([25, 50, 75])\n",
    "qua,med,the = np.percentile(model.random_samples(10000).AV_0,percentile)\n",
    "model.random_samples(10000).AV_0"
   ]
  },
  {
   "cell_type": "code",
   "execution_count": 53,
   "metadata": {},
   "outputs": [
    {
     "data": {
      "text/plain": [
       "0.06732639313840398"
      ]
     },
     "execution_count": 53,
     "metadata": {},
     "output_type": "execute_result"
    }
   ],
   "source": [
    "qua"
   ]
  },
  {
   "cell_type": "code",
   "execution_count": 22,
   "metadata": {},
   "outputs": [],
   "source": [
    "model.save_hdf(filename='/Users/neptune/Documents/Thesis/pipeline/data_4_28/Kepler1008/test.h5')"
   ]
  },
  {
   "cell_type": "code",
   "execution_count": 15,
   "metadata": {
    "scrolled": true
   },
   "outputs": [
    {
     "name": "stdout",
     "output_type": "stream",
     "text": [
      "test\n",
      " ╚═ 2MASS J=(11.54, 0.05) @(0.00, 0 [99.00])\n",
      "    ╚═ 2MASS H=(11.23, 0.05) @(0.00, 0 [99.00])\n",
      "       ╚═ 2MASS K=(11.12, 0.05) @(0.00, 0 [99.00])\n",
      "          ╚═ SDSS g=(13.42, 0.05) @(0.00, 0 [99.00])\n",
      "             ╚═ SDSS r=(12.80, 0.05) @(0.00, 0 [99.00])\n",
      "                ╚═ SDSS i=(12.61, 0.05) @(0.00, 0 [99.00])\n",
      "                   ╚═ Kepler Kepler=(12.85, 0.05) @(0.00, 0 [99.00])\n",
      "                      ╠═ 0_0, Teff=(5435.0, 97.0), logg=(4.578, 0.01), feh=(0.07, 0.15), parallax=(3.4364261168384878, 0.09211039076061926)\n",
      "                      ╚═ 0_1, parallax=(3.4364261168384878, 0.09211039076061926)\n"
     ]
    }
   ],
   "source": [
    "model.print_ascii()"
   ]
  }
 ],
 "metadata": {
  "kernelspec": {
   "display_name": "Python 3",
   "language": "python",
   "name": "python3"
  },
  "language_info": {
   "codemirror_mode": {
    "name": "ipython",
    "version": 3
   },
   "file_extension": ".py",
   "mimetype": "text/x-python",
   "name": "python",
   "nbconvert_exporter": "python",
   "pygments_lexer": "ipython3",
   "version": "3.7.4"
  }
 },
 "nbformat": 4,
 "nbformat_minor": 2
}
