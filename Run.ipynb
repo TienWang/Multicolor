{
 "cells": [
  {
   "cell_type": "code",
   "execution_count": 1,
   "metadata": {
    "scrolled": true
   },
   "outputs": [
    {
     "name": "stderr",
     "output_type": "stream",
     "text": [
      "/Users/neptune/opt/anaconda3/lib/python3.7/site-packages/numpy/lib/npyio.py:2322: VisibleDeprecationWarning: Reading unicode strings without specifying the encoding argument is deprecated. Set the encoding, use None for the system default.\n",
      "  output = genfromtxt(fname, **kwargs)\n",
      "WARNING:root:sklearn not available\n",
      "INFO:root:MultiNest basename: ./chains/Kepler1008\n"
     ]
    },
    {
     "name": "stdout",
     "output_type": "stream",
     "text": [
      "0\n"
     ]
    },
    {
     "name": "stderr",
     "output_type": "stream",
     "text": [
      "INFO:root:10613 Transiting planet systems generated (target 20000)\n",
      "INFO:root:20021 Transiting planet systems generated (target 20000)\n",
      "INFO:root:Fitting trapezoid models for Planets...\n",
      "INFO:root:Done.g shape parameters for 20000 systems:  99% |\\\\\\\\ | ETA:  0:00:00\n",
      "INFO:root:MultiNest basename: ./chains/Kepler1027\n"
     ]
    },
    {
     "name": "stdout",
     "output_type": "stream",
     "text": [
      "1\n"
     ]
    },
    {
     "name": "stderr",
     "output_type": "stream",
     "text": [
      "INFO:root:10414 Transiting planet systems generated (target 20000)\n",
      "INFO:root:21082 Transiting planet systems generated (target 20000)\n",
      "INFO:root:Fitting trapezoid models for Planets...\n",
      "INFO:root:Done.g shape parameters for 20000 systems:  99% |\\\\\\\\ | ETA:  0:00:00\n",
      "INFO:root:MultiNest basename: ./chains/Kepler104\n"
     ]
    },
    {
     "name": "stdout",
     "output_type": "stream",
     "text": [
      "2\n"
     ]
    },
    {
     "name": "stderr",
     "output_type": "stream",
     "text": [
      "INFO:root:12596 Transiting planet systems generated (target 20000)\n",
      "INFO:root:20126 Transiting planet systems generated (target 20000)\n",
      "INFO:root:Fitting trapezoid models for Planets...\n",
      "INFO:root:Done.g shape parameters for 20000 systems:  99% |\\\\\\\\ | ETA:  0:00:00\n",
      "INFO:root:MultiNest basename: ./chains/Kepler1063\n"
     ]
    },
    {
     "name": "stdout",
     "output_type": "stream",
     "text": [
      "3\n"
     ]
    },
    {
     "name": "stderr",
     "output_type": "stream",
     "text": [
      "INFO:root:10816 Transiting planet systems generated (target 20000)\n",
      "INFO:root:19947 Transiting planet systems generated (target 20000)\n",
      "INFO:root:20021 Transiting planet systems generated (target 20000)\n",
      "INFO:root:Fitting trapezoid models for Planets...\n",
      "INFO:root:Done.g shape parameters for 20000 systems:  99% |\\\\\\\\ | ETA:  0:00:00\n",
      "INFO:root:MultiNest basename: ./chains/Kepler108\n"
     ]
    },
    {
     "name": "stdout",
     "output_type": "stream",
     "text": [
      "4\n"
     ]
    },
    {
     "name": "stderr",
     "output_type": "stream",
     "text": [
      "INFO:root:13717 Transiting planet systems generated (target 20000)\n",
      "INFO:root:20026 Transiting planet systems generated (target 20000)\n",
      "INFO:root:Fitting trapezoid models for Planets...\n",
      "INFO:root:Done.g shape parameters for 20000 systems:  99% |\\\\\\\\ | ETA:  0:00:00\n",
      "INFO:root:MultiNest basename: ./chains/Kepler1086\n"
     ]
    },
    {
     "name": "stdout",
     "output_type": "stream",
     "text": [
      "5\n"
     ]
    },
    {
     "name": "stderr",
     "output_type": "stream",
     "text": [
      "INFO:root:11521 Transiting planet systems generated (target 20000)\n",
      "INFO:root:20209 Transiting planet systems generated (target 20000)\n",
      "INFO:root:Fitting trapezoid models for Planets...\n",
      "INFO:root:Done.g shape parameters for 20000 systems:  99% |\\\\\\\\ | ETA:  0:00:00\n",
      "INFO:root:MultiNest basename: ./chains/Kepler1130\n"
     ]
    },
    {
     "name": "stdout",
     "output_type": "stream",
     "text": [
      "6\n"
     ]
    },
    {
     "name": "stderr",
     "output_type": "stream",
     "text": [
      "INFO:root:9820 Transiting planet systems generated (target 20000)\n",
      "INFO:root:21105 Transiting planet systems generated (target 20000)\n",
      "INFO:root:Fitting trapezoid models for Planets...\n",
      "INFO:root:Done.g shape parameters for 20000 systems:  99% |\\\\\\\\ | ETA:  0:00:00\n",
      "INFO:root:MultiNest basename: ./chains/Kepler132\n"
     ]
    },
    {
     "name": "stdout",
     "output_type": "stream",
     "text": [
      "7\n"
     ]
    },
    {
     "name": "stderr",
     "output_type": "stream",
     "text": [
      "INFO:root:12576 Transiting planet systems generated (target 20000)\n",
      "INFO:root:20647 Transiting planet systems generated (target 20000)\n",
      "INFO:root:Fitting trapezoid models for Planets...\n",
      "INFO:root:Done.g shape parameters for 20000 systems:  99% |\\\\\\\\ | ETA:  0:00:00\n",
      "INFO:root:MultiNest basename: ./chains/Kepler1341\n"
     ]
    },
    {
     "name": "stdout",
     "output_type": "stream",
     "text": [
      "8\n"
     ]
    },
    {
     "name": "stderr",
     "output_type": "stream",
     "text": [
      "INFO:root:11137 Transiting planet systems generated (target 20000)\n",
      "INFO:root:19697 Transiting planet systems generated (target 20000)\n",
      "INFO:root:20048 Transiting planet systems generated (target 20000)\n",
      "INFO:root:Fitting trapezoid models for Planets...\n",
      "INFO:root:Done.g shape parameters for 20000 systems:  99% |\\\\\\\\ | ETA:  0:00:00\n",
      "INFO:root:MultiNest basename: ./chains/Kepler1480\n"
     ]
    },
    {
     "name": "stdout",
     "output_type": "stream",
     "text": [
      "9\n"
     ]
    },
    {
     "name": "stderr",
     "output_type": "stream",
     "text": [
      "INFO:root:11278 Transiting planet systems generated (target 20000)\n",
      "INFO:root:20291 Transiting planet systems generated (target 20000)\n",
      "INFO:root:Fitting trapezoid models for Planets...\n",
      "INFO:root:Done.g shape parameters for 20000 systems:  99% |\\\\\\\\ | ETA:  0:00:00\n",
      "INFO:root:MultiNest basename: ./chains/Kepler1540\n"
     ]
    },
    {
     "name": "stdout",
     "output_type": "stream",
     "text": [
      "10\n"
     ]
    },
    {
     "name": "stderr",
     "output_type": "stream",
     "text": [
      "INFO:root:11617 Transiting planet systems generated (target 20000)\n",
      "INFO:root:19796 Transiting planet systems generated (target 20000)\n",
      "INFO:root:20037 Transiting planet systems generated (target 20000)\n",
      "INFO:root:Fitting trapezoid models for Planets...\n",
      "INFO:root:Done.g shape parameters for 20000 systems:  99% |\\\\\\\\ | ETA:  0:00:00\n",
      "INFO:root:MultiNest basename: ./chains/Kepler167\n"
     ]
    },
    {
     "name": "stdout",
     "output_type": "stream",
     "text": [
      "11\n"
     ]
    },
    {
     "name": "stderr",
     "output_type": "stream",
     "text": [
      "INFO:root:9557 Transiting planet systems generated (target 20000)\n",
      "INFO:root:21503 Transiting planet systems generated (target 20000)\n",
      "INFO:root:Fitting trapezoid models for Planets...\n",
      "INFO:root:Done.g shape parameters for 20000 systems:  99% |\\\\\\\\ | ETA:  0:00:00\n",
      "INFO:root:MultiNest basename: ./chains/Kepler197\n"
     ]
    },
    {
     "name": "stdout",
     "output_type": "stream",
     "text": [
      "12\n"
     ]
    },
    {
     "name": "stderr",
     "output_type": "stream",
     "text": [
      "INFO:root:12593 Transiting planet systems generated (target 20000)\n",
      "INFO:root:20077 Transiting planet systems generated (target 20000)\n",
      "INFO:root:Fitting trapezoid models for Planets...\n",
      "INFO:root:Done.g shape parameters for 20000 systems:  99% |\\\\\\\\ | ETA:  0:00:00\n",
      "INFO:root:MultiNest basename: ./chains/Kepler20\n"
     ]
    },
    {
     "name": "stdout",
     "output_type": "stream",
     "text": [
      "13\n"
     ]
    },
    {
     "name": "stderr",
     "output_type": "stream",
     "text": [
      "INFO:root:10136 Transiting planet systems generated (target 20000)\n",
      "INFO:root:21124 Transiting planet systems generated (target 20000)\n",
      "INFO:root:Fitting trapezoid models for Planets...\n",
      "INFO:root:Done.g shape parameters for 20000 systems:  99% |\\\\\\\\ | ETA:  0:00:00\n",
      "INFO:root:MultiNest basename: ./chains/Kepler296\n"
     ]
    },
    {
     "name": "stdout",
     "output_type": "stream",
     "text": [
      "14\n"
     ]
    },
    {
     "name": "stderr",
     "output_type": "stream",
     "text": [
      "INFO:root:12975 Transiting planet systems generated (target 20000)\n",
      "INFO:root:20715 Transiting planet systems generated (target 20000)\n",
      "INFO:root:Fitting trapezoid models for Planets...\n",
      "INFO:root:Done.g shape parameters for 20000 systems:  99% |\\\\\\\\ | ETA:  0:00:00\n",
      "INFO:root:MultiNest basename: ./chains/Kepler333\n"
     ]
    },
    {
     "name": "stdout",
     "output_type": "stream",
     "text": [
      "15\n"
     ]
    },
    {
     "name": "stderr",
     "output_type": "stream",
     "text": [
      "INFO:root:11922 Transiting planet systems generated (target 20000)\n",
      "INFO:root:19769 Transiting planet systems generated (target 20000)\n",
      "INFO:root:20032 Transiting planet systems generated (target 20000)\n",
      "INFO:root:Fitting trapezoid models for Planets...\n",
      "INFO:root:Done.g shape parameters for 20000 systems:  99% |\\\\\\\\ | ETA:  0:00:00\n",
      "INFO:root:MultiNest basename: ./chains/Kepler353\n"
     ]
    },
    {
     "name": "stdout",
     "output_type": "stream",
     "text": [
      "16\n"
     ]
    },
    {
     "name": "stderr",
     "output_type": "stream",
     "text": [
      "INFO:root:13915 Transiting planet systems generated (target 20000)\n",
      "INFO:root:20635 Transiting planet systems generated (target 20000)\n",
      "INFO:root:Fitting trapezoid models for Planets...\n",
      "INFO:root:Done.g shape parameters for 20000 systems:  99% |\\\\\\\\ | ETA:  0:00:00\n",
      "INFO:root:MultiNest basename: ./chains/Kepler390\n"
     ]
    },
    {
     "name": "stdout",
     "output_type": "stream",
     "text": [
      "17\n"
     ]
    },
    {
     "name": "stderr",
     "output_type": "stream",
     "text": [
      "INFO:root:10716 Transiting planet systems generated (target 20000)\n",
      "INFO:root:20764 Transiting planet systems generated (target 20000)\n",
      "INFO:root:Fitting trapezoid models for Planets...\n",
      "INFO:root:Done.g shape parameters for 20000 systems:  99% |\\\\\\\\ | ETA:  0:00:00\n",
      "INFO:root:MultiNest basename: ./chains/Kepler411\n"
     ]
    },
    {
     "name": "stdout",
     "output_type": "stream",
     "text": [
      "18\n"
     ]
    },
    {
     "name": "stderr",
     "output_type": "stream",
     "text": [
      "INFO:root:10041 Transiting planet systems generated (target 20000)\n",
      "INFO:root:20587 Transiting planet systems generated (target 20000)\n",
      "INFO:root:Fitting trapezoid models for Planets...\n",
      "INFO:root:Done.g shape parameters for 20000 systems:  99% |\\\\\\\\ | ETA:  0:00:00\n",
      "INFO:root:MultiNest basename: ./chains/Kepler432\n"
     ]
    },
    {
     "name": "stdout",
     "output_type": "stream",
     "text": [
      "19\n"
     ]
    },
    {
     "name": "stderr",
     "output_type": "stream",
     "text": [
      "INFO:root:17565 Transiting planet systems generated (target 20000)\n",
      "INFO:root:20211 Transiting planet systems generated (target 20000)\n",
      "INFO:root:Fitting trapezoid models for Planets...\n",
      "INFO:root:Done.g shape parameters for 20000 systems:  99% |\\\\\\\\ | ETA:  0:00:00\n",
      "INFO:root:MultiNest basename: ./chains/Kepler454\n"
     ]
    },
    {
     "name": "stdout",
     "output_type": "stream",
     "text": [
      "20\n"
     ]
    },
    {
     "name": "stderr",
     "output_type": "stream",
     "text": [
      "INFO:root:14524 Transiting planet systems generated (target 20000)\n",
      "INFO:root:20102 Transiting planet systems generated (target 20000)\n",
      "INFO:root:Fitting trapezoid models for Planets...\n",
      "INFO:root:Done.g shape parameters for 20000 systems:  99% |\\\\\\\\ | ETA:  0:00:00\n",
      "INFO:root:MultiNest basename: ./chains/Kepler477\n"
     ]
    },
    {
     "name": "stdout",
     "output_type": "stream",
     "text": [
      "21\n"
     ]
    },
    {
     "name": "stderr",
     "output_type": "stream",
     "text": [
      "INFO:root:12034 Transiting planet systems generated (target 20000)\n",
      "INFO:root:20099 Transiting planet systems generated (target 20000)\n",
      "INFO:root:Fitting trapezoid models for Planets...\n",
      "INFO:root:Done.g shape parameters for 20000 systems:  99% |\\\\\\\\ | ETA:  0:00:00\n",
      "INFO:root:MultiNest basename: ./chains/Kepler514\n"
     ]
    },
    {
     "name": "stdout",
     "output_type": "stream",
     "text": [
      "22\n"
     ]
    },
    {
     "name": "stderr",
     "output_type": "stream",
     "text": [
      "INFO:root:10581 Transiting planet systems generated (target 20000)\n",
      "INFO:root:21222 Transiting planet systems generated (target 20000)\n",
      "INFO:root:Fitting trapezoid models for Planets...\n",
      "INFO:root:Done.g shape parameters for 20000 systems:  99% |\\\\\\\\ | ETA:  0:00:00\n",
      "INFO:root:MultiNest basename: ./chains/Kepler517\n"
     ]
    },
    {
     "name": "stdout",
     "output_type": "stream",
     "text": [
      "23\n"
     ]
    },
    {
     "name": "stderr",
     "output_type": "stream",
     "text": [
      "INFO:root:13119 Transiting planet systems generated (target 20000)\n",
      "INFO:root:20013 Transiting planet systems generated (target 20000)\n",
      "INFO:root:Fitting trapezoid models for Planets...\n",
      "INFO:root:Done.g shape parameters for 20000 systems:  99% |\\\\\\\\ | ETA:  0:00:00\n",
      "INFO:root:MultiNest basename: ./chains/Kepler519\n"
     ]
    },
    {
     "name": "stdout",
     "output_type": "stream",
     "text": [
      "24\n"
     ]
    },
    {
     "name": "stderr",
     "output_type": "stream",
     "text": [
      "INFO:root:11302 Transiting planet systems generated (target 20000)\n",
      "INFO:root:19746 Transiting planet systems generated (target 20000)\n",
      "INFO:root:20029 Transiting planet systems generated (target 20000)\n",
      "INFO:root:Fitting trapezoid models for Planets...\n",
      "INFO:root:Done.g shape parameters for 20000 systems:  99% |\\\\\\\\ | ETA:  0:00:00\n",
      "INFO:root:MultiNest basename: ./chains/Kepler530\n"
     ]
    },
    {
     "name": "stdout",
     "output_type": "stream",
     "text": [
      "25\n"
     ]
    },
    {
     "name": "stderr",
     "output_type": "stream",
     "text": [
      "INFO:root:12323 Transiting planet systems generated (target 20000)\n",
      "INFO:root:20176 Transiting planet systems generated (target 20000)\n",
      "INFO:root:Fitting trapezoid models for Planets...\n",
      "INFO:root:Done.g shape parameters for 20000 systems:  99% |\\\\\\\\ | ETA:  0:00:00\n",
      "INFO:root:MultiNest basename: ./chains/Kepler538\n"
     ]
    },
    {
     "name": "stdout",
     "output_type": "stream",
     "text": [
      "26\n"
     ]
    },
    {
     "name": "stderr",
     "output_type": "stream",
     "text": [
      "INFO:root:13659 Transiting planet systems generated (target 20000)\n",
      "INFO:root:20103 Transiting planet systems generated (target 20000)\n",
      "INFO:root:Fitting trapezoid models for Planets...\n",
      "INFO:root:Done.g shape parameters for 20000 systems:  99% |\\\\\\\\ | ETA:  0:00:00\n",
      "INFO:root:MultiNest basename: ./chains/Kepler560\n"
     ]
    },
    {
     "name": "stdout",
     "output_type": "stream",
     "text": [
      "27\n"
     ]
    },
    {
     "name": "stderr",
     "output_type": "stream",
     "text": [
      "INFO:root:13203 Transiting planet systems generated (target 20000)\n",
      "INFO:root:20567 Transiting planet systems generated (target 20000)\n",
      "INFO:root:Fitting trapezoid models for Planets...\n",
      "INFO:root:Done.g shape parameters for 20000 systems:  99% |\\\\\\\\ | ETA:  0:00:00\n",
      "INFO:root:MultiNest basename: ./chains/Kepler636\n"
     ]
    },
    {
     "name": "stdout",
     "output_type": "stream",
     "text": [
      "28\n"
     ]
    },
    {
     "name": "stderr",
     "output_type": "stream",
     "text": [
      "INFO:root:11989 Transiting planet systems generated (target 20000)\n",
      "INFO:root:20250 Transiting planet systems generated (target 20000)\n",
      "INFO:root:Fitting trapezoid models for Planets...\n",
      "INFO:root:Done.g shape parameters for 20000 systems:  99% |\\\\\\\\ | ETA:  0:00:00\n",
      "INFO:root:MultiNest basename: ./chains/Kepler693\n"
     ]
    },
    {
     "name": "stdout",
     "output_type": "stream",
     "text": [
      "29\n"
     ]
    },
    {
     "name": "stderr",
     "output_type": "stream",
     "text": [
      "INFO:root:10914 Transiting planet systems generated (target 20000)\n",
      "INFO:root:19923 Transiting planet systems generated (target 20000)\n",
      "INFO:root:20021 Transiting planet systems generated (target 20000)\n",
      "INFO:root:Fitting trapezoid models for Planets...\n",
      "INFO:root:Done.g shape parameters for 20000 systems:  99% |\\\\\\\\ | ETA:  0:00:00\n",
      "INFO:root:MultiNest basename: ./chains/Kepler743\n"
     ]
    },
    {
     "name": "stdout",
     "output_type": "stream",
     "text": [
      "30\n"
     ]
    },
    {
     "name": "stderr",
     "output_type": "stream",
     "text": [
      "INFO:root:9031 Transiting planet systems generated (target 20000)\n",
      "INFO:root:21966 Transiting planet systems generated (target 20000)\n",
      "INFO:root:Fitting trapezoid models for Planets...\n",
      "INFO:root:Done.g shape parameters for 20000 systems:  99% |\\\\\\\\ | ETA:  0:00:00\n",
      "INFO:root:MultiNest basename: ./chains/Kepler755\n"
     ]
    },
    {
     "name": "stdout",
     "output_type": "stream",
     "text": [
      "31\n"
     ]
    },
    {
     "name": "stderr",
     "output_type": "stream",
     "text": [
      "INFO:root:8641 Transiting planet systems generated (target 20000)\n",
      "INFO:root:22343 Transiting planet systems generated (target 20000)\n",
      "INFO:root:Fitting trapezoid models for Planets...\n",
      "INFO:root:Done.g shape parameters for 20000 systems:  99% |\\\\\\\\ | ETA:  0:00:00\n",
      "INFO:root:MultiNest basename: ./chains/Kepler779\n"
     ]
    },
    {
     "name": "stdout",
     "output_type": "stream",
     "text": [
      "32\n"
     ]
    },
    {
     "name": "stderr",
     "output_type": "stream",
     "text": [
      "INFO:root:12149 Transiting planet systems generated (target 20000)\n",
      "INFO:root:21124 Transiting planet systems generated (target 20000)\n",
      "INFO:root:Fitting trapezoid models for Planets...\n",
      "INFO:root:Done.g shape parameters for 20000 systems:  99% |\\\\\\\\ | ETA:  0:00:00\n",
      "INFO:root:MultiNest basename: ./chains/Kepler795\n"
     ]
    },
    {
     "name": "stdout",
     "output_type": "stream",
     "text": [
      "33\n"
     ]
    },
    {
     "name": "stderr",
     "output_type": "stream",
     "text": [
      "INFO:root:12550 Transiting planet systems generated (target 20000)\n",
      "INFO:root:19898 Transiting planet systems generated (target 20000)\n",
      "INFO:root:20014 Transiting planet systems generated (target 20000)\n",
      "INFO:root:Fitting trapezoid models for Planets...\n",
      "INFO:root:Done.g shape parameters for 20000 systems:  99% |\\\\\\\\ | ETA:  0:00:00\n",
      "INFO:root:MultiNest basename: ./chains/Kepler83\n"
     ]
    },
    {
     "name": "stdout",
     "output_type": "stream",
     "text": [
      "34\n"
     ]
    },
    {
     "name": "stderr",
     "output_type": "stream",
     "text": [
      "INFO:root:13763 Transiting planet systems generated (target 20000)\n",
      "INFO:root:20322 Transiting planet systems generated (target 20000)\n",
      "INFO:root:Fitting trapezoid models for Planets...\n",
      "INFO:root:Done.g shape parameters for 20000 systems:  99% |\\\\\\\\ | ETA:  0:00:00\n",
      "INFO:root:MultiNest basename: ./chains/Kepler951\n"
     ]
    },
    {
     "name": "stdout",
     "output_type": "stream",
     "text": [
      "35\n"
     ]
    },
    {
     "name": "stderr",
     "output_type": "stream",
     "text": [
      "INFO:root:12321 Transiting planet systems generated (target 20000)\n",
      "INFO:root:19870 Transiting planet systems generated (target 20000)\n",
      "INFO:root:20007 Transiting planet systems generated (target 20000)\n",
      "INFO:root:Fitting trapezoid models for Planets...\n",
      "INFO:root:Done.g shape parameters for 20000 systems:  99% |\\\\\\\\ | ETA:  0:00:00\n",
      "INFO:root:MultiNest basename: ./chains/Kepler970\n"
     ]
    },
    {
     "name": "stdout",
     "output_type": "stream",
     "text": [
      "36\n"
     ]
    },
    {
     "name": "stderr",
     "output_type": "stream",
     "text": [
      "INFO:root:10962 Transiting planet systems generated (target 20000)\n",
      "INFO:root:20787 Transiting planet systems generated (target 20000)\n",
      "INFO:root:Fitting trapezoid models for Planets...\n",
      "INFO:root:Done.g shape parameters for 20000 systems:  99% |\\\\\\\\ | ETA:  0:00:00\n"
     ]
    }
   ],
   "source": [
    "from pipeline_plpop import *\n",
    "import pandas as pd\n",
    "import numpy as np\n",
    "data = pd.read_csv('plpop_sample_v4.csv')\n",
    "data_ = pd.DataFrame()\n",
    "MAfn = MAInterpolationFunction(pmin=0.007, pmax=1, nzs=200, nps=400)\n",
    "for index in range(len(data)):\n",
    "    print(index)\n",
    "    \n",
    "    items = Calculate_multiband_transit(data.iloc[index].copy(),MAfn)\n",
    "    data_ = data_.append(items,ignore_index=True)\n",
    "    data_.to_csv('plpop_results_5_22.csv',index=None)\n",
    "    \n"
   ]
  },
  {
   "cell_type": "code",
   "execution_count": 1,
   "metadata": {
    "scrolled": true
   },
   "outputs": [
    {
     "name": "stderr",
     "output_type": "stream",
     "text": [
      "/Users/neptune/opt/anaconda3/lib/python3.7/site-packages/numpy/lib/npyio.py:2322: VisibleDeprecationWarning: Reading unicode strings without specifying the encoding argument is deprecated. Set the encoding, use None for the system default.\n",
      "  output = genfromtxt(fname, **kwargs)\n",
      "WARNING:root:sklearn not available\n"
     ]
    },
    {
     "name": "stdout",
     "output_type": "stream",
     "text": [
      "0 K00178.01\n"
     ]
    },
    {
     "name": "stderr",
     "output_type": "stream",
     "text": [
      "INFO:root:Loading TRILEGAL simulation from /Users/neptune/Documents/Thesis/pipeline/data_beb_2/K00178.01/K00178.01_starfield.h5\n",
      "Exception ignored in: <_io.FileIO name='/Users/neptune/.isochrones/dartmouth.tri' mode='rb' closefd=True>\n",
      "ResourceWarning: unclosed file <_io.BufferedReader name='/Users/neptune/.isochrones/dartmouth.tri'>\n",
      "Exception ignored in: <_io.FileIO name='/Users/neptune/.isochrones/dartmouth.tri' mode='rb' closefd=True>\n",
      "ResourceWarning: unclosed file <_io.BufferedReader name='/Users/neptune/.isochrones/dartmouth.tri'>\n",
      "WARNING:root:0 M1s are nan\n",
      "WARNING:root:85 M2s are nan\n",
      "WARNING:root:0 R1s are nan\n",
      "WARNING:root:85 R2s are nan\n",
      "INFO:root:226 binaries are \"too close\"; gave up trying to fix.\n",
      "INFO:root:3982 BEB systems generated (target 25000)\n",
      "WARNING:root:0 M1s are nan\n",
      "WARNING:root:671 M2s are nan\n",
      "WARNING:root:0 R1s are nan\n",
      "WARNING:root:671 R2s are nan\n",
      "INFO:root:1504 binaries are \"too close\"; gave up trying to fix.\n",
      "INFO:root:29216 BEB systems generated (target 25000)\n",
      "INFO:root:Fitting trapezoid models for BEBs...\n",
      "INFO:root:Done.hape parameters for 20362 systems:  99% |\\\\\\\\\\\\\\ | ETA:  0:00:00\n",
      "INFO:root:Fitting trapezoid models for BEBs...\n",
      "INFO:root:Done.hape parameters for 20362 systems:  99% |\\\\\\\\\\\\\\ | ETA:  0:00:00\n",
      "INFO:root:Fitting trapezoid models for BEBs...\n",
      "INFO:root:Done.hape parameters for 20362 systems:  99% |\\\\\\\\\\\\\\ | ETA:  0:00:00\n",
      "INFO:root:Fitting trapezoid models for BEBs...\n",
      "INFO:root:Done.hape parameters for 20362 systems:  99% |\\\\\\\\\\\\\\ | ETA:  0:00:00\n",
      "INFO:root:Fitting trapezoid models for BEBs...\n",
      "INFO:root:Done.hape parameters for 20362 systems:  99% |\\\\\\\\\\\\\\ | ETA:  0:00:00\n",
      "INFO:root:Fitting trapezoid models for BEBs...\n",
      "INFO:root:Done.hape parameters for 20362 systems:  99% |\\\\\\\\\\\\\\ | ETA:  0:00:00\n",
      "INFO:root:Fitting trapezoid models for BEBs...\n",
      "INFO:root:Done.hape parameters for 20362 systems:  99% |\\\\\\\\\\\\\\ | ETA:  0:00:00\n",
      "INFO:root:Fitting trapezoid models for BEBs...\n",
      "INFO:root:Done.hape parameters for 20362 systems:  99% |\\\\\\\\\\\\\\ | ETA:  0:00:00\n",
      "INFO:root:Fitting trapezoid models for BEBs...\n",
      "INFO:root:Done.hape parameters for 20362 systems:  99% |\\\\\\\\\\\\\\ | ETA:  0:00:00\n"
     ]
    },
    {
     "name": "stdout",
     "output_type": "stream",
     "text": [
      "1 K00549.01\n"
     ]
    },
    {
     "name": "stderr",
     "output_type": "stream",
     "text": [
      "INFO:root:Loading TRILEGAL simulation from /Users/neptune/Documents/Thesis/pipeline/data_beb_2/K00549.01/K00549.01_starfield.h5\n",
      "WARNING:root:0 M1s are nan\n",
      "WARNING:root:112 M2s are nan\n",
      "WARNING:root:0 R1s are nan\n",
      "WARNING:root:112 R2s are nan\n",
      "INFO:root:167 binaries are \"too close\"; gave up trying to fix.\n",
      "INFO:root:4383 BEB systems generated (target 25000)\n",
      "WARNING:root:0 M1s are nan\n",
      "WARNING:root:571 M2s are nan\n",
      "WARNING:root:0 R1s are nan\n",
      "WARNING:root:571 R2s are nan\n",
      "INFO:root:864 binaries are \"too close\"; gave up trying to fix.\n",
      "INFO:root:29432 BEB systems generated (target 25000)\n",
      "INFO:root:Fitting trapezoid models for BEBs...\n",
      "ERROR:root:No eclipse registered for star 3813ms:  22% |-       | ETA:  0:00:21\n",
      "INFO:root:Done.hape parameters for 17206 systems:  99% |\\\\\\\\\\\\\\ | ETA:  0:00:00\n",
      "INFO:root:Fitting trapezoid models for BEBs...\n",
      "ERROR:root:No eclipse registered for star 3813ms:  22% |-       | ETA:  0:00:21\n",
      "INFO:root:Done.hape parameters for 17206 systems:  99% |\\\\\\\\\\\\\\ | ETA:  0:00:00\n",
      "INFO:root:Fitting trapezoid models for BEBs...\n",
      "ERROR:root:No eclipse registered for star 3813ms:  22% |-       | ETA:  0:00:21\n",
      "INFO:root:Done.hape parameters for 17206 systems:  99% |\\\\\\\\\\\\\\ | ETA:  0:00:00\n",
      "INFO:root:Fitting trapezoid models for BEBs...\n",
      "ERROR:root:No eclipse registered for star 3813ms:  22% |-       | ETA:  0:00:21\n",
      "INFO:root:Done.hape parameters for 17206 systems:  99% |\\\\\\\\\\\\\\ | ETA:  0:00:00\n",
      "INFO:root:Fitting trapezoid models for BEBs...\n",
      "ERROR:root:No eclipse registered for star 3813ms:  22% |-       | ETA:  0:00:21\n",
      "INFO:root:Done.hape parameters for 17206 systems:  99% |\\\\\\\\\\\\\\ | ETA:  0:00:00\n",
      "INFO:root:Fitting trapezoid models for BEBs...\n",
      "ERROR:root:No eclipse registered for star 3813ms:  22% |-       | ETA:  0:00:21\n",
      "INFO:root:Done.hape parameters for 17206 systems:  99% |\\\\\\\\\\\\\\ | ETA:  0:00:00\n",
      "INFO:root:Fitting trapezoid models for BEBs...\n",
      "ERROR:root:No eclipse registered for star 3813ms:  22% |-       | ETA:  0:00:21\n",
      "INFO:root:Done.hape parameters for 17206 systems:  99% |\\\\\\\\\\\\\\ | ETA:  0:00:00\n",
      "INFO:root:Fitting trapezoid models for BEBs...\n",
      "ERROR:root:No eclipse registered for star 3813ms:  22% |-       | ETA:  0:00:21\n",
      "INFO:root:Done.hape parameters for 17206 systems:  99% |\\\\\\\\\\\\\\ | ETA:  0:00:00\n",
      "INFO:root:Fitting trapezoid models for BEBs...\n",
      "ERROR:root:No eclipse registered for star 3813ms:  22% |-       | ETA:  0:00:21\n",
      "INFO:root:Done.hape parameters for 17206 systems:  99% |\\\\\\\\\\\\\\ | ETA:  0:00:00\n"
     ]
    },
    {
     "name": "stdout",
     "output_type": "stream",
     "text": [
      "2 K00549.02\n"
     ]
    },
    {
     "name": "stderr",
     "output_type": "stream",
     "text": [
      "INFO:root:Loading TRILEGAL simulation from /Users/neptune/Documents/Thesis/pipeline/data_beb_2/K00549.02/K00549.02_starfield.h5\n",
      "WARNING:root:0 M1s are nan\n",
      "WARNING:root:123 M2s are nan\n",
      "WARNING:root:0 R1s are nan\n",
      "WARNING:root:123 R2s are nan\n",
      "INFO:root:3037 binaries are \"too close\"; gave up trying to fix.\n",
      "INFO:root:11215 BEB systems generated (target 25000)\n",
      "WARNING:root:0 M1s are nan\n",
      "WARNING:root:118 M2s are nan\n",
      "WARNING:root:0 R1s are nan\n",
      "WARNING:root:118 R2s are nan\n",
      "INFO:root:4556 binaries are \"too close\"; gave up trying to fix.\n",
      "INFO:root:27631 BEB systems generated (target 25000)\n",
      "INFO:root:Fitting trapezoid models for BEBs...\n",
      "INFO:root:Done.hape parameters for 23172 systems:  99% |\\\\\\\\\\\\\\ | ETA:  0:00:00\n",
      "INFO:root:Fitting trapezoid models for BEBs...\n",
      "INFO:root:Done.hape parameters for 23172 systems:  99% |\\\\\\\\\\\\\\ | ETA:  0:00:00\n",
      "INFO:root:Fitting trapezoid models for BEBs...\n",
      "INFO:root:Done.hape parameters for 23172 systems:  99% |\\\\\\\\\\\\\\ | ETA:  0:00:00\n",
      "INFO:root:Fitting trapezoid models for BEBs...\n",
      "INFO:root:Done.hape parameters for 23172 systems:  99% |\\\\\\\\\\\\\\ | ETA:  0:00:00\n",
      "INFO:root:Fitting trapezoid models for BEBs...\n",
      "INFO:root:Done.hape parameters for 23172 systems:  99% |\\\\\\\\\\\\\\ | ETA:  0:00:00\n",
      "INFO:root:Fitting trapezoid models for BEBs...\n",
      "INFO:root:Done.hape parameters for 23172 systems:  99% |\\\\\\\\\\\\\\ | ETA:  0:00:00\n",
      "INFO:root:Fitting trapezoid models for BEBs...\n",
      "INFO:root:Done.hape parameters for 23172 systems:  99% |\\\\\\\\\\\\\\ | ETA:  0:00:00\n",
      "INFO:root:Fitting trapezoid models for BEBs...\n",
      "INFO:root:Done.hape parameters for 23172 systems:  99% |\\\\\\\\\\\\\\ | ETA:  0:00:00\n",
      "INFO:root:Fitting trapezoid models for BEBs...\n",
      "INFO:root:Done.hape parameters for 23172 systems:  99% |\\\\\\\\\\\\\\ | ETA:  0:00:00\n"
     ]
    },
    {
     "name": "stdout",
     "output_type": "stream",
     "text": [
      "3 K00495.01\n"
     ]
    },
    {
     "name": "stderr",
     "output_type": "stream",
     "text": [
      "INFO:root:Loading TRILEGAL simulation from /Users/neptune/Documents/Thesis/pipeline/data_beb_2/K00495.01/K00495.01_starfield.h5\n",
      "WARNING:root:0 M1s are nan\n",
      "WARNING:root:87 M2s are nan\n",
      "WARNING:root:0 R1s are nan\n",
      "WARNING:root:87 R2s are nan\n",
      "INFO:root:200 binaries are \"too close\"; gave up trying to fix.\n",
      "INFO:root:3736 BEB systems generated (target 25000)\n",
      "WARNING:root:0 M1s are nan\n",
      "WARNING:root:564 M2s are nan\n",
      "WARNING:root:0 R1s are nan\n",
      "WARNING:root:564 R2s are nan\n",
      "INFO:root:1191 binaries are \"too close\"; gave up trying to fix.\n",
      "INFO:root:29823 BEB systems generated (target 25000)\n",
      "INFO:root:Fitting trapezoid models for BEBs...\n",
      "ERROR:root:No eclipse registered for star 16822s:  84% |||||||  | ETA:  0:00:04\n",
      "INFO:root:Done.hape parameters for 19908 systems:  99% |\\\\\\\\\\\\\\ | ETA:  0:00:00\n",
      "INFO:root:Fitting trapezoid models for BEBs...\n",
      "ERROR:root:No eclipse registered for star 16822s:  84% |||||||  | ETA:  0:00:04\n",
      "INFO:root:Done.hape parameters for 19908 systems:  99% |\\\\\\\\\\\\\\ | ETA:  0:00:00\n",
      "INFO:root:Fitting trapezoid models for BEBs...\n",
      "ERROR:root:No eclipse registered for star 16822s:  84% |||||||  | ETA:  0:00:04\n",
      "INFO:root:Done.hape parameters for 19908 systems:  99% |\\\\\\\\\\\\\\ | ETA:  0:00:00\n",
      "INFO:root:Fitting trapezoid models for BEBs...\n",
      "ERROR:root:No eclipse registered for star 16822s:  84% |||||||  | ETA:  0:00:04\n",
      "INFO:root:Done.hape parameters for 19908 systems:  99% |\\\\\\\\\\\\\\ | ETA:  0:00:00\n",
      "INFO:root:Fitting trapezoid models for BEBs...\n",
      "ERROR:root:No eclipse registered for star 16822s:  84% |||||||  | ETA:  0:00:04\n",
      "INFO:root:Done.hape parameters for 19908 systems:  99% |\\\\\\\\\\\\\\ | ETA:  0:00:00\n",
      "INFO:root:Fitting trapezoid models for BEBs...\n",
      "ERROR:root:No eclipse registered for star 16822s:  84% |||||||  | ETA:  0:00:04\n",
      "INFO:root:Done.hape parameters for 19908 systems:  99% |\\\\\\\\\\\\\\ | ETA:  0:00:00\n",
      "INFO:root:Fitting trapezoid models for BEBs...\n",
      "ERROR:root:No eclipse registered for star 16822s:  84% |||||||  | ETA:  0:00:04\n",
      "INFO:root:Done.hape parameters for 19908 systems:  99% |\\\\\\\\\\\\\\ | ETA:  0:00:00\n",
      "INFO:root:Fitting trapezoid models for BEBs...\n",
      "ERROR:root:No eclipse registered for star 16822s:  84% |||||||  | ETA:  0:00:04\n",
      "INFO:root:Done.hape parameters for 19908 systems:  99% |\\\\\\\\\\\\\\ | ETA:  0:00:00\n",
      "INFO:root:Fitting trapezoid models for BEBs...\n",
      "ERROR:root:No eclipse registered for star 16822s:  84% |||||||  | ETA:  0:00:04\n",
      "INFO:root:Done.hape parameters for 19908 systems:  99% |\\\\\\\\\\\\\\ | ETA:  0:00:00\n"
     ]
    },
    {
     "name": "stdout",
     "output_type": "stream",
     "text": [
      "4 K01025.01\n"
     ]
    },
    {
     "name": "stderr",
     "output_type": "stream",
     "text": [
      "INFO:root:Loading TRILEGAL simulation from /Users/neptune/Documents/Thesis/pipeline/data_beb_2/K01025.01/K01025.01_starfield.h5\n",
      "WARNING:root:0 M1s are nan\n",
      "WARNING:root:95 M2s are nan\n",
      "WARNING:root:0 R1s are nan\n",
      "WARNING:root:95 R2s are nan\n",
      "INFO:root:141 binaries are \"too close\"; gave up trying to fix.\n",
      "INFO:root:2212 BEB systems generated (target 25000)\n",
      "WARNING:root:0 M1s are nan\n",
      "WARNING:root:1167 M2s are nan\n",
      "WARNING:root:0 R1s are nan\n",
      "WARNING:root:1167 R2s are nan\n",
      "INFO:root:1538 binaries are \"too close\"; gave up trying to fix.\n",
      "INFO:root:23553 BEB systems generated (target 25000)\n",
      "WARNING:root:0 M1s are nan\n",
      "WARNING:root:90 M2s are nan\n",
      "WARNING:root:0 R1s are nan\n",
      "WARNING:root:90 R2s are nan\n",
      "INFO:root:119 binaries are \"too close\"; gave up trying to fix.\n",
      "INFO:root:25332 BEB systems generated (target 25000)\n",
      "INFO:root:Fitting trapezoid models for BEBs...\n",
      "INFO:root:Done.hape parameters for 15850 systems:  99% |\\\\\\\\\\\\\\ | ETA:  0:00:00\n",
      "INFO:root:Fitting trapezoid models for BEBs...\n",
      "INFO:root:Done.hape parameters for 15850 systems:  99% |\\\\\\\\\\\\\\ | ETA:  0:00:00\n",
      "INFO:root:Fitting trapezoid models for BEBs...\n",
      "INFO:root:Done.hape parameters for 15850 systems:  99% |\\\\\\\\\\\\\\ | ETA:  0:00:00\n",
      "INFO:root:Fitting trapezoid models for BEBs...\n",
      "INFO:root:Done.hape parameters for 15850 systems:  99% |\\\\\\\\\\\\\\ | ETA:  0:00:00\n",
      "INFO:root:Fitting trapezoid models for BEBs...\n",
      "INFO:root:Done.hape parameters for 15850 systems:  99% |\\\\\\\\\\\\\\ | ETA:  0:00:00\n",
      "INFO:root:Fitting trapezoid models for BEBs...\n",
      "INFO:root:Done.hape parameters for 15850 systems:  99% |\\\\\\\\\\\\\\ | ETA:  0:00:00\n",
      "INFO:root:Fitting trapezoid models for BEBs...\n",
      "INFO:root:Done.hape parameters for 15850 systems:  99% |\\\\\\\\\\\\\\ | ETA:  0:00:00\n",
      "INFO:root:Fitting trapezoid models for BEBs...\n",
      "INFO:root:Done.hape parameters for 15850 systems:  99% |\\\\\\\\\\\\\\ | ETA:  0:00:00\n",
      "INFO:root:Fitting trapezoid models for BEBs...\n",
      "INFO:root:Done.hape parameters for 15850 systems:  99% |\\\\\\\\\\\\\\ | ETA:  0:00:00\n"
     ]
    },
    {
     "name": "stdout",
     "output_type": "stream",
     "text": [
      "5 K01459.01\n"
     ]
    },
    {
     "name": "stderr",
     "output_type": "stream",
     "text": [
      "INFO:root:Loading TRILEGAL simulation from /Users/neptune/Documents/Thesis/pipeline/data_beb_2/K01459.01/K01459.01_starfield.h5\n",
      "WARNING:root:0 M1s are nan\n",
      "WARNING:root:66 M2s are nan\n",
      "WARNING:root:0 R1s are nan\n",
      "WARNING:root:66 R2s are nan\n",
      "INFO:root:1073 binaries are \"too close\"; gave up trying to fix.\n",
      "INFO:root:10291 BEB systems generated (target 25000)\n",
      "WARNING:root:0 M1s are nan\n",
      "WARNING:root:138 M2s are nan\n",
      "WARNING:root:0 R1s are nan\n",
      "WARNING:root:138 R2s are nan\n",
      "INFO:root:1917 binaries are \"too close\"; gave up trying to fix.\n",
      "INFO:root:27816 BEB systems generated (target 25000)\n",
      "INFO:root:Fitting trapezoid models for BEBs...\n",
      "INFO:root:Done.hape parameters for 21294 systems:  99% |\\\\\\\\\\\\\\ | ETA:  0:00:00\n",
      "INFO:root:Fitting trapezoid models for BEBs...\n",
      "INFO:root:Done.hape parameters for 21294 systems:  99% |\\\\\\\\\\\\\\ | ETA:  0:00:00\n",
      "INFO:root:Fitting trapezoid models for BEBs...\n",
      "INFO:root:Done.hape parameters for 21294 systems:  99% |\\\\\\\\\\\\\\ | ETA:  0:00:00\n",
      "INFO:root:Fitting trapezoid models for BEBs...\n",
      "INFO:root:Done.hape parameters for 21294 systems:  99% |\\\\\\\\\\\\\\ | ETA:  0:00:00\n",
      "INFO:root:Fitting trapezoid models for BEBs...\n",
      "INFO:root:Done.hape parameters for 21294 systems:  99% |\\\\\\\\\\\\\\ | ETA:  0:00:00\n",
      "INFO:root:Fitting trapezoid models for BEBs...\n",
      "INFO:root:Done.hape parameters for 21294 systems:  99% |\\\\\\\\\\\\\\ | ETA:  0:00:00\n",
      "INFO:root:Fitting trapezoid models for BEBs...\n",
      "INFO:root:Done.hape parameters for 21294 systems:  99% |\\\\\\\\\\\\\\ | ETA:  0:00:00\n",
      "INFO:root:Fitting trapezoid models for BEBs...\n",
      "INFO:root:Done.hape parameters for 21294 systems:  99% |\\\\\\\\\\\\\\ | ETA:  0:00:00\n",
      "INFO:root:Fitting trapezoid models for BEBs...\n",
      "INFO:root:Done.hape parameters for 21294 systems:  99% |\\\\\\\\\\\\\\ | ETA:  0:00:00\n"
     ]
    },
    {
     "name": "stdout",
     "output_type": "stream",
     "text": [
      "6 K01461.01\n"
     ]
    },
    {
     "name": "stderr",
     "output_type": "stream",
     "text": [
      "INFO:root:Loading TRILEGAL simulation from /Users/neptune/Documents/Thesis/pipeline/data_beb_2/K01461.01/K01461.01_starfield.h5\n",
      "WARNING:root:0 M1s are nan\n",
      "WARNING:root:78 M2s are nan\n",
      "WARNING:root:0 R1s are nan\n",
      "WARNING:root:78 R2s are nan\n",
      "INFO:root:152 binaries are \"too close\"; gave up trying to fix.\n",
      "INFO:root:2934 BEB systems generated (target 25000)\n",
      "WARNING:root:0 M1s are nan\n",
      "WARNING:root:682 M2s are nan\n",
      "WARNING:root:0 R1s are nan\n",
      "WARNING:root:682 R2s are nan\n",
      "INFO:root:1262 binaries are \"too close\"; gave up trying to fix.\n",
      "INFO:root:27117 BEB systems generated (target 25000)\n",
      "INFO:root:Fitting trapezoid models for BEBs...\n",
      "ERROR:root:No eclipse registered for star 14799s:  81% |//////  | ETA:  0:00:05\n",
      "INFO:root:Done.hape parameters for 18170 systems:  99% |\\\\\\\\\\\\\\ | ETA:  0:00:00\n",
      "INFO:root:Fitting trapezoid models for BEBs...\n",
      "ERROR:root:No eclipse registered for star 14799s:  81% |//////  | ETA:  0:00:05\n",
      "INFO:root:Done.hape parameters for 18170 systems:  99% |\\\\\\\\\\\\\\ | ETA:  0:00:00\n",
      "INFO:root:Fitting trapezoid models for BEBs...\n",
      "ERROR:root:No eclipse registered for star 14799s:  81% |//////  | ETA:  0:00:05\n",
      "INFO:root:Done.hape parameters for 18170 systems:  99% |\\\\\\\\\\\\\\ | ETA:  0:00:00\n",
      "INFO:root:Fitting trapezoid models for BEBs...\n",
      "ERROR:root:No eclipse registered for star 14799s:  81% |//////  | ETA:  0:00:05\n",
      "INFO:root:Done.hape parameters for 18170 systems:  99% |\\\\\\\\\\\\\\ | ETA:  0:00:00\n",
      "INFO:root:Fitting trapezoid models for BEBs...\n",
      "ERROR:root:No eclipse registered for star 14799s:  81% |//////  | ETA:  0:00:05\n",
      "INFO:root:Done.hape parameters for 18170 systems:  99% |\\\\\\\\\\\\\\ | ETA:  0:00:00\n",
      "INFO:root:Fitting trapezoid models for BEBs...\n",
      "ERROR:root:No eclipse registered for star 14799s:  81% |//////  | ETA:  0:00:05\n",
      "INFO:root:Done.hape parameters for 18170 systems:  99% |\\\\\\\\\\\\\\ | ETA:  0:00:00\n",
      "INFO:root:Fitting trapezoid models for BEBs...\n",
      "ERROR:root:No eclipse registered for star 14799s:  81% |//////  | ETA:  0:00:05\n",
      "INFO:root:Done.hape parameters for 18170 systems:  99% |\\\\\\\\\\\\\\ | ETA:  0:00:00\n",
      "INFO:root:Fitting trapezoid models for BEBs...\n",
      "ERROR:root:No eclipse registered for star 14799s:  81% |//////  | ETA:  0:00:05\n",
      "INFO:root:Done.hape parameters for 18170 systems:  99% |\\\\\\\\\\\\\\ | ETA:  0:00:00\n",
      "INFO:root:Fitting trapezoid models for BEBs...\n",
      "ERROR:root:No eclipse registered for star 14799s:  81% |//////  | ETA:  0:00:05\n",
      "INFO:root:Done.hape parameters for 18170 systems:  99% |\\\\\\\\\\\\\\ | ETA:  0:00:00\n"
     ]
    },
    {
     "name": "stdout",
     "output_type": "stream",
     "text": [
      "7 K00985.01\n"
     ]
    },
    {
     "name": "stderr",
     "output_type": "stream",
     "text": [
      "INFO:root:Loading TRILEGAL simulation from /Users/neptune/Documents/Thesis/pipeline/data_beb_2/K00985.01/K00985.01_starfield.h5\n",
      "WARNING:root:0 M1s are nan\n",
      "WARNING:root:116 M2s are nan\n",
      "WARNING:root:0 R1s are nan\n",
      "WARNING:root:116 R2s are nan\n",
      "INFO:root:336 binaries are \"too close\"; gave up trying to fix.\n",
      "INFO:root:7661 BEB systems generated (target 25000)\n",
      "WARNING:root:0 M1s are nan\n",
      "WARNING:root:312 M2s are nan\n",
      "WARNING:root:0 R1s are nan\n",
      "WARNING:root:312 R2s are nan\n",
      "INFO:root:938 binaries are \"too close\"; gave up trying to fix.\n",
      "INFO:root:27512 BEB systems generated (target 25000)\n",
      "INFO:root:Fitting trapezoid models for BEBs...\n",
      "INFO:root:Done.hape parameters for 19707 systems:  99% |\\\\\\\\\\\\\\ | ETA:  0:00:00\n",
      "INFO:root:Fitting trapezoid models for BEBs...\n",
      "INFO:root:Done.hape parameters for 19707 systems:  99% |\\\\\\\\\\\\\\ | ETA:  0:00:00\n",
      "INFO:root:Fitting trapezoid models for BEBs...\n",
      "INFO:root:Done.hape parameters for 19707 systems:  99% |\\\\\\\\\\\\\\ | ETA:  0:00:00\n",
      "INFO:root:Fitting trapezoid models for BEBs...\n",
      "INFO:root:Done.hape parameters for 19707 systems:  99% |\\\\\\\\\\\\\\ | ETA:  0:00:00\n",
      "INFO:root:Fitting trapezoid models for BEBs...\n",
      "INFO:root:Done.hape parameters for 19707 systems:  99% |\\\\\\\\\\\\\\ | ETA:  0:00:00\n",
      "INFO:root:Fitting trapezoid models for BEBs...\n",
      "INFO:root:Done.hape parameters for 19707 systems:  99% |\\\\\\\\\\\\\\ | ETA:  0:00:00\n",
      "INFO:root:Fitting trapezoid models for BEBs...\n",
      "INFO:root:Done.hape parameters for 19707 systems:  99% |\\\\\\\\\\\\\\ | ETA:  0:00:00\n",
      "INFO:root:Fitting trapezoid models for BEBs...\n",
      "INFO:root:Done.hape parameters for 19707 systems:  99% |\\\\\\\\\\\\\\ | ETA:  0:00:00\n",
      "INFO:root:Fitting trapezoid models for BEBs...\n",
      "INFO:root:Done.hape parameters for 19707 systems:  99% |\\\\\\\\\\\\\\ | ETA:  0:00:00\n"
     ]
    },
    {
     "name": "stdout",
     "output_type": "stream",
     "text": [
      "8 K01006.01\n"
     ]
    },
    {
     "name": "stderr",
     "output_type": "stream",
     "text": [
      "INFO:root:Loading TRILEGAL simulation from /Users/neptune/Documents/Thesis/pipeline/data_beb_2/K01006.01/K01006.01_starfield.h5\n",
      "WARNING:root:0 M1s are nan\n",
      "WARNING:root:125 M2s are nan\n",
      "WARNING:root:0 R1s are nan\n",
      "WARNING:root:125 R2s are nan\n",
      "INFO:root:149 binaries are \"too close\"; gave up trying to fix.\n",
      "INFO:root:2037 BEB systems generated (target 25000)\n",
      "WARNING:root:0 M1s are nan\n",
      "WARNING:root:1755 M2s are nan\n",
      "WARNING:root:0 R1s are nan\n",
      "WARNING:root:1755 R2s are nan\n",
      "INFO:root:2019 binaries are \"too close\"; gave up trying to fix.\n",
      "INFO:root:28946 BEB systems generated (target 25000)\n",
      "INFO:root:Fitting trapezoid models for BEBs...\n",
      "INFO:root:Done.hape parameters for 14668 systems:  99% |\\\\\\\\\\\\\\ | ETA:  0:00:00\n",
      "INFO:root:Fitting trapezoid models for BEBs...\n",
      "INFO:root:Done.hape parameters for 14668 systems:  99% |\\\\\\\\\\\\\\ | ETA:  0:00:00\n",
      "INFO:root:Fitting trapezoid models for BEBs...\n",
      "INFO:root:Done.hape parameters for 14668 systems:  99% |\\\\\\\\\\\\\\ | ETA:  0:00:00\n",
      "INFO:root:Fitting trapezoid models for BEBs...\n",
      "INFO:root:Done.hape parameters for 14668 systems:  99% |\\\\\\\\\\\\\\ | ETA:  0:00:00\n",
      "INFO:root:Fitting trapezoid models for BEBs...\n",
      "INFO:root:Done.hape parameters for 14668 systems:  99% |\\\\\\\\\\\\\\ | ETA:  0:00:00\n",
      "INFO:root:Fitting trapezoid models for BEBs...\n",
      "INFO:root:Done.hape parameters for 14668 systems:  99% |\\\\\\\\\\\\\\ | ETA:  0:00:00\n",
      "INFO:root:Fitting trapezoid models for BEBs...\n",
      "INFO:root:Done.hape parameters for 14668 systems:  99% |\\\\\\\\\\\\\\ | ETA:  0:00:00\n",
      "INFO:root:Fitting trapezoid models for BEBs...\n",
      "INFO:root:Done.hape parameters for 14668 systems:  99% |\\\\\\\\\\\\\\ | ETA:  0:00:00\n",
      "INFO:root:Fitting trapezoid models for BEBs...\n",
      "INFO:root:Done.hape parameters for 14668 systems:  99% |\\\\\\\\\\\\\\ | ETA:  0:00:00\n"
     ]
    },
    {
     "name": "stdout",
     "output_type": "stream",
     "text": [
      "9 K01855.01\n"
     ]
    },
    {
     "name": "stderr",
     "output_type": "stream",
     "text": [
      "INFO:root:Loading TRILEGAL simulation from /Users/neptune/Documents/Thesis/pipeline/data_beb_2/K01855.01/K01855.01_starfield.h5\n",
      "WARNING:root:0 M1s are nan\n",
      "WARNING:root:103 M2s are nan\n",
      "WARNING:root:0 R1s are nan\n",
      "WARNING:root:103 R2s are nan\n",
      "INFO:root:174 binaries are \"too close\"; gave up trying to fix.\n",
      "INFO:root:2315 BEB systems generated (target 25000)\n",
      "WARNING:root:0 M1s are nan\n",
      "WARNING:root:1279 M2s are nan\n",
      "WARNING:root:0 R1s are nan\n",
      "WARNING:root:1279 R2s are nan\n",
      "INFO:root:2005 binaries are \"too close\"; gave up trying to fix.\n",
      "INFO:root:27024 BEB systems generated (target 25000)\n",
      "INFO:root:Fitting trapezoid models for BEBs...\n",
      "INFO:root:Done.hape parameters for 14657 systems:  99% |\\\\\\\\\\\\\\ | ETA:  0:00:00\n",
      "INFO:root:Fitting trapezoid models for BEBs...\n",
      "INFO:root:Done.hape parameters for 14657 systems:  99% |\\\\\\\\\\\\\\ | ETA:  0:00:00\n",
      "INFO:root:Fitting trapezoid models for BEBs...\n",
      "INFO:root:Done.hape parameters for 14657 systems:  99% |\\\\\\\\\\\\\\ | ETA:  0:00:00\n",
      "INFO:root:Fitting trapezoid models for BEBs...\n",
      "INFO:root:Done.hape parameters for 14657 systems:  99% |\\\\\\\\\\\\\\ | ETA:  0:00:00\n",
      "INFO:root:Fitting trapezoid models for BEBs...\n",
      "INFO:root:Done.hape parameters for 14657 systems:  99% |\\\\\\\\\\\\\\ | ETA:  0:00:00\n",
      "INFO:root:Fitting trapezoid models for BEBs...\n",
      "INFO:root:Done.hape parameters for 14657 systems:  99% |\\\\\\\\\\\\\\ | ETA:  0:00:00\n",
      "INFO:root:Fitting trapezoid models for BEBs...\n",
      "INFO:root:Done.hape parameters for 14657 systems:  99% |\\\\\\\\\\\\\\ | ETA:  0:00:00\n",
      "INFO:root:Fitting trapezoid models for BEBs...\n",
      "INFO:root:Done.hape parameters for 14657 systems:  99% |\\\\\\\\\\\\\\ | ETA:  0:00:00\n",
      "INFO:root:Fitting trapezoid models for BEBs...\n",
      "INFO:root:Done.hape parameters for 14657 systems:  99% |\\\\\\\\\\\\\\ | ETA:  0:00:00\n"
     ]
    },
    {
     "name": "stdout",
     "output_type": "stream",
     "text": [
      "10 K02262.01\n"
     ]
    },
    {
     "name": "stderr",
     "output_type": "stream",
     "text": [
      "INFO:root:Loading TRILEGAL simulation from /Users/neptune/Documents/Thesis/pipeline/data_beb_2/K02262.01/K02262.01_starfield.h5\n",
      "WARNING:root:0 M1s are nan\n",
      "WARNING:root:77 M2s are nan\n",
      "WARNING:root:0 R1s are nan\n",
      "WARNING:root:77 R2s are nan\n",
      "INFO:root:265 binaries are \"too close\"; gave up trying to fix.\n",
      "INFO:root:4280 BEB systems generated (target 25000)\n",
      "WARNING:root:0 M1s are nan\n",
      "WARNING:root:556 M2s are nan\n",
      "WARNING:root:0 R1s are nan\n",
      "WARNING:root:556 R2s are nan\n",
      "INFO:root:1606 binaries are \"too close\"; gave up trying to fix.\n",
      "INFO:root:27974 BEB systems generated (target 25000)\n",
      "INFO:root:Fitting trapezoid models for BEBs...\n",
      "INFO:root:Done.hape parameters for 17596 systems:  99% |\\\\\\\\\\\\\\ | ETA:  0:00:00\n",
      "INFO:root:Fitting trapezoid models for BEBs...\n",
      "INFO:root:Done.hape parameters for 17596 systems:  99% |\\\\\\\\\\\\\\ | ETA:  0:00:00\n",
      "INFO:root:Fitting trapezoid models for BEBs...\n",
      "INFO:root:Done.hape parameters for 17596 systems:  99% |\\\\\\\\\\\\\\ | ETA:  0:00:00\n",
      "INFO:root:Fitting trapezoid models for BEBs...\n",
      "INFO:root:Done.hape parameters for 17596 systems:  99% |\\\\\\\\\\\\\\ | ETA:  0:00:00\n",
      "INFO:root:Fitting trapezoid models for BEBs...\n",
      "INFO:root:Done.hape parameters for 17596 systems:  99% |\\\\\\\\\\\\\\ | ETA:  0:00:00\n",
      "INFO:root:Fitting trapezoid models for BEBs...\n",
      "INFO:root:Done.hape parameters for 17596 systems:  99% |\\\\\\\\\\\\\\ | ETA:  0:00:00\n",
      "INFO:root:Fitting trapezoid models for BEBs...\n",
      "INFO:root:Done.hape parameters for 17596 systems:  99% |\\\\\\\\\\\\\\ | ETA:  0:00:00\n",
      "INFO:root:Fitting trapezoid models for BEBs...\n",
      "INFO:root:Done.hape parameters for 17596 systems:  99% |\\\\\\\\\\\\\\ | ETA:  0:00:00\n",
      "INFO:root:Fitting trapezoid models for BEBs...\n",
      "INFO:root:Done.hape parameters for 17596 systems:  99% |\\\\\\\\\\\\\\ | ETA:  0:00:00\n"
     ]
    },
    {
     "name": "stdout",
     "output_type": "stream",
     "text": [
      "11 K03294.01\n"
     ]
    },
    {
     "name": "stderr",
     "output_type": "stream",
     "text": [
      "INFO:root:Loading TRILEGAL simulation from /Users/neptune/Documents/Thesis/pipeline/data_beb_2/K03294.01/K03294.01_starfield.h5\n",
      "WARNING:root:0 M1s are nan\n",
      "WARNING:root:128 M2s are nan\n",
      "WARNING:root:0 R1s are nan\n",
      "WARNING:root:128 R2s are nan\n",
      "INFO:root:144 binaries are \"too close\"; gave up trying to fix.\n",
      "INFO:root:2391 BEB systems generated (target 25000)\n",
      "WARNING:root:0 M1s are nan\n",
      "WARNING:root:1257 M2s are nan\n",
      "WARNING:root:0 R1s are nan\n",
      "WARNING:root:1257 R2s are nan\n",
      "INFO:root:1597 binaries are \"too close\"; gave up trying to fix.\n",
      "INFO:root:28767 BEB systems generated (target 25000)\n",
      "INFO:root:Fitting trapezoid models for BEBs...\n",
      "INFO:root:Done.hape parameters for 16566 systems:  99% |\\\\\\\\\\\\\\ | ETA:  0:00:00\n",
      "INFO:root:Fitting trapezoid models for BEBs...\n",
      "INFO:root:Done.hape parameters for 16566 systems:  99% |\\\\\\\\\\\\\\ | ETA:  0:00:00\n",
      "INFO:root:Fitting trapezoid models for BEBs...\n",
      "INFO:root:Done.hape parameters for 16566 systems:  99% |\\\\\\\\\\\\\\ | ETA:  0:00:00\n",
      "INFO:root:Fitting trapezoid models for BEBs...\n",
      "INFO:root:Done.hape parameters for 16566 systems:  99% |\\\\\\\\\\\\\\ | ETA:  0:00:00\n",
      "INFO:root:Fitting trapezoid models for BEBs...\n",
      "INFO:root:Done.hape parameters for 16566 systems:  99% |\\\\\\\\\\\\\\ | ETA:  0:00:00\n",
      "INFO:root:Fitting trapezoid models for BEBs...\n",
      "INFO:root:Done.hape parameters for 16566 systems:  99% |\\\\\\\\\\\\\\ | ETA:  0:00:00\n",
      "INFO:root:Fitting trapezoid models for BEBs...\n",
      "INFO:root:Done.hape parameters for 16566 systems:  99% |\\\\\\\\\\\\\\ | ETA:  0:00:00\n",
      "INFO:root:Fitting trapezoid models for BEBs...\n",
      "INFO:root:Done.hape parameters for 16566 systems:  99% |\\\\\\\\\\\\\\ | ETA:  0:00:00\n",
      "INFO:root:Fitting trapezoid models for BEBs...\n",
      "INFO:root:Done.hape parameters for 16566 systems:  99% |\\\\\\\\\\\\\\ | ETA:  0:00:00\n"
     ]
    },
    {
     "name": "stdout",
     "output_type": "stream",
     "text": [
      "12 K03275.01\n"
     ]
    },
    {
     "name": "stderr",
     "output_type": "stream",
     "text": [
      "INFO:root:Loading TRILEGAL simulation from /Users/neptune/Documents/Thesis/pipeline/data_beb_2/K03275.01/K03275.01_starfield.h5\n",
      "WARNING:root:0 M1s are nan\n",
      "WARNING:root:112 M2s are nan\n",
      "WARNING:root:0 R1s are nan\n",
      "WARNING:root:112 R2s are nan\n",
      "INFO:root:154 binaries are \"too close\"; gave up trying to fix.\n",
      "INFO:root:2154 BEB systems generated (target 25000)\n",
      "WARNING:root:0 M1s are nan\n",
      "WARNING:root:1429 M2s are nan\n",
      "WARNING:root:0 R1s are nan\n",
      "WARNING:root:1429 R2s are nan\n",
      "INFO:root:2116 binaries are \"too close\"; gave up trying to fix.\n",
      "INFO:root:27499 BEB systems generated (target 25000)\n",
      "INFO:root:Fitting trapezoid models for BEBs...\n",
      "INFO:root:Done.hape parameters for 16063 systems:  99% |||||||| | ETA:  0:00:00\n",
      "INFO:root:Fitting trapezoid models for BEBs...\n",
      "INFO:root:Done.hape parameters for 16063 systems:  99% |||||||| | ETA:  0:00:00\n",
      "INFO:root:Fitting trapezoid models for BEBs...\n",
      "INFO:root:Done.hape parameters for 16063 systems:  99% |/////// | ETA:  0:00:00\n",
      "INFO:root:Fitting trapezoid models for BEBs...\n",
      "INFO:root:Done.hape parameters for 16063 systems:  99% |------- | ETA:  0:00:00\n",
      "INFO:root:Fitting trapezoid models for BEBs...\n",
      "INFO:root:Done.hape parameters for 16063 systems:  99% |/////// | ETA:  0:00:00\n",
      "INFO:root:Fitting trapezoid models for BEBs...\n",
      "INFO:root:Done.hape parameters for 16063 systems:  99% |------- | ETA:  0:00:00\n",
      "INFO:root:Fitting trapezoid models for BEBs...\n",
      "INFO:root:Done.hape parameters for 16063 systems:  99% |\\\\\\\\\\\\\\ | ETA:  0:00:00\n",
      "INFO:root:Fitting trapezoid models for BEBs...\n",
      "INFO:root:Done.hape parameters for 16063 systems:  99% |||||||| | ETA:  0:00:00\n",
      "INFO:root:Fitting trapezoid models for BEBs...\n",
      "INFO:root:Done.hape parameters for 16063 systems:  99% |/////// | ETA:  0:00:00\n"
     ]
    },
    {
     "name": "stdout",
     "output_type": "stream",
     "text": [
      "13 K02950.01\n"
     ]
    },
    {
     "name": "stderr",
     "output_type": "stream",
     "text": [
      "INFO:root:Loading TRILEGAL simulation from /Users/neptune/Documents/Thesis/pipeline/data_beb_2/K02950.01/K02950.01_starfield.h5\n",
      "WARNING:root:0 M1s are nan\n",
      "WARNING:root:86 M2s are nan\n",
      "WARNING:root:0 R1s are nan\n",
      "WARNING:root:86 R2s are nan\n",
      "INFO:root:8301 binaries are \"too close\"; gave up trying to fix.\n",
      "INFO:root:9699 BEB systems generated (target 25000)\n",
      "WARNING:root:0 M1s are nan\n",
      "WARNING:root:193 M2s are nan\n",
      "WARNING:root:0 R1s are nan\n",
      "WARNING:root:193 R2s are nan\n",
      "INFO:root:15698 binaries are \"too close\"; gave up trying to fix.\n",
      "INFO:root:28212 BEB systems generated (target 25000)\n",
      "INFO:root:Fitting trapezoid models for BEBs...\n",
      "INFO:root:Done.hape parameters for 24011 systems:  99% |\\\\\\\\\\\\\\ | ETA:  0:00:00\n",
      "INFO:root:Fitting trapezoid models for BEBs...\n",
      "INFO:root:Done.hape parameters for 24011 systems:  99% |\\\\\\\\\\\\\\ | ETA:  0:00:00\n",
      "INFO:root:Fitting trapezoid models for BEBs...\n",
      "INFO:root:Done.hape parameters for 24011 systems:  99% |/////// | ETA:  0:00:00\n",
      "INFO:root:Fitting trapezoid models for BEBs...\n",
      "INFO:root:Done.hape parameters for 24011 systems:  99% |\\\\\\\\\\\\\\ | ETA:  0:00:00\n",
      "INFO:root:Fitting trapezoid models for BEBs...\n",
      "INFO:root:Done.hape parameters for 24011 systems:  99% |||||||| | ETA:  0:00:00\n",
      "INFO:root:Fitting trapezoid models for BEBs...\n",
      "INFO:root:Done.hape parameters for 24011 systems:  99% |------- | ETA:  0:00:00\n",
      "INFO:root:Fitting trapezoid models for BEBs...\n",
      "INFO:root:Done.hape parameters for 24011 systems:  99% |------- | ETA:  0:00:00\n",
      "INFO:root:Fitting trapezoid models for BEBs...\n",
      "INFO:root:Done.hape parameters for 24011 systems:  99% |------- | ETA:  0:00:00\n",
      "INFO:root:Fitting trapezoid models for BEBs...\n",
      "INFO:root:Done.hape parameters for 24011 systems:  99% |\\\\\\\\\\\\\\ | ETA:  0:00:00\n"
     ]
    },
    {
     "name": "stdout",
     "output_type": "stream",
     "text": [
      "14 K03900.01\n"
     ]
    },
    {
     "name": "stderr",
     "output_type": "stream",
     "text": [
      "INFO:root:Loading TRILEGAL simulation from /Users/neptune/Documents/Thesis/pipeline/data_beb_2/K03900.01/K03900.01_starfield.h5\n",
      "WARNING:root:0 M1s are nan\n",
      "WARNING:root:88 M2s are nan\n",
      "WARNING:root:0 R1s are nan\n",
      "WARNING:root:88 R2s are nan\n",
      "INFO:root:59 binaries are \"too close\"; gave up trying to fix.\n",
      "INFO:root:499 BEB systems generated (target 25000)\n",
      "WARNING:root:0 M1s are nan\n",
      "WARNING:root:1535 M2s are nan\n",
      "WARNING:root:0 R1s are nan\n",
      "WARNING:root:1535 R2s are nan\n",
      "INFO:root:1237 binaries are \"too close\"; gave up trying to fix.\n",
      "INFO:root:11514 BEB systems generated (target 25000)\n",
      "WARNING:root:0 M1s are nan\n",
      "WARNING:root:1488 M2s are nan\n",
      "WARNING:root:0 R1s are nan\n",
      "WARNING:root:1488 R2s are nan\n",
      "INFO:root:1256 binaries are \"too close\"; gave up trying to fix.\n",
      "INFO:root:22681 BEB systems generated (target 25000)\n",
      "WARNING:root:0 M1s are nan\n",
      "WARNING:root:428 M2s are nan\n",
      "WARNING:root:0 R1s are nan\n",
      "WARNING:root:428 R2s are nan\n",
      "INFO:root:291 binaries are \"too close\"; gave up trying to fix.\n",
      "INFO:root:25436 BEB systems generated (target 25000)\n",
      "INFO:root:Fitting trapezoid models for BEBs...\n",
      "INFO:root:Done.hape parameters for 14754 systems:  99% |------- | ETA:  0:00:00\n",
      "INFO:root:Fitting trapezoid models for BEBs...\n",
      "INFO:root:Done.hape parameters for 14754 systems:  99% |/////// | ETA:  0:00:00\n",
      "INFO:root:Fitting trapezoid models for BEBs...\n",
      "INFO:root:Done.hape parameters for 14754 systems:  99% |\\\\\\\\\\\\\\ | ETA:  0:00:00\n",
      "INFO:root:Fitting trapezoid models for BEBs...\n",
      "INFO:root:Done.hape parameters for 14754 systems:  99% |\\\\\\\\\\\\\\ | ETA:  0:00:00\n",
      "INFO:root:Fitting trapezoid models for BEBs...\n",
      "INFO:root:Done.hape parameters for 14754 systems:  99% |/////// | ETA:  0:00:00\n",
      "INFO:root:Fitting trapezoid models for BEBs...\n",
      "INFO:root:Done.hape parameters for 14754 systems:  99% |/////// | ETA:  0:00:00\n",
      "INFO:root:Fitting trapezoid models for BEBs...\n",
      "INFO:root:Done.hape parameters for 14754 systems:  99% |/////// | ETA:  0:00:00\n",
      "INFO:root:Fitting trapezoid models for BEBs...\n",
      "INFO:root:Done.hape parameters for 14754 systems:  99% |------- | ETA:  0:00:00\n",
      "INFO:root:Fitting trapezoid models for BEBs...\n",
      "INFO:root:Done.hape parameters for 14754 systems:  99% |------- | ETA:  0:00:00\n"
     ]
    },
    {
     "name": "stdout",
     "output_type": "stream",
     "text": [
      "15 K03399.01\n"
     ]
    },
    {
     "name": "stderr",
     "output_type": "stream",
     "text": [
      "INFO:root:Loading TRILEGAL simulation from /Users/neptune/Documents/Thesis/pipeline/data_beb_2/K03399.01/K03399.01_starfield.h5\n",
      "WARNING:root:0 M1s are nan\n",
      "WARNING:root:109 M2s are nan\n",
      "WARNING:root:0 R1s are nan\n",
      "WARNING:root:109 R2s are nan\n",
      "INFO:root:124 binaries are \"too close\"; gave up trying to fix.\n",
      "INFO:root:3322 BEB systems generated (target 25000)\n",
      "WARNING:root:0 M1s are nan\n",
      "WARNING:root:785 M2s are nan\n",
      "WARNING:root:0 R1s are nan\n",
      "WARNING:root:785 R2s are nan\n",
      "INFO:root:1104 binaries are \"too close\"; gave up trying to fix.\n",
      "INFO:root:28611 BEB systems generated (target 25000)\n",
      "INFO:root:Fitting trapezoid models for BEBs...\n",
      "INFO:root:Done.hape parameters for 16786 systems:  99% |||||||| | ETA:  0:00:00\n",
      "INFO:root:Fitting trapezoid models for BEBs...\n",
      "INFO:root:Done.hape parameters for 16786 systems:  99% |\\\\\\\\\\\\\\ | ETA:  0:00:00\n",
      "INFO:root:Fitting trapezoid models for BEBs...\n",
      "INFO:root:Done.hape parameters for 16786 systems:  99% |------- | ETA:  0:00:00\n",
      "INFO:root:Fitting trapezoid models for BEBs...\n",
      "INFO:root:Done.hape parameters for 16786 systems:  99% |||||||| | ETA:  0:00:00\n",
      "INFO:root:Fitting trapezoid models for BEBs...\n",
      "INFO:root:Done.hape parameters for 16786 systems:  99% |\\\\\\\\\\\\\\ | ETA:  0:00:00\n",
      "INFO:root:Fitting trapezoid models for BEBs...\n",
      "INFO:root:Done.hape parameters for 16786 systems:  99% |/////// | ETA:  0:00:00\n",
      "INFO:root:Fitting trapezoid models for BEBs...\n",
      "INFO:root:Done.hape parameters for 16786 systems:  99% |------- | ETA:  0:00:00\n",
      "INFO:root:Fitting trapezoid models for BEBs...\n",
      "INFO:root:Done.hape parameters for 16786 systems:  99% |/////// | ETA:  0:00:00\n",
      "INFO:root:Fitting trapezoid models for BEBs...\n",
      "INFO:root:Done.hape parameters for 16786 systems:  99% |\\\\\\\\\\\\\\ | ETA:  0:00:00\n"
     ]
    },
    {
     "name": "stdout",
     "output_type": "stream",
     "text": [
      "16 K03806.01\n"
     ]
    },
    {
     "name": "stderr",
     "output_type": "stream",
     "text": [
      "INFO:root:Loading TRILEGAL simulation from /Users/neptune/Documents/Thesis/pipeline/data_beb_2/K03806.01/K03806.01_starfield.h5\n",
      "WARNING:root:0 M1s are nan\n",
      "WARNING:root:98 M2s are nan\n",
      "WARNING:root:0 R1s are nan\n",
      "WARNING:root:98 R2s are nan\n",
      "INFO:root:131 binaries are \"too close\"; gave up trying to fix.\n",
      "INFO:root:944 BEB systems generated (target 25000)\n",
      "WARNING:root:0 M1s are nan\n",
      "WARNING:root:1877 M2s are nan\n",
      "WARNING:root:0 R1s are nan\n",
      "WARNING:root:1877 R2s are nan\n",
      "INFO:root:2909 binaries are \"too close\"; gave up trying to fix.\n",
      "INFO:root:19413 BEB systems generated (target 25000)\n",
      "WARNING:root:0 M1s are nan\n",
      "WARNING:root:681 M2s are nan\n",
      "WARNING:root:0 R1s are nan\n",
      "WARNING:root:681 R2s are nan\n",
      "INFO:root:1095 binaries are \"too close\"; gave up trying to fix.\n",
      "INFO:root:26201 BEB systems generated (target 25000)\n",
      "INFO:root:Fitting trapezoid models for BEBs...\n",
      "INFO:root:Done.hape parameters for 14734 systems:  99% |/////// | ETA:  0:00:00\n",
      "INFO:root:Fitting trapezoid models for BEBs...\n",
      "INFO:root:Done.hape parameters for 14734 systems:  99% |\\\\\\\\\\\\\\ | ETA:  0:00:00\n",
      "INFO:root:Fitting trapezoid models for BEBs...\n",
      "INFO:root:Done.hape parameters for 14734 systems:  99% |/////// | ETA:  0:00:00\n",
      "INFO:root:Fitting trapezoid models for BEBs...\n",
      "INFO:root:Done.hape parameters for 14734 systems:  99% |\\\\\\\\\\\\\\ | ETA:  0:00:00\n",
      "INFO:root:Fitting trapezoid models for BEBs...\n",
      "INFO:root:Done.hape parameters for 14734 systems:  99% |/////// | ETA:  0:00:00\n",
      "INFO:root:Fitting trapezoid models for BEBs...\n",
      "INFO:root:Done.hape parameters for 14734 systems:  99% |\\\\\\\\\\\\\\ | ETA:  0:00:00\n",
      "INFO:root:Fitting trapezoid models for BEBs...\n",
      "INFO:root:Done.hape parameters for 14734 systems:  99% |\\\\\\\\\\\\\\ | ETA:  0:00:00\n",
      "INFO:root:Fitting trapezoid models for BEBs...\n",
      "INFO:root:Done.hape parameters for 14734 systems:  99% |||||||| | ETA:  0:00:00\n",
      "INFO:root:Fitting trapezoid models for BEBs...\n",
      "INFO:root:Done.hape parameters for 14734 systems:  99% |\\\\\\\\\\\\\\ | ETA:  0:00:00\n"
     ]
    },
    {
     "name": "stdout",
     "output_type": "stream",
     "text": [
      "17 K03450.01\n"
     ]
    },
    {
     "name": "stderr",
     "output_type": "stream",
     "text": [
      "INFO:root:Loading TRILEGAL simulation from /Users/neptune/Documents/Thesis/pipeline/data_beb_2/K03450.01/K03450.01_starfield.h5\n",
      "WARNING:root:0 M1s are nan\n",
      "WARNING:root:105 M2s are nan\n",
      "WARNING:root:0 R1s are nan\n",
      "WARNING:root:105 R2s are nan\n",
      "INFO:root:131 binaries are \"too close\"; gave up trying to fix.\n",
      "INFO:root:2593 BEB systems generated (target 25000)\n",
      "WARNING:root:0 M1s are nan\n",
      "WARNING:root:1129 M2s are nan\n",
      "WARNING:root:0 R1s are nan\n",
      "WARNING:root:1129 R2s are nan\n",
      "INFO:root:1296 binaries are \"too close\"; gave up trying to fix.\n",
      "INFO:root:27105 BEB systems generated (target 25000)\n",
      "INFO:root:Fitting trapezoid models for BEBs...\n",
      "INFO:root:Done.hape parameters for 15691 systems:  99% |\\\\\\\\\\\\\\ | ETA:  0:00:00\n",
      "INFO:root:Fitting trapezoid models for BEBs...\n",
      "INFO:root:Done.hape parameters for 15691 systems:  99% |\\\\\\\\\\\\\\ | ETA:  0:00:00\n",
      "INFO:root:Fitting trapezoid models for BEBs...\n",
      "INFO:root:Done.hape parameters for 15691 systems:  99% |\\\\\\\\\\\\\\ | ETA:  0:00:00\n",
      "INFO:root:Fitting trapezoid models for BEBs...\n",
      "INFO:root:Done.hape parameters for 15691 systems:  99% |\\\\\\\\\\\\\\ | ETA:  0:00:00\n",
      "INFO:root:Fitting trapezoid models for BEBs...\n",
      "INFO:root:Done.hape parameters for 15691 systems:  99% |\\\\\\\\\\\\\\ | ETA:  0:00:00\n",
      "INFO:root:Fitting trapezoid models for BEBs...\n",
      "INFO:root:Done.hape parameters for 15691 systems:  99% |\\\\\\\\\\\\\\ | ETA:  0:00:00\n",
      "INFO:root:Fitting trapezoid models for BEBs...\n",
      "INFO:root:Done.hape parameters for 15691 systems:  99% |\\\\\\\\\\\\\\ | ETA:  0:00:00\n",
      "INFO:root:Fitting trapezoid models for BEBs...\n",
      "INFO:root:Done.hape parameters for 15691 systems:  99% |\\\\\\\\\\\\\\ | ETA:  0:00:00\n",
      "INFO:root:Fitting trapezoid models for BEBs...\n",
      "INFO:root:Done.hape parameters for 15691 systems:  99% |\\\\\\\\\\\\\\ | ETA:  0:00:00\n"
     ]
    },
    {
     "name": "stdout",
     "output_type": "stream",
     "text": [
      "18 K03828.01\n"
     ]
    },
    {
     "name": "stderr",
     "output_type": "stream",
     "text": [
      "INFO:root:Loading TRILEGAL simulation from /Users/neptune/Documents/Thesis/pipeline/data_beb_2/K03828.01/K03828.01_starfield.h5\n",
      "WARNING:root:0 M1s are nan\n",
      "WARNING:root:93 M2s are nan\n",
      "WARNING:root:0 R1s are nan\n",
      "WARNING:root:93 R2s are nan\n",
      "INFO:root:207 binaries are \"too close\"; gave up trying to fix.\n",
      "INFO:root:3662 BEB systems generated (target 25000)\n",
      "WARNING:root:0 M1s are nan\n",
      "WARNING:root:738 M2s are nan\n",
      "WARNING:root:0 R1s are nan\n",
      "WARNING:root:738 R2s are nan\n",
      "INFO:root:1484 binaries are \"too close\"; gave up trying to fix.\n",
      "INFO:root:28458 BEB systems generated (target 25000)\n",
      "INFO:root:Fitting trapezoid models for BEBs...\n",
      "ERROR:root:No eclipse registered for star 6662ms:  37% |//      | ETA:  0:00:17\n",
      "INFO:root:Done.hape parameters for 17556 systems:  99% |\\\\\\\\\\\\\\ | ETA:  0:00:00\n",
      "INFO:root:Fitting trapezoid models for BEBs...\n",
      "ERROR:root:No eclipse registered for star 6662ms:  37% |//      | ETA:  0:00:17\n",
      "INFO:root:Done.hape parameters for 17556 systems:  99% |\\\\\\\\\\\\\\ | ETA:  0:00:00\n",
      "INFO:root:Fitting trapezoid models for BEBs...\n",
      "ERROR:root:No eclipse registered for star 6662ms:  37% |//      | ETA:  0:00:17\n",
      "INFO:root:Done.hape parameters for 17556 systems:  99% |\\\\\\\\\\\\\\ | ETA:  0:00:00\n",
      "INFO:root:Fitting trapezoid models for BEBs...\n",
      "ERROR:root:No eclipse registered for star 6662ms:  37% |//      | ETA:  0:00:17\n",
      "INFO:root:Done.hape parameters for 17556 systems:  99% |\\\\\\\\\\\\\\ | ETA:  0:00:00\n",
      "INFO:root:Fitting trapezoid models for BEBs...\n",
      "ERROR:root:No eclipse registered for star 6662ms:  37% |//      | ETA:  0:00:17\n",
      "INFO:root:Done.hape parameters for 17556 systems:  99% |\\\\\\\\\\\\\\ | ETA:  0:00:00\n",
      "INFO:root:Fitting trapezoid models for BEBs...\n",
      "ERROR:root:No eclipse registered for star 6662ms:  37% |//      | ETA:  0:00:17\n",
      "INFO:root:Done.hape parameters for 17556 systems:  99% |\\\\\\\\\\\\\\ | ETA:  0:00:00\n",
      "INFO:root:Fitting trapezoid models for BEBs...\n",
      "ERROR:root:No eclipse registered for star 6662ms:  37% |//      | ETA:  0:00:17\n",
      "INFO:root:Done.hape parameters for 17556 systems:  99% |\\\\\\\\\\\\\\ | ETA:  0:00:00\n",
      "INFO:root:Fitting trapezoid models for BEBs...\n",
      "ERROR:root:No eclipse registered for star 6662ms:  37% |//      | ETA:  0:00:17\n",
      "INFO:root:Done.hape parameters for 17556 systems:  99% |\\\\\\\\\\\\\\ | ETA:  0:00:00\n",
      "INFO:root:Fitting trapezoid models for BEBs...\n",
      "ERROR:root:No eclipse registered for star 6662ms:  37% |//      | ETA:  0:00:17\n",
      "INFO:root:Done.hape parameters for 17556 systems:  99% |\\\\\\\\\\\\\\ | ETA:  0:00:00\n"
     ]
    },
    {
     "name": "stdout",
     "output_type": "stream",
     "text": [
      "19 K03834.01\n"
     ]
    },
    {
     "name": "stderr",
     "output_type": "stream",
     "text": [
      "INFO:root:Loading TRILEGAL simulation from /Users/neptune/Documents/Thesis/pipeline/data_beb_2/K03834.01/K03834.01_starfield.h5\n",
      "WARNING:root:0 M1s are nan\n",
      "WARNING:root:72 M2s are nan\n",
      "WARNING:root:0 R1s are nan\n",
      "WARNING:root:72 R2s are nan\n",
      "INFO:root:381 binaries are \"too close\"; gave up trying to fix.\n",
      "INFO:root:7372 BEB systems generated (target 25000)\n",
      "WARNING:root:0 M1s are nan\n",
      "WARNING:root:218 M2s are nan\n",
      "WARNING:root:0 R1s are nan\n",
      "WARNING:root:218 R2s are nan\n",
      "INFO:root:1068 binaries are \"too close\"; gave up trying to fix.\n",
      "INFO:root:28100 BEB systems generated (target 25000)\n",
      "INFO:root:Fitting trapezoid models for BEBs...\n",
      "ERROR:root:No eclipse registered for star 2784ms:  13% |/       | ETA:  0:00:26\n",
      "ERROR:root:No eclipse registered for star 12419s:  58% |----    | ETA:  0:00:12\n",
      "INFO:root:Done.hape parameters for 21053 systems:  99% |\\\\\\\\\\\\\\ | ETA:  0:00:00\n",
      "INFO:root:Fitting trapezoid models for BEBs...\n",
      "ERROR:root:No eclipse registered for star 2784ms:  13% |/       | ETA:  0:00:26\n",
      "ERROR:root:No eclipse registered for star 12419s:  58% |----    | ETA:  0:00:12\n",
      "INFO:root:Done.hape parameters for 21053 systems:  99% |\\\\\\\\\\\\\\ | ETA:  0:00:00\n",
      "INFO:root:Fitting trapezoid models for BEBs...\n",
      "ERROR:root:No eclipse registered for star 2784ms:  13% |/       | ETA:  0:00:26\n",
      "ERROR:root:No eclipse registered for star 12419s:  58% |----    | ETA:  0:00:12\n",
      "INFO:root:Done.hape parameters for 21053 systems:  99% |\\\\\\\\\\\\\\ | ETA:  0:00:00\n",
      "INFO:root:Fitting trapezoid models for BEBs...\n",
      "ERROR:root:No eclipse registered for star 2784ms:  13% |/       | ETA:  0:00:26\n",
      "ERROR:root:No eclipse registered for star 12419s:  58% |----    | ETA:  0:00:12\n",
      "INFO:root:Done.hape parameters for 21053 systems:  99% |\\\\\\\\\\\\\\ | ETA:  0:00:00\n",
      "INFO:root:Fitting trapezoid models for BEBs...\n",
      "ERROR:root:No eclipse registered for star 2784ms:  13% |/       | ETA:  0:00:27\n",
      "ERROR:root:No eclipse registered for star 12419s:  58% |----    | ETA:  0:00:12\n",
      "INFO:root:Done.hape parameters for 21053 systems:  99% |\\\\\\\\\\\\\\ | ETA:  0:00:00\n",
      "INFO:root:Fitting trapezoid models for BEBs...\n",
      "ERROR:root:No eclipse registered for star 2784ms:  13% |/       | ETA:  0:00:26\n",
      "ERROR:root:No eclipse registered for star 12419s:  58% |----    | ETA:  0:00:12\n",
      "INFO:root:Done.hape parameters for 21053 systems:  99% |\\\\\\\\\\\\\\ | ETA:  0:00:00\n",
      "INFO:root:Fitting trapezoid models for BEBs...\n",
      "ERROR:root:No eclipse registered for star 2784ms:  13% |/       | ETA:  0:00:26\n",
      "ERROR:root:No eclipse registered for star 12419s:  58% |----    | ETA:  0:00:12\n",
      "INFO:root:Done.hape parameters for 21053 systems:  99% |\\\\\\\\\\\\\\ | ETA:  0:00:00\n",
      "INFO:root:Fitting trapezoid models for BEBs...\n",
      "ERROR:root:No eclipse registered for star 2784ms:  13% |/       | ETA:  0:00:26\n",
      "ERROR:root:No eclipse registered for star 12419s:  58% |----    | ETA:  0:00:12\n",
      "INFO:root:Done.hape parameters for 21053 systems:  99% |\\\\\\\\\\\\\\ | ETA:  0:00:00\n",
      "INFO:root:Fitting trapezoid models for BEBs...\n",
      "ERROR:root:No eclipse registered for star 2784ms:  13% |/       | ETA:  0:00:26\n",
      "ERROR:root:No eclipse registered for star 12419s:  58% |----    | ETA:  0:00:12\n",
      "INFO:root:Done.hape parameters for 21053 systems:  99% |\\\\\\\\\\\\\\ | ETA:  0:00:00\n"
     ]
    },
    {
     "name": "stdout",
     "output_type": "stream",
     "text": [
      "20 K03321.01\n"
     ]
    },
    {
     "name": "stderr",
     "output_type": "stream",
     "text": [
      "INFO:root:Loading TRILEGAL simulation from /Users/neptune/Documents/Thesis/pipeline/data_beb_2/K03321.01/K03321.01_starfield.h5\n",
      "WARNING:root:0 M1s are nan\n",
      "WARNING:root:102 M2s are nan\n",
      "WARNING:root:0 R1s are nan\n",
      "WARNING:root:102 R2s are nan\n",
      "INFO:root:132 binaries are \"too close\"; gave up trying to fix.\n",
      "INFO:root:3557 BEB systems generated (target 25000)\n",
      "WARNING:root:0 M1s are nan\n",
      "WARNING:root:784 M2s are nan\n",
      "WARNING:root:0 R1s are nan\n",
      "WARNING:root:784 R2s are nan\n",
      "INFO:root:1064 binaries are \"too close\"; gave up trying to fix.\n",
      "INFO:root:26512 BEB systems generated (target 25000)\n",
      "INFO:root:Fitting trapezoid models for BEBs...\n",
      "INFO:root:Done.hape parameters for 17243 systems:  99% |\\\\\\\\\\\\\\ | ETA:  0:00:00\n",
      "INFO:root:Fitting trapezoid models for BEBs...\n",
      "INFO:root:Done.hape parameters for 17243 systems:  99% |\\\\\\\\\\\\\\ | ETA:  0:00:00\n",
      "INFO:root:Fitting trapezoid models for BEBs...\n",
      "INFO:root:Done.hape parameters for 17243 systems:  99% |||||||| | ETA:  0:00:00\n",
      "INFO:root:Fitting trapezoid models for BEBs...\n",
      "INFO:root:Done.hape parameters for 17243 systems:  99% |\\\\\\\\\\\\\\ | ETA:  0:00:00\n",
      "INFO:root:Fitting trapezoid models for BEBs...\n",
      "INFO:root:Done.hape parameters for 17243 systems:  99% |||||||| | ETA:  0:00:00\n",
      "INFO:root:Fitting trapezoid models for BEBs...\n",
      "INFO:root:Done.hape parameters for 17243 systems:  99% |||||||| | ETA:  0:00:00\n",
      "INFO:root:Fitting trapezoid models for BEBs...\n",
      "INFO:root:Done.hape parameters for 17243 systems:  99% |\\\\\\\\\\\\\\ | ETA:  0:00:00\n",
      "INFO:root:Fitting trapezoid models for BEBs...\n",
      "INFO:root:Done.hape parameters for 17243 systems:  99% |||||||| | ETA:  0:00:00\n",
      "INFO:root:Fitting trapezoid models for BEBs...\n",
      "INFO:root:Done.hape parameters for 17243 systems:  99% |||||||| | ETA:  0:00:00\n"
     ]
    },
    {
     "name": "stdout",
     "output_type": "stream",
     "text": [
      "21 K04492.01\n"
     ]
    },
    {
     "name": "stderr",
     "output_type": "stream",
     "text": [
      "INFO:root:Loading TRILEGAL simulation from /Users/neptune/Documents/Thesis/pipeline/data_beb_2/K04492.01/K04492.01_starfield.h5\n",
      "WARNING:root:0 M1s are nan\n",
      "WARNING:root:99 M2s are nan\n",
      "WARNING:root:0 R1s are nan\n",
      "WARNING:root:99 R2s are nan\n",
      "INFO:root:4048 binaries are \"too close\"; gave up trying to fix.\n",
      "INFO:root:11934 BEB systems generated (target 25000)\n",
      "WARNING:root:0 M1s are nan\n",
      "WARNING:root:137 M2s are nan\n",
      "WARNING:root:0 R1s are nan\n",
      "WARNING:root:137 R2s are nan\n",
      "INFO:root:5396 binaries are \"too close\"; gave up trying to fix.\n",
      "INFO:root:26890 BEB systems generated (target 25000)\n",
      "INFO:root:Fitting trapezoid models for BEBs...\n",
      "ERROR:root:No eclipse registered for star 2067ms:   7% |        | ETA:  0:01:01\n",
      "INFO:root:Done.hape parameters for 23531 systems:  99% |||||||| | ETA:  0:00:00\n",
      "INFO:root:Fitting trapezoid models for BEBs...\n",
      "ERROR:root:No eclipse registered for star 2067ms:   8% |        | ETA:  0:01:03\n",
      "INFO:root:Done.hape parameters for 23531 systems:  99% |/////// | ETA:  0:00:00\n",
      "INFO:root:Fitting trapezoid models for BEBs...\n",
      "ERROR:root:No eclipse registered for star 2067ms:   8% |        | ETA:  0:00:38\n",
      "INFO:root:Done.hape parameters for 23531 systems:  99% |\\\\\\\\\\\\\\ | ETA:  0:00:00\n",
      "INFO:root:Fitting trapezoid models for BEBs...\n",
      "ERROR:root:No eclipse registered for star 2067ms:   8% |        | ETA:  0:00:41\n",
      "INFO:root:Done.hape parameters for 23531 systems:  99% |\\\\\\\\\\\\\\ | ETA:  0:00:00\n",
      "INFO:root:Fitting trapezoid models for BEBs...\n",
      "ERROR:root:No eclipse registered for star 2067ms:   8% |        | ETA:  0:00:41\n",
      "INFO:root:Done.hape parameters for 23531 systems:  99% |\\\\\\\\\\\\\\ | ETA:  0:00:00\n",
      "INFO:root:Fitting trapezoid models for BEBs...\n",
      "ERROR:root:No eclipse registered for star 2067ms:   8% |        | ETA:  0:00:36\n",
      "INFO:root:Done.hape parameters for 23531 systems:  99% |\\\\\\\\\\\\\\ | ETA:  0:00:00\n",
      "INFO:root:Fitting trapezoid models for BEBs...\n",
      "ERROR:root:No eclipse registered for star 2067ms:   8% |        | ETA:  0:00:36\n",
      "INFO:root:Done.hape parameters for 23531 systems:  99% |\\\\\\\\\\\\\\ | ETA:  0:00:00\n",
      "INFO:root:Fitting trapezoid models for BEBs...\n",
      "ERROR:root:No eclipse registered for star 2067ms:   8% |        | ETA:  0:00:47\n",
      "INFO:root:Done.hape parameters for 23531 systems:  99% |\\\\\\\\\\\\\\ | ETA:  0:00:00\n",
      "INFO:root:Fitting trapezoid models for BEBs...\n",
      "ERROR:root:No eclipse registered for star 2067ms:   8% |        | ETA:  0:00:45\n",
      "INFO:root:Done.hape parameters for 23531 systems:  99% |\\\\\\\\\\\\\\ | ETA:  0:00:00\n"
     ]
    },
    {
     "name": "stdout",
     "output_type": "stream",
     "text": [
      "22 K04050.01\n"
     ]
    },
    {
     "name": "stderr",
     "output_type": "stream",
     "text": [
      "INFO:root:Loading TRILEGAL simulation from /Users/neptune/Documents/Thesis/pipeline/data_beb_2/K04050.01/K04050.01_starfield.h5\n",
      "WARNING:root:0 M1s are nan\n",
      "WARNING:root:109 M2s are nan\n",
      "WARNING:root:0 R1s are nan\n",
      "WARNING:root:109 R2s are nan\n",
      "INFO:root:68 binaries are \"too close\"; gave up trying to fix.\n",
      "INFO:root:538 BEB systems generated (target 25000)\n",
      "WARNING:root:0 M1s are nan\n",
      "WARNING:root:2207 M2s are nan\n",
      "WARNING:root:0 R1s are nan\n",
      "WARNING:root:2207 R2s are nan\n",
      "INFO:root:1425 binaries are \"too close\"; gave up trying to fix.\n",
      "INFO:root:9933 BEB systems generated (target 25000)\n",
      "WARNING:root:0 M1s are nan\n",
      "WARNING:root:2129 M2s are nan\n",
      "WARNING:root:0 R1s are nan\n",
      "WARNING:root:2129 R2s are nan\n",
      "INFO:root:1433 binaries are \"too close\"; gave up trying to fix.\n",
      "INFO:root:19466 BEB systems generated (target 25000)\n",
      "WARNING:root:0 M1s are nan\n",
      "WARNING:root:1513 M2s are nan\n",
      "WARNING:root:0 R1s are nan\n",
      "WARNING:root:1513 R2s are nan\n",
      "INFO:root:935 binaries are \"too close\"; gave up trying to fix.\n",
      "INFO:root:26051 BEB systems generated (target 25000)\n",
      "INFO:root:Fitting trapezoid models for BEBs...\n",
      "INFO:root:Done.hape parameters for 13535 systems:  99% |\\\\\\\\\\\\\\ | ETA:  0:00:00\n",
      "INFO:root:Fitting trapezoid models for BEBs...\n",
      "INFO:root:Done.hape parameters for 13535 systems:  99% |/////// | ETA:  0:00:00\n",
      "INFO:root:Fitting trapezoid models for BEBs...\n",
      "INFO:root:Done.hape parameters for 13535 systems:  99% |/////// | ETA:  0:00:00\n",
      "INFO:root:Fitting trapezoid models for BEBs...\n",
      "INFO:root:Done.hape parameters for 13535 systems:  99% |------- | ETA:  0:00:00\n",
      "INFO:root:Fitting trapezoid models for BEBs...\n",
      "INFO:root:Done.hape parameters for 13535 systems:  99% |/////// | ETA:  0:00:00\n",
      "INFO:root:Fitting trapezoid models for BEBs...\n",
      "INFO:root:Done.hape parameters for 13535 systems:  99% |\\\\\\\\\\\\\\ | ETA:  0:00:00\n",
      "INFO:root:Fitting trapezoid models for BEBs...\n",
      "INFO:root:Done.hape parameters for 13535 systems:  99% |\\\\\\\\\\\\\\ | ETA:  0:00:00\n",
      "INFO:root:Fitting trapezoid models for BEBs...\n",
      "INFO:root:Done.hape parameters for 13535 systems:  99% |------- | ETA:  0:00:00\n",
      "INFO:root:Fitting trapezoid models for BEBs...\n",
      "INFO:root:Done.hape parameters for 13535 systems:  99% |\\\\\\\\\\\\\\ | ETA:  0:00:00\n"
     ]
    },
    {
     "name": "stdout",
     "output_type": "stream",
     "text": [
      "23 K06077.01\n"
     ]
    },
    {
     "name": "stderr",
     "output_type": "stream",
     "text": [
      "INFO:root:Loading TRILEGAL simulation from /Users/neptune/Documents/Thesis/pipeline/data_beb_2/K06077.01/K06077.01_starfield.h5\n",
      "WARNING:root:0 M1s are nan\n",
      "WARNING:root:86 M2s are nan\n",
      "WARNING:root:0 R1s are nan\n",
      "WARNING:root:86 R2s are nan\n",
      "INFO:root:242 binaries are \"too close\"; gave up trying to fix.\n",
      "INFO:root:6825 BEB systems generated (target 25000)\n",
      "WARNING:root:0 M1s are nan\n",
      "WARNING:root:339 M2s are nan\n",
      "WARNING:root:0 R1s are nan\n",
      "WARNING:root:339 R2s are nan\n",
      "INFO:root:771 binaries are \"too close\"; gave up trying to fix.\n",
      "INFO:root:28665 BEB systems generated (target 25000)\n",
      "INFO:root:Fitting trapezoid models for BEBs...\n",
      "ERROR:root:No eclipse registered for star 5984ms:  30% |--      | ETA:  0:00:20\n",
      "INFO:root:Done.hape parameters for 19896 systems:  99% |\\\\\\\\\\\\\\ | ETA:  0:00:00\n",
      "INFO:root:Fitting trapezoid models for BEBs...\n",
      "ERROR:root:No eclipse registered for star 5984ms:  30% |--      | ETA:  0:00:27\n",
      "INFO:root:Done.hape parameters for 19896 systems:  99% |\\\\\\\\\\\\\\ | ETA:  0:00:00\n",
      "INFO:root:Fitting trapezoid models for BEBs...\n",
      "ERROR:root:No eclipse registered for star 5984ms:  30% |--      | ETA:  0:00:25\n",
      "INFO:root:Done.hape parameters for 19896 systems:  99% |\\\\\\\\\\\\\\ | ETA:  0:00:00\n",
      "INFO:root:Fitting trapezoid models for BEBs...\n",
      "ERROR:root:No eclipse registered for star 5984ms:  30% |--      | ETA:  0:00:25\n",
      "INFO:root:Done.hape parameters for 19896 systems:  99% |\\\\\\\\\\\\\\ | ETA:  0:00:00\n",
      "INFO:root:Fitting trapezoid models for BEBs...\n",
      "ERROR:root:No eclipse registered for star 5984ms:  30% |--      | ETA:  0:00:27\n",
      "INFO:root:Done.hape parameters for 19896 systems:  99% |\\\\\\\\\\\\\\ | ETA:  0:00:00\n",
      "INFO:root:Fitting trapezoid models for BEBs...\n",
      "ERROR:root:No eclipse registered for star 5984ms:  30% |--      | ETA:  0:00:27\n",
      "INFO:root:Done.hape parameters for 19896 systems:  99% |\\\\\\\\\\\\\\ | ETA:  0:00:00\n",
      "INFO:root:Fitting trapezoid models for BEBs...\n",
      "ERROR:root:No eclipse registered for star 5984ms:  30% |--      | ETA:  0:00:26\n",
      "INFO:root:Done.hape parameters for 19896 systems:  99% |\\\\\\\\\\\\\\ | ETA:  0:00:00\n",
      "INFO:root:Fitting trapezoid models for BEBs...\n",
      "ERROR:root:No eclipse registered for star 5984ms:  30% |--      | ETA:  0:00:30\n",
      "INFO:root:Done.hape parameters for 19896 systems:  99% |\\\\\\\\\\\\\\ | ETA:  0:00:00\n",
      "INFO:root:Fitting trapezoid models for BEBs...\n",
      "ERROR:root:No eclipse registered for star 5984ms:  30% |--      | ETA:  0:00:26\n",
      "INFO:root:Done.hape parameters for 19896 systems:  99% |\\\\\\\\\\\\\\ | ETA:  0:00:00\n"
     ]
    },
    {
     "name": "stdout",
     "output_type": "stream",
     "text": [
      "24 K06088.01\n"
     ]
    },
    {
     "name": "stderr",
     "output_type": "stream",
     "text": [
      "INFO:root:Loading TRILEGAL simulation from /Users/neptune/Documents/Thesis/pipeline/data_beb_2/K06088.01/K06088.01_starfield.h5\n",
      "WARNING:root:0 M1s are nan\n",
      "WARNING:root:91 M2s are nan\n",
      "WARNING:root:0 R1s are nan\n",
      "WARNING:root:91 R2s are nan\n",
      "INFO:root:158 binaries are \"too close\"; gave up trying to fix.\n",
      "INFO:root:5259 BEB systems generated (target 25000)\n",
      "WARNING:root:0 M1s are nan\n",
      "WARNING:root:422 M2s are nan\n",
      "WARNING:root:0 R1s are nan\n",
      "WARNING:root:422 R2s are nan\n",
      "INFO:root:744 binaries are \"too close\"; gave up trying to fix.\n",
      "INFO:root:29257 BEB systems generated (target 25000)\n",
      "INFO:root:Fitting trapezoid models for BEBs...\n",
      "INFO:root:Done.hape parameters for 19957 systems:  99% |\\\\\\\\\\\\\\ | ETA:  0:00:00\n",
      "INFO:root:Fitting trapezoid models for BEBs...\n",
      "INFO:root:Done.hape parameters for 19957 systems:  99% |\\\\\\\\\\\\\\ | ETA:  0:00:00\n",
      "INFO:root:Fitting trapezoid models for BEBs...\n",
      "INFO:root:Done.hape parameters for 19957 systems:  99% |\\\\\\\\\\\\\\ | ETA:  0:00:00\n",
      "INFO:root:Fitting trapezoid models for BEBs...\n",
      "INFO:root:Done.hape parameters for 19957 systems:  99% |\\\\\\\\\\\\\\ | ETA:  0:00:00\n",
      "INFO:root:Fitting trapezoid models for BEBs...\n",
      "INFO:root:Done.hape parameters for 19957 systems:  99% |\\\\\\\\\\\\\\ | ETA:  0:00:00\n",
      "INFO:root:Fitting trapezoid models for BEBs...\n",
      "INFO:root:Done.hape parameters for 19957 systems:  99% |\\\\\\\\\\\\\\ | ETA:  0:00:00\n",
      "INFO:root:Fitting trapezoid models for BEBs...\n",
      "INFO:root:Done.hape parameters for 19957 systems:  99% |\\\\\\\\\\\\\\ | ETA:  0:00:00\n",
      "INFO:root:Fitting trapezoid models for BEBs...\n",
      "INFO:root:Done.hape parameters for 19957 systems:  99% |\\\\\\\\\\\\\\ | ETA:  0:00:00\n",
      "INFO:root:Fitting trapezoid models for BEBs...\n",
      "INFO:root:Done.hape parameters for 19957 systems:  99% |\\\\\\\\\\\\\\ | ETA:  0:00:00\n"
     ]
    },
    {
     "name": "stdout",
     "output_type": "stream",
     "text": [
      "25 K05449.02\n"
     ]
    },
    {
     "name": "stderr",
     "output_type": "stream",
     "text": [
      "INFO:root:Loading TRILEGAL simulation from /Users/neptune/Documents/Thesis/pipeline/data_beb_2/K05449.02/K05449.02_starfield.h5\n",
      "WARNING:root:0 M1s are nan\n",
      "WARNING:root:80 M2s are nan\n",
      "WARNING:root:0 R1s are nan\n",
      "WARNING:root:80 R2s are nan\n",
      "INFO:root:108 binaries are \"too close\"; gave up trying to fix.\n",
      "INFO:root:3080 BEB systems generated (target 25000)\n",
      "WARNING:root:0 M1s are nan\n",
      "WARNING:root:711 M2s are nan\n",
      "WARNING:root:0 R1s are nan\n",
      "WARNING:root:711 R2s are nan\n",
      "INFO:root:1010 binaries are \"too close\"; gave up trying to fix.\n",
      "INFO:root:28970 BEB systems generated (target 25000)\n",
      "INFO:root:Fitting trapezoid models for BEBs...\n",
      "INFO:root:Done.hape parameters for 16510 systems:  99% |\\\\\\\\\\\\\\ | ETA:  0:00:00\n",
      "INFO:root:Fitting trapezoid models for BEBs...\n",
      "INFO:root:Done.hape parameters for 16510 systems:  99% |\\\\\\\\\\\\\\ | ETA:  0:00:00\n",
      "INFO:root:Fitting trapezoid models for BEBs...\n",
      "INFO:root:Done.hape parameters for 16510 systems:  99% |\\\\\\\\\\\\\\ | ETA:  0:00:00\n",
      "INFO:root:Fitting trapezoid models for BEBs...\n",
      "INFO:root:Done.hape parameters for 16510 systems:  99% |\\\\\\\\\\\\\\ | ETA:  0:00:00\n",
      "INFO:root:Fitting trapezoid models for BEBs...\n",
      "INFO:root:Done.hape parameters for 16510 systems:  99% |\\\\\\\\\\\\\\ | ETA:  0:00:00\n",
      "INFO:root:Fitting trapezoid models for BEBs...\n",
      "INFO:root:Done.hape parameters for 16510 systems:  99% |\\\\\\\\\\\\\\ | ETA:  0:00:00\n",
      "INFO:root:Fitting trapezoid models for BEBs...\n",
      "INFO:root:Done.hape parameters for 16510 systems:  99% |\\\\\\\\\\\\\\ | ETA:  0:00:00\n",
      "INFO:root:Fitting trapezoid models for BEBs...\n",
      "INFO:root:Done.hape parameters for 16510 systems:  99% |\\\\\\\\\\\\\\ | ETA:  0:00:00\n",
      "INFO:root:Fitting trapezoid models for BEBs...\n",
      "INFO:root:Done.hape parameters for 16510 systems:  99% |\\\\\\\\\\\\\\ | ETA:  0:00:00\n"
     ]
    },
    {
     "name": "stdout",
     "output_type": "stream",
     "text": [
      "26 K05449.01\n"
     ]
    },
    {
     "name": "stderr",
     "output_type": "stream",
     "text": [
      "INFO:root:Loading TRILEGAL simulation from /Users/neptune/Documents/Thesis/pipeline/data_beb_2/K05449.01/K05449.01_starfield.h5\n",
      "WARNING:root:0 M1s are nan\n",
      "WARNING:root:83 M2s are nan\n",
      "WARNING:root:0 R1s are nan\n",
      "WARNING:root:83 R2s are nan\n",
      "INFO:root:1131 binaries are \"too close\"; gave up trying to fix.\n",
      "INFO:root:11161 BEB systems generated (target 25000)\n",
      "WARNING:root:0 M1s are nan\n",
      "WARNING:root:116 M2s are nan\n",
      "WARNING:root:0 R1s are nan\n",
      "WARNING:root:116 R2s are nan\n",
      "INFO:root:1755 binaries are \"too close\"; gave up trying to fix.\n",
      "INFO:root:28137 BEB systems generated (target 25000)\n",
      "INFO:root:Fitting trapezoid models for BEBs...\n",
      "ERROR:root:No eclipse registered for star 721ems:   3% |        | ETA:  0:00:51\n",
      "INFO:root:Done.hape parameters for 22066 systems:  99% |------- | ETA:  0:00:00\n",
      "INFO:root:Fitting trapezoid models for BEBs...\n",
      "ERROR:root:No eclipse registered for star 721ems:   3% |        | ETA:  0:01:22\n",
      "INFO:root:Done.hape parameters for 22066 systems:  99% |------- | ETA:  0:00:00\n",
      "INFO:root:Fitting trapezoid models for BEBs...\n",
      "ERROR:root:No eclipse registered for star 721ems:   3% |        | ETA:  0:01:19\n",
      "INFO:root:Done.hape parameters for 22066 systems:  99% |\\\\\\\\\\\\\\ | ETA:  0:00:00\n",
      "INFO:root:Fitting trapezoid models for BEBs...\n",
      "ERROR:root:No eclipse registered for star 721ems:   2% |        | ETA:  0:02:34\n",
      "INFO:root:Done.hape parameters for 22066 systems:  99% |/////// | ETA:  0:00:00\n",
      "INFO:root:Fitting trapezoid models for BEBs...\n",
      "ERROR:root:No eclipse registered for star 721ems:   3% |        | ETA:  0:00:59\n",
      "INFO:root:Done.hape parameters for 22066 systems:  99% |||||||| | ETA:  0:00:00\n",
      "INFO:root:Fitting trapezoid models for BEBs...\n",
      "ERROR:root:No eclipse registered for star 721ems:   2% |        | ETA:  0:01:16\n",
      "INFO:root:Done.hape parameters for 22066 systems:  99% |/////// | ETA:  0:00:00\n",
      "INFO:root:Fitting trapezoid models for BEBs...\n",
      "ERROR:root:No eclipse registered for star 721ems:   2% |        | ETA:  0:02:12\n",
      "INFO:root:Done.hape parameters for 22066 systems:  99% |||||||| | ETA:  0:00:00\n",
      "INFO:root:Fitting trapezoid models for BEBs...\n",
      "ERROR:root:No eclipse registered for star 721ems:   3% |        | ETA:  0:01:13\n",
      "INFO:root:Done.hape parameters for 22066 systems:  99% |/////// | ETA:  0:00:00\n",
      "INFO:root:Fitting trapezoid models for BEBs...\n",
      "ERROR:root:No eclipse registered for star 721ems:   2% |        | ETA:  0:01:29\n",
      "INFO:root:Done.hape parameters for 22066 systems:  99% |------- | ETA:  0:00:00\n"
     ]
    },
    {
     "name": "stdout",
     "output_type": "stream",
     "text": [
      "27 K06070.01\n"
     ]
    },
    {
     "name": "stderr",
     "output_type": "stream",
     "text": [
      "INFO:root:Loading TRILEGAL simulation from /Users/neptune/Documents/Thesis/pipeline/data_beb_2/K06070.01/K06070.01_starfield.h5\n",
      "WARNING:root:0 M1s are nan\n",
      "WARNING:root:91 M2s are nan\n",
      "WARNING:root:0 R1s are nan\n",
      "WARNING:root:91 R2s are nan\n",
      "INFO:root:201 binaries are \"too close\"; gave up trying to fix.\n",
      "INFO:root:3350 BEB systems generated (target 25000)\n",
      "WARNING:root:0 M1s are nan\n",
      "WARNING:root:691 M2s are nan\n",
      "WARNING:root:0 R1s are nan\n",
      "WARNING:root:691 R2s are nan\n",
      "INFO:root:1702 binaries are \"too close\"; gave up trying to fix.\n",
      "INFO:root:27040 BEB systems generated (target 25000)\n",
      "INFO:root:Fitting trapezoid models for BEBs...\n",
      "ERROR:root:No eclipse registered for star 6568ms:  39% |\\\\\\     | ETA:  0:01:05\n",
      "INFO:root:Done.hape parameters for 16309 systems:  99% |||||||| | ETA:  0:00:00\n",
      "INFO:root:Fitting trapezoid models for BEBs...\n",
      "ERROR:root:No eclipse registered for star 6568ms:  40% ||||     | ETA:  0:00:55\n",
      "INFO:root:Done.hape parameters for 16309 systems:  99% |\\\\\\\\\\\\\\ | ETA:  0:00:00\n",
      "INFO:root:Fitting trapezoid models for BEBs...\n",
      "ERROR:root:No eclipse registered for star 6568ms:  39% |---     | ETA:  0:01:02\n",
      "INFO:root:Done.hape parameters for 16309 systems:  99% |\\\\\\\\\\\\\\ | ETA:  0:00:00\n",
      "INFO:root:Fitting trapezoid models for BEBs...\n",
      "ERROR:root:No eclipse registered for star 6568ms:  40% |\\\\\\     | ETA:  0:00:51\n",
      "INFO:root:Done.hape parameters for 16309 systems:  99% |\\\\\\\\\\\\\\ | ETA:  0:00:00\n",
      "INFO:root:Fitting trapezoid models for BEBs...\n",
      "ERROR:root:No eclipse registered for star 6568ms:  39% ||||     | ETA:  0:01:00\n",
      "INFO:root:Done.hape parameters for 16309 systems:  99% |/////// | ETA:  0:00:00\n",
      "INFO:root:Fitting trapezoid models for BEBs...\n",
      "ERROR:root:No eclipse registered for star 6568ms:  40% |///     | ETA:  0:01:03\n",
      "INFO:root:Done.hape parameters for 16309 systems:  99% |------- | ETA:  0:00:00\n",
      "INFO:root:Fitting trapezoid models for BEBs...\n",
      "ERROR:root:No eclipse registered for star 6568ms:  39% |---     | ETA:  0:00:51\n",
      "INFO:root:Done.hape parameters for 16309 systems:  99% |/////// | ETA:  0:00:00\n",
      "INFO:root:Fitting trapezoid models for BEBs...\n",
      "ERROR:root:No eclipse registered for star 6568ms:  39% |---     | ETA:  0:00:56\n",
      "INFO:root:Done.hape parameters for 16309 systems:  99% |/////// | ETA:  0:00:00\n",
      "INFO:root:Fitting trapezoid models for BEBs...\n",
      "ERROR:root:No eclipse registered for star 6568ms:  40% ||||     | ETA:  0:00:59\n",
      "INFO:root:Done.hape parameters for 16309 systems:  99% |/////// | ETA:  0:00:00\n"
     ]
    },
    {
     "name": "stdout",
     "output_type": "stream",
     "text": [
      "28 K06930.01\n"
     ]
    },
    {
     "name": "stderr",
     "output_type": "stream",
     "text": [
      "INFO:root:Loading TRILEGAL simulation from /Users/neptune/Documents/Thesis/pipeline/data_beb_2/K06930.01/K06930.01_starfield.h5\n",
      "WARNING:root:0 M1s are nan\n",
      "WARNING:root:80 M2s are nan\n",
      "WARNING:root:0 R1s are nan\n",
      "WARNING:root:80 R2s are nan\n",
      "INFO:root:6346 binaries are \"too close\"; gave up trying to fix.\n",
      "INFO:root:10258 BEB systems generated (target 25000)\n",
      "WARNING:root:0 M1s are nan\n",
      "WARNING:root:140 M2s are nan\n",
      "WARNING:root:0 R1s are nan\n",
      "WARNING:root:140 R2s are nan\n",
      "INFO:root:10756 binaries are \"too close\"; gave up trying to fix.\n",
      "INFO:root:28121 BEB systems generated (target 25000)\n",
      "INFO:root:Fitting trapezoid models for BEBs...\n",
      "INFO:root:Done.hape parameters for 23982 systems:  99% |\\\\\\\\\\\\\\ | ETA:  0:00:00\n",
      "INFO:root:Fitting trapezoid models for BEBs...\n",
      "INFO:root:Done.hape parameters for 23982 systems:  99% |\\\\\\\\\\\\\\ | ETA:  0:00:00\n",
      "INFO:root:Fitting trapezoid models for BEBs...\n",
      "INFO:root:Done.hape parameters for 23982 systems:  99% |\\\\\\\\\\\\\\ | ETA:  0:00:00\n",
      "INFO:root:Fitting trapezoid models for BEBs...\n",
      "INFO:root:Done.hape parameters for 23982 systems:  99% |\\\\\\\\\\\\\\ | ETA:  0:00:00\n",
      "INFO:root:Fitting trapezoid models for BEBs...\n",
      "INFO:root:Done.hape parameters for 23982 systems:  99% |\\\\\\\\\\\\\\ | ETA:  0:00:00\n",
      "INFO:root:Fitting trapezoid models for BEBs...\n",
      "INFO:root:Done.hape parameters for 23982 systems:  99% |\\\\\\\\\\\\\\ | ETA:  0:00:00\n",
      "INFO:root:Fitting trapezoid models for BEBs...\n",
      "INFO:root:Done.hape parameters for 23982 systems:  99% |\\\\\\\\\\\\\\ | ETA:  0:00:00\n",
      "INFO:root:Fitting trapezoid models for BEBs...\n",
      "INFO:root:Done.hape parameters for 23982 systems:  99% |\\\\\\\\\\\\\\ | ETA:  0:00:00\n",
      "INFO:root:Fitting trapezoid models for BEBs...\n",
      "INFO:root:Done.hape parameters for 23982 systems:  99% |\\\\\\\\\\\\\\ | ETA:  0:00:00\n"
     ]
    },
    {
     "name": "stdout",
     "output_type": "stream",
     "text": [
      "29 K06936.01\n"
     ]
    },
    {
     "name": "stderr",
     "output_type": "stream",
     "text": [
      "INFO:root:Loading TRILEGAL simulation from /Users/neptune/Documents/Thesis/pipeline/data_beb_2/K06936.01/K06936.01_starfield.h5\n",
      "WARNING:root:0 M1s are nan\n",
      "WARNING:root:81 M2s are nan\n",
      "WARNING:root:0 R1s are nan\n",
      "WARNING:root:81 R2s are nan\n",
      "INFO:root:342 binaries are \"too close\"; gave up trying to fix.\n",
      "INFO:root:8359 BEB systems generated (target 25000)\n",
      "WARNING:root:0 M1s are nan\n",
      "WARNING:root:242 M2s are nan\n",
      "WARNING:root:0 R1s are nan\n",
      "WARNING:root:242 R2s are nan\n",
      "INFO:root:833 binaries are \"too close\"; gave up trying to fix.\n",
      "INFO:root:28530 BEB systems generated (target 25000)\n",
      "INFO:root:Fitting trapezoid models for BEBs...\n",
      "ERROR:root:No eclipse registered for star 18365s:  88% |||||||| | ETA:  0:00:03\n",
      "INFO:root:Done.hape parameters for 20725 systems:  99% |\\\\\\\\\\\\\\ | ETA:  0:00:00\n",
      "INFO:root:Fitting trapezoid models for BEBs...\n",
      "ERROR:root:No eclipse registered for star 18365s:  88% |||||||| | ETA:  0:00:03\n",
      "INFO:root:Done.hape parameters for 20725 systems:  99% |\\\\\\\\\\\\\\ | ETA:  0:00:00\n",
      "INFO:root:Fitting trapezoid models for BEBs...\n",
      "ERROR:root:No eclipse registered for star 18365s:  88% |||||||| | ETA:  0:00:03\n",
      "INFO:root:Done.hape parameters for 20725 systems:  99% |\\\\\\\\\\\\\\ | ETA:  0:00:00\n",
      "INFO:root:Fitting trapezoid models for BEBs...\n",
      "ERROR:root:No eclipse registered for star 18365s:  88% |||||||| | ETA:  0:00:03\n",
      "INFO:root:Done.hape parameters for 20725 systems:  99% |\\\\\\\\\\\\\\ | ETA:  0:00:00\n",
      "INFO:root:Fitting trapezoid models for BEBs...\n",
      "ERROR:root:No eclipse registered for star 18365s:  88% |||||||| | ETA:  0:00:03\n",
      "INFO:root:Done.hape parameters for 20725 systems:  99% |\\\\\\\\\\\\\\ | ETA:  0:00:00\n",
      "INFO:root:Fitting trapezoid models for BEBs...\n",
      "ERROR:root:No eclipse registered for star 18365s:  88% |||||||| | ETA:  0:00:03\n",
      "INFO:root:Done.hape parameters for 20725 systems:  99% |\\\\\\\\\\\\\\ | ETA:  0:00:00\n",
      "INFO:root:Fitting trapezoid models for BEBs...\n",
      "ERROR:root:No eclipse registered for star 18365s:  88% |||||||| | ETA:  0:00:03\n",
      "INFO:root:Done.hape parameters for 20725 systems:  99% |\\\\\\\\\\\\\\ | ETA:  0:00:00\n",
      "INFO:root:Fitting trapezoid models for BEBs...\n",
      "ERROR:root:No eclipse registered for star 18365s:  88% |||||||| | ETA:  0:00:03\n",
      "INFO:root:Done.hape parameters for 20725 systems:  99% |\\\\\\\\\\\\\\ | ETA:  0:00:00\n",
      "INFO:root:Fitting trapezoid models for BEBs...\n",
      "ERROR:root:No eclipse registered for star 18365s:  88% |||||||| | ETA:  0:00:03\n",
      "INFO:root:Done.hape parameters for 20725 systems:  99% |\\\\\\\\\\\\\\ | ETA:  0:00:00\n"
     ]
    },
    {
     "name": "stdout",
     "output_type": "stream",
     "text": [
      "30 K07022.01\n"
     ]
    },
    {
     "name": "stderr",
     "output_type": "stream",
     "text": [
      "INFO:root:Loading TRILEGAL simulation from /Users/neptune/Documents/Thesis/pipeline/data_beb_2/K07022.01/K07022.01_starfield.h5\n",
      "WARNING:root:0 M1s are nan\n",
      "WARNING:root:105 M2s are nan\n",
      "WARNING:root:0 R1s are nan\n",
      "WARNING:root:105 R2s are nan\n",
      "INFO:root:132 binaries are \"too close\"; gave up trying to fix.\n",
      "INFO:root:3839 BEB systems generated (target 25000)\n",
      "WARNING:root:0 M1s are nan\n",
      "WARNING:root:671 M2s are nan\n",
      "WARNING:root:0 R1s are nan\n",
      "WARNING:root:671 R2s are nan\n",
      "INFO:root:895 binaries are \"too close\"; gave up trying to fix.\n",
      "INFO:root:30071 BEB systems generated (target 25000)\n",
      "INFO:root:Fitting trapezoid models for BEBs...\n",
      "INFO:root:Done.hape parameters for 17185 systems:  99% |\\\\\\\\\\\\\\ | ETA:  0:00:00\n",
      "INFO:root:Fitting trapezoid models for BEBs...\n",
      "INFO:root:Done.hape parameters for 17185 systems:  99% |\\\\\\\\\\\\\\ | ETA:  0:00:00\n",
      "INFO:root:Fitting trapezoid models for BEBs...\n",
      "INFO:root:Done.hape parameters for 17185 systems:  99% |\\\\\\\\\\\\\\ | ETA:  0:00:00\n",
      "INFO:root:Fitting trapezoid models for BEBs...\n",
      "INFO:root:Done.hape parameters for 17185 systems:  99% |\\\\\\\\\\\\\\ | ETA:  0:00:00\n",
      "INFO:root:Fitting trapezoid models for BEBs...\n",
      "INFO:root:Done.hape parameters for 17185 systems:  99% |\\\\\\\\\\\\\\ | ETA:  0:00:00\n",
      "INFO:root:Fitting trapezoid models for BEBs...\n",
      "INFO:root:Done.hape parameters for 17185 systems:  99% |\\\\\\\\\\\\\\ | ETA:  0:00:00\n",
      "INFO:root:Fitting trapezoid models for BEBs...\n",
      "INFO:root:Done.hape parameters for 17185 systems:  99% |\\\\\\\\\\\\\\ | ETA:  0:00:00\n",
      "INFO:root:Fitting trapezoid models for BEBs...\n",
      "INFO:root:Done.hape parameters for 17185 systems:  99% |\\\\\\\\\\\\\\ | ETA:  0:00:00\n",
      "INFO:root:Fitting trapezoid models for BEBs...\n",
      "INFO:root:Done.hape parameters for 17185 systems:  99% |\\\\\\\\\\\\\\ | ETA:  0:00:00\n"
     ]
    },
    {
     "name": "stdout",
     "output_type": "stream",
     "text": [
      "31 K06627.01\n"
     ]
    },
    {
     "name": "stderr",
     "output_type": "stream",
     "text": [
      "INFO:root:Loading TRILEGAL simulation from /Users/neptune/Documents/Thesis/pipeline/data_beb_2/K06627.01/K06627.01_starfield.h5\n",
      "WARNING:root:0 M1s are nan\n",
      "WARNING:root:101 M2s are nan\n",
      "WARNING:root:0 R1s are nan\n",
      "WARNING:root:101 R2s are nan\n",
      "INFO:root:590 binaries are \"too close\"; gave up trying to fix.\n",
      "INFO:root:9077 BEB systems generated (target 25000)\n",
      "WARNING:root:0 M1s are nan\n",
      "WARNING:root:216 M2s are nan\n",
      "WARNING:root:0 R1s are nan\n",
      "WARNING:root:216 R2s are nan\n",
      "INFO:root:1264 binaries are \"too close\"; gave up trying to fix.\n",
      "INFO:root:28088 BEB systems generated (target 25000)\n",
      "INFO:root:Fitting trapezoid models for BEBs...\n",
      "ERROR:root:No eclipse registered for star 8251ms:  40% ||||     | ETA:  0:00:17\n",
      "INFO:root:Done.hape parameters for 20225 systems:  99% |\\\\\\\\\\\\\\ | ETA:  0:00:00\n",
      "INFO:root:Fitting trapezoid models for BEBs...\n",
      "ERROR:root:No eclipse registered for star 8251ms:  40% ||||     | ETA:  0:00:17\n",
      "INFO:root:Done.hape parameters for 20225 systems:  99% |\\\\\\\\\\\\\\ | ETA:  0:00:00\n",
      "INFO:root:Fitting trapezoid models for BEBs...\n",
      "ERROR:root:No eclipse registered for star 8251ms:  40% ||||     | ETA:  0:00:17\n",
      "INFO:root:Done.hape parameters for 20225 systems:  99% |\\\\\\\\\\\\\\ | ETA:  0:00:00\n",
      "INFO:root:Fitting trapezoid models for BEBs...\n",
      "ERROR:root:No eclipse registered for star 8251ms:  40% ||||     | ETA:  0:00:17\n",
      "INFO:root:Done.hape parameters for 20225 systems:  99% |\\\\\\\\\\\\\\ | ETA:  0:00:00\n",
      "INFO:root:Fitting trapezoid models for BEBs...\n",
      "ERROR:root:No eclipse registered for star 8251ms:  40% ||||     | ETA:  0:00:17\n",
      "INFO:root:Done.hape parameters for 20225 systems:  99% |\\\\\\\\\\\\\\ | ETA:  0:00:00\n",
      "INFO:root:Fitting trapezoid models for BEBs...\n",
      "ERROR:root:No eclipse registered for star 8251ms:  40% ||||     | ETA:  0:00:17\n",
      "INFO:root:Done.hape parameters for 20225 systems:  99% |\\\\\\\\\\\\\\ | ETA:  0:00:00\n",
      "INFO:root:Fitting trapezoid models for BEBs...\n",
      "ERROR:root:No eclipse registered for star 8251ms:  40% ||||     | ETA:  0:00:17\n",
      "INFO:root:Done.hape parameters for 20225 systems:  99% |\\\\\\\\\\\\\\ | ETA:  0:00:00\n",
      "INFO:root:Fitting trapezoid models for BEBs...\n",
      "ERROR:root:No eclipse registered for star 8251ms:  40% ||||     | ETA:  0:00:17\n",
      "INFO:root:Done.hape parameters for 20225 systems:  99% |\\\\\\\\\\\\\\ | ETA:  0:00:00\n",
      "INFO:root:Fitting trapezoid models for BEBs...\n",
      "ERROR:root:No eclipse registered for star 8251ms:  40% ||||     | ETA:  0:00:17\n",
      "INFO:root:Done.hape parameters for 20225 systems:  99% |\\\\\\\\\\\\\\ | ETA:  0:00:00\n"
     ]
    },
    {
     "name": "stdout",
     "output_type": "stream",
     "text": [
      "32 K07761.01\n"
     ]
    },
    {
     "name": "stderr",
     "output_type": "stream",
     "text": [
      "INFO:root:Loading TRILEGAL simulation from /Users/neptune/Documents/Thesis/pipeline/data_beb_2/K07761.01/K07761.01_starfield.h5\n",
      "WARNING:root:0 M1s are nan\n",
      "WARNING:root:73 M2s are nan\n",
      "WARNING:root:0 R1s are nan\n",
      "WARNING:root:73 R2s are nan\n",
      "INFO:root:26 binaries are \"too close\"; gave up trying to fix.\n",
      "INFO:root:840 BEB systems generated (target 25000)\n",
      "WARNING:root:0 M1s are nan\n",
      "WARNING:root:1600 M2s are nan\n",
      "WARNING:root:0 R1s are nan\n",
      "WARNING:root:1600 R2s are nan\n",
      "INFO:root:515 binaries are \"too close\"; gave up trying to fix.\n",
      "INFO:root:16988 BEB systems generated (target 25000)\n",
      "WARNING:root:0 M1s are nan\n",
      "WARNING:root:973 M2s are nan\n",
      "WARNING:root:0 R1s are nan\n",
      "WARNING:root:973 R2s are nan\n",
      "INFO:root:293 binaries are \"too close\"; gave up trying to fix.\n",
      "INFO:root:27103 BEB systems generated (target 25000)\n",
      "INFO:root:Fitting trapezoid models for BEBs...\n",
      "INFO:root:Done.hape parameters for 12574 systems:  99% |/////// | ETA:  0:00:00\n",
      "INFO:root:Fitting trapezoid models for BEBs...\n",
      "INFO:root:Done.hape parameters for 12574 systems:  99% |------- | ETA:  0:00:00\n",
      "INFO:root:Fitting trapezoid models for BEBs...\n",
      "INFO:root:Done.hape parameters for 12574 systems:  99% |||||||| | ETA:  0:00:00\n",
      "INFO:root:Fitting trapezoid models for BEBs...\n",
      "INFO:root:Done.hape parameters for 12574 systems:  99% |||||||| | ETA:  0:00:00\n",
      "INFO:root:Fitting trapezoid models for BEBs...\n",
      "INFO:root:Done.hape parameters for 12574 systems:  99% |------- | ETA:  0:00:00\n",
      "INFO:root:Fitting trapezoid models for BEBs...\n",
      "INFO:root:Done.hape parameters for 12574 systems:  99% |||||||| | ETA:  0:00:00\n",
      "INFO:root:Fitting trapezoid models for BEBs...\n",
      "INFO:root:Done.hape parameters for 12574 systems:  99% |------- | ETA:  0:00:00\n",
      "INFO:root:Fitting trapezoid models for BEBs...\n",
      "INFO:root:Done.hape parameters for 12574 systems:  99% |------- | ETA:  0:00:00\n",
      "INFO:root:Fitting trapezoid models for BEBs...\n",
      "INFO:root:Done.hape parameters for 12574 systems:  99% |\\\\\\\\\\\\\\ | ETA:  0:00:00\n"
     ]
    },
    {
     "name": "stdout",
     "output_type": "stream",
     "text": [
      "33 K07167.01\n"
     ]
    },
    {
     "name": "stderr",
     "output_type": "stream",
     "text": [
      "INFO:root:Loading TRILEGAL simulation from /Users/neptune/Documents/Thesis/pipeline/data_beb_2/K07167.01/K07167.01_starfield.h5\n",
      "WARNING:root:0 M1s are nan\n",
      "WARNING:root:86 M2s are nan\n",
      "WARNING:root:0 R1s are nan\n",
      "WARNING:root:86 R2s are nan\n",
      "INFO:root:195 binaries are \"too close\"; gave up trying to fix.\n",
      "INFO:root:4288 BEB systems generated (target 25000)\n",
      "WARNING:root:0 M1s are nan\n",
      "WARNING:root:459 M2s are nan\n",
      "WARNING:root:0 R1s are nan\n",
      "WARNING:root:459 R2s are nan\n",
      "INFO:root:978 binaries are \"too close\"; gave up trying to fix.\n",
      "INFO:root:27820 BEB systems generated (target 25000)\n",
      "INFO:root:Fitting trapezoid models for BEBs...\n",
      "INFO:root:Done.hape parameters for 20252 systems:  99% |||||||| | ETA:  0:00:00\n",
      "INFO:root:Fitting trapezoid models for BEBs...\n",
      "INFO:root:Done.hape parameters for 20252 systems:  99% |/////// | ETA:  0:00:00\n",
      "INFO:root:Fitting trapezoid models for BEBs...\n",
      "INFO:root:Done.hape parameters for 20252 systems:  99% |/////// | ETA:  0:00:00\n",
      "INFO:root:Fitting trapezoid models for BEBs...\n",
      "INFO:root:Done.hape parameters for 20252 systems:  98% |/////// | ETA:  0:00:00\n",
      "INFO:root:Fitting trapezoid models for BEBs...\n",
      "INFO:root:Done.hape parameters for 20252 systems:  99% |||||||| | ETA:  0:00:00\n",
      "INFO:root:Fitting trapezoid models for BEBs...\n",
      "INFO:root:Done.hape parameters for 20252 systems:  99% |\\\\\\\\\\\\\\ | ETA:  0:00:00\n",
      "INFO:root:Fitting trapezoid models for BEBs...\n",
      "INFO:root:Done.hape parameters for 20252 systems:  99% |||||||| | ETA:  0:00:00\n",
      "INFO:root:Fitting trapezoid models for BEBs...\n",
      "INFO:root:Done.hape parameters for 20252 systems:  99% |||||||| | ETA:  0:00:00\n",
      "INFO:root:Fitting trapezoid models for BEBs...\n",
      "INFO:root:Done.hape parameters for 20252 systems:  99% |/////// | ETA:  0:00:00\n"
     ]
    },
    {
     "name": "stdout",
     "output_type": "stream",
     "text": [
      "34 K07640.01\n"
     ]
    },
    {
     "name": "stderr",
     "output_type": "stream",
     "text": [
      "INFO:root:Loading TRILEGAL simulation from /Users/neptune/Documents/Thesis/pipeline/data_beb_2/K07640.01/K07640.01_starfield.h5\n",
      "WARNING:root:0 M1s are nan\n",
      "WARNING:root:85 M2s are nan\n",
      "WARNING:root:0 R1s are nan\n",
      "WARNING:root:85 R2s are nan\n",
      "INFO:root:4883 binaries are \"too close\"; gave up trying to fix.\n",
      "INFO:root:11424 BEB systems generated (target 25000)\n",
      "WARNING:root:0 M1s are nan\n",
      "WARNING:root:109 M2s are nan\n",
      "WARNING:root:0 R1s are nan\n",
      "WARNING:root:109 R2s are nan\n",
      "INFO:root:7016 binaries are \"too close\"; gave up trying to fix.\n",
      "INFO:root:27619 BEB systems generated (target 25000)\n",
      "INFO:root:Fitting trapezoid models for BEBs...\n",
      "INFO:root:Done.hape parameters for 23766 systems:  99% |||||||| | ETA:  0:00:00\n",
      "INFO:root:Fitting trapezoid models for BEBs...\n",
      "INFO:root:Done.hape parameters for 23766 systems:  99% |\\\\\\\\\\\\\\ | ETA:  0:00:00\n",
      "INFO:root:Fitting trapezoid models for BEBs...\n",
      "INFO:root:Done.hape parameters for 23766 systems:  99% |\\\\\\\\\\\\\\ | ETA:  0:00:00\n",
      "INFO:root:Fitting trapezoid models for BEBs...\n",
      "INFO:root:Done.hape parameters for 23766 systems:  99% |/////// | ETA:  0:00:00\n",
      "INFO:root:Fitting trapezoid models for BEBs...\n",
      "INFO:root:Done.hape parameters for 23766 systems:  99% |/////// | ETA:  0:00:00\n",
      "INFO:root:Fitting trapezoid models for BEBs...\n",
      "INFO:root:Done.hape parameters for 23766 systems:  99% |\\\\\\\\\\\\\\ | ETA:  0:00:00\n",
      "INFO:root:Fitting trapezoid models for BEBs...\n",
      "INFO:root:Done.hape parameters for 23766 systems:  99% |||||||| | ETA:  0:00:00\n",
      "INFO:root:Fitting trapezoid models for BEBs...\n",
      "INFO:root:Done.hape parameters for 23766 systems:  99% |------- | ETA:  0:00:00\n",
      "INFO:root:Fitting trapezoid models for BEBs...\n",
      "INFO:root:Done.hape parameters for 23766 systems:  99% |------- | ETA:  0:00:00\n"
     ]
    },
    {
     "name": "stdout",
     "output_type": "stream",
     "text": [
      "35 K07691.01\n"
     ]
    },
    {
     "name": "stderr",
     "output_type": "stream",
     "text": [
      "INFO:root:Loading TRILEGAL simulation from /Users/neptune/Documents/Thesis/pipeline/data_beb_2/K07691.01/K07691.01_starfield.h5\n",
      "WARNING:root:0 M1s are nan\n",
      "WARNING:root:103 M2s are nan\n",
      "WARNING:root:0 R1s are nan\n",
      "WARNING:root:103 R2s are nan\n",
      "INFO:root:3352 binaries are \"too close\"; gave up trying to fix.\n",
      "INFO:root:10753 BEB systems generated (target 25000)\n",
      "WARNING:root:0 M1s are nan\n",
      "WARNING:root:155 M2s are nan\n",
      "WARNING:root:0 R1s are nan\n",
      "WARNING:root:155 R2s are nan\n",
      "INFO:root:5265 binaries are \"too close\"; gave up trying to fix.\n",
      "INFO:root:27648 BEB systems generated (target 25000)\n",
      "INFO:root:Fitting trapezoid models for BEBs...\n",
      "INFO:root:Done.hape parameters for 23058 systems:  99% |------- | ETA:  0:00:00\n",
      "INFO:root:Fitting trapezoid models for BEBs...\n",
      "INFO:root:Done.hape parameters for 23058 systems:  99% |------- | ETA:  0:00:00\n",
      "INFO:root:Fitting trapezoid models for BEBs...\n",
      "INFO:root:Done.hape parameters for 23058 systems:  99% |------- | ETA:  0:00:00\n",
      "INFO:root:Fitting trapezoid models for BEBs...\n",
      "INFO:root:Done.hape parameters for 23058 systems:  99% |||||||| | ETA:  0:00:01\n",
      "INFO:root:Fitting trapezoid models for BEBs...\n",
      "INFO:root:Done.hape parameters for 23058 systems:  99% |\\\\\\\\\\\\\\ | ETA:  0:00:00\n",
      "INFO:root:Fitting trapezoid models for BEBs...\n",
      "INFO:root:Done.hape parameters for 23058 systems:  99% |------- | ETA:  0:00:00\n",
      "INFO:root:Fitting trapezoid models for BEBs...\n",
      "INFO:root:Done.hape parameters for 23058 systems:  99% |/////// | ETA:  0:00:00\n",
      "INFO:root:Fitting trapezoid models for BEBs...\n",
      "INFO:root:Done.hape parameters for 23058 systems:  99% |/////// | ETA:  0:00:00\n",
      "INFO:root:Fitting trapezoid models for BEBs...\n",
      "INFO:root:Done.hape parameters for 23058 systems:  99% |------- | ETA:  0:00:00\n"
     ]
    },
    {
     "name": "stdout",
     "output_type": "stream",
     "text": [
      "36 K07529.01\n"
     ]
    },
    {
     "name": "stderr",
     "output_type": "stream",
     "text": [
      "INFO:root:Loading TRILEGAL simulation from /Users/neptune/Documents/Thesis/pipeline/data_beb_2/K07529.01/K07529.01_starfield.h5\n",
      "WARNING:root:0 M1s are nan\n",
      "WARNING:root:123 M2s are nan\n",
      "WARNING:root:0 R1s are nan\n",
      "WARNING:root:123 R2s are nan\n",
      "INFO:root:443 binaries are \"too close\"; gave up trying to fix.\n",
      "INFO:root:8512 BEB systems generated (target 25000)\n",
      "WARNING:root:0 M1s are nan\n",
      "WARNING:root:251 M2s are nan\n",
      "WARNING:root:0 R1s are nan\n",
      "WARNING:root:251 R2s are nan\n",
      "INFO:root:1100 binaries are \"too close\"; gave up trying to fix.\n",
      "INFO:root:27319 BEB systems generated (target 25000)\n",
      "INFO:root:Fitting trapezoid models for BEBs...\n",
      "INFO:root:Done.hape parameters for 20919 systems:  99% |||||||| | ETA:  0:00:00\n",
      "INFO:root:Fitting trapezoid models for BEBs...\n",
      "INFO:root:Done.hape parameters for 20919 systems:  99% |------- | ETA:  0:00:00\n",
      "INFO:root:Fitting trapezoid models for BEBs...\n",
      "INFO:root:Done.hape parameters for 20919 systems:  99% |\\\\\\\\\\\\\\ | ETA:  0:00:00\n",
      "INFO:root:Fitting trapezoid models for BEBs...\n",
      "INFO:root:Done.hape parameters for 20919 systems:  99% |------- | ETA:  0:00:00\n",
      "INFO:root:Fitting trapezoid models for BEBs...\n",
      "INFO:root:Done.hape parameters for 20919 systems:  99% |||||||| | ETA:  0:00:00\n",
      "INFO:root:Fitting trapezoid models for BEBs...\n",
      "INFO:root:Done.hape parameters for 20919 systems:  99% |||||||| | ETA:  0:00:00\n",
      "INFO:root:Fitting trapezoid models for BEBs...\n",
      "INFO:root:Done.hape parameters for 20919 systems:  99% |/////// | ETA:  0:00:00\n",
      "INFO:root:Fitting trapezoid models for BEBs...\n",
      "INFO:root:Done.hape parameters for 20919 systems:  99% |\\\\\\\\\\\\\\ | ETA:  0:00:00\n",
      "INFO:root:Fitting trapezoid models for BEBs...\n",
      "INFO:root:Done.hape parameters for 20919 systems:  99% |\\\\\\\\\\\\\\ | ETA:  0:00:00\n"
     ]
    },
    {
     "name": "stdout",
     "output_type": "stream",
     "text": [
      "37 K08287.01\n"
     ]
    },
    {
     "name": "stderr",
     "output_type": "stream",
     "text": [
      "INFO:root:Loading TRILEGAL simulation from /Users/neptune/Documents/Thesis/pipeline/data_beb_2/K08287.01/K08287.01_starfield.h5\n",
      "WARNING:root:0 M1s are nan\n",
      "WARNING:root:82 M2s are nan\n",
      "WARNING:root:0 R1s are nan\n",
      "WARNING:root:82 R2s are nan\n",
      "INFO:root:55 binaries are \"too close\"; gave up trying to fix.\n",
      "INFO:root:509 BEB systems generated (target 25000)\n",
      "WARNING:root:0 M1s are nan\n",
      "WARNING:root:1757 M2s are nan\n",
      "WARNING:root:0 R1s are nan\n",
      "WARNING:root:1757 R2s are nan\n",
      "INFO:root:1233 binaries are \"too close\"; gave up trying to fix.\n",
      "INFO:root:11042 BEB systems generated (target 25000)\n",
      "WARNING:root:0 M1s are nan\n",
      "WARNING:root:1793 M2s are nan\n",
      "WARNING:root:0 R1s are nan\n",
      "WARNING:root:1793 R2s are nan\n",
      "INFO:root:1220 binaries are \"too close\"; gave up trying to fix.\n",
      "INFO:root:21609 BEB systems generated (target 25000)\n",
      "WARNING:root:0 M1s are nan\n",
      "WARNING:root:660 M2s are nan\n",
      "WARNING:root:0 R1s are nan\n",
      "WARNING:root:660 R2s are nan\n",
      "INFO:root:495 binaries are \"too close\"; gave up trying to fix.\n",
      "INFO:root:25555 BEB systems generated (target 25000)\n",
      "INFO:root:Fitting trapezoid models for BEBs...\n",
      "INFO:root:Done.hape parameters for 14737 systems:  99% |\\\\\\\\\\\\\\ | ETA:  0:00:00\n",
      "INFO:root:Fitting trapezoid models for BEBs...\n",
      "INFO:root:Done.hape parameters for 14737 systems:  99% |\\\\\\\\\\\\\\ | ETA:  0:00:00\n",
      "INFO:root:Fitting trapezoid models for BEBs...\n",
      "INFO:root:Done.hape parameters for 14737 systems:  99% |\\\\\\\\\\\\\\ | ETA:  0:00:00\n",
      "INFO:root:Fitting trapezoid models for BEBs...\n",
      "INFO:root:Done.hape parameters for 14737 systems:  99% |\\\\\\\\\\\\\\ | ETA:  0:00:00\n",
      "INFO:root:Fitting trapezoid models for BEBs...\n",
      "INFO:root:Done.hape parameters for 14737 systems:  99% |\\\\\\\\\\\\\\ | ETA:  0:00:00\n",
      "INFO:root:Fitting trapezoid models for BEBs...\n",
      "INFO:root:Done.hape parameters for 14737 systems:  99% |\\\\\\\\\\\\\\ | ETA:  0:00:00\n",
      "INFO:root:Fitting trapezoid models for BEBs...\n",
      "INFO:root:Done.hape parameters for 14737 systems:  99% |\\\\\\\\\\\\\\ | ETA:  0:00:00\n",
      "INFO:root:Fitting trapezoid models for BEBs...\n",
      "INFO:root:Done.hape parameters for 14737 systems:  99% |\\\\\\\\\\\\\\ | ETA:  0:00:00\n",
      "INFO:root:Fitting trapezoid models for BEBs...\n",
      "INFO:root:Done.hape parameters for 14737 systems:  99% |\\\\\\\\\\\\\\ | ETA:  0:00:00\n"
     ]
    },
    {
     "name": "stdout",
     "output_type": "stream",
     "text": [
      "38 K08141.01\n"
     ]
    },
    {
     "name": "stderr",
     "output_type": "stream",
     "text": [
      "INFO:root:Loading TRILEGAL simulation from /Users/neptune/Documents/Thesis/pipeline/data_beb_2/K08141.01/K08141.01_starfield.h5\n",
      "WARNING:root:0 M1s are nan\n",
      "WARNING:root:103 M2s are nan\n",
      "WARNING:root:0 R1s are nan\n",
      "WARNING:root:103 R2s are nan\n",
      "INFO:root:67 binaries are \"too close\"; gave up trying to fix.\n",
      "INFO:root:572 BEB systems generated (target 25000)\n",
      "WARNING:root:0 M1s are nan\n",
      "WARNING:root:1998 M2s are nan\n",
      "WARNING:root:0 R1s are nan\n",
      "WARNING:root:1998 R2s are nan\n",
      "INFO:root:1039 binaries are \"too close\"; gave up trying to fix.\n",
      "INFO:root:11151 BEB systems generated (target 25000)\n",
      "WARNING:root:0 M1s are nan\n",
      "WARNING:root:1977 M2s are nan\n",
      "WARNING:root:0 R1s are nan\n",
      "WARNING:root:1977 R2s are nan\n",
      "INFO:root:1013 binaries are \"too close\"; gave up trying to fix.\n",
      "INFO:root:21918 BEB systems generated (target 25000)\n",
      "WARNING:root:0 M1s are nan\n",
      "WARNING:root:721 M2s are nan\n",
      "WARNING:root:0 R1s are nan\n",
      "WARNING:root:721 R2s are nan\n",
      "INFO:root:347 binaries are \"too close\"; gave up trying to fix.\n",
      "INFO:root:25546 BEB systems generated (target 25000)\n",
      "INFO:root:Fitting trapezoid models for BEBs...\n",
      "INFO:root:Done.hape parameters for 13869 systems:  99% |\\\\\\\\\\\\\\ | ETA:  0:00:00\n",
      "INFO:root:Fitting trapezoid models for BEBs...\n",
      "INFO:root:Done.hape parameters for 13869 systems:  99% |\\\\\\\\\\\\\\ | ETA:  0:00:00\n",
      "INFO:root:Fitting trapezoid models for BEBs...\n",
      "INFO:root:Done.hape parameters for 13869 systems:  99% |\\\\\\\\\\\\\\ | ETA:  0:00:00\n",
      "INFO:root:Fitting trapezoid models for BEBs...\n",
      "INFO:root:Done.hape parameters for 13869 systems:  99% |\\\\\\\\\\\\\\ | ETA:  0:00:00\n",
      "INFO:root:Fitting trapezoid models for BEBs...\n",
      "INFO:root:Done.hape parameters for 13869 systems:  99% |\\\\\\\\\\\\\\ | ETA:  0:00:00\n",
      "INFO:root:Fitting trapezoid models for BEBs...\n",
      "INFO:root:Done.hape parameters for 13869 systems:  99% |\\\\\\\\\\\\\\ | ETA:  0:00:00\n",
      "INFO:root:Fitting trapezoid models for BEBs...\n",
      "INFO:root:Done.hape parameters for 13869 systems:  99% |\\\\\\\\\\\\\\ | ETA:  0:00:00\n",
      "INFO:root:Fitting trapezoid models for BEBs...\n",
      "INFO:root:Done.hape parameters for 13869 systems:  99% |\\\\\\\\\\\\\\ | ETA:  0:00:00\n",
      "INFO:root:Fitting trapezoid models for BEBs...\n",
      "INFO:root:Done.hape parameters for 13869 systems:  99% |\\\\\\\\\\\\\\ | ETA:  0:00:00\n"
     ]
    },
    {
     "name": "stdout",
     "output_type": "stream",
     "text": [
      "39 K08208.01\n"
     ]
    },
    {
     "name": "stderr",
     "output_type": "stream",
     "text": [
      "INFO:root:Loading TRILEGAL simulation from /Users/neptune/Documents/Thesis/pipeline/data_beb_2/K08208.01/K08208.01_starfield.h5\n",
      "WARNING:root:0 M1s are nan\n",
      "WARNING:root:102 M2s are nan\n",
      "WARNING:root:0 R1s are nan\n",
      "WARNING:root:102 R2s are nan\n",
      "INFO:root:71 binaries are \"too close\"; gave up trying to fix.\n",
      "INFO:root:631 BEB systems generated (target 25000)\n",
      "WARNING:root:0 M1s are nan\n",
      "WARNING:root:2281 M2s are nan\n",
      "WARNING:root:0 R1s are nan\n",
      "WARNING:root:2281 R2s are nan\n",
      "INFO:root:1160 binaries are \"too close\"; gave up trying to fix.\n",
      "INFO:root:11724 BEB systems generated (target 25000)\n",
      "WARNING:root:0 M1s are nan\n",
      "WARNING:root:2416 M2s are nan\n",
      "WARNING:root:0 R1s are nan\n",
      "WARNING:root:2416 R2s are nan\n",
      "INFO:root:1227 binaries are \"too close\"; gave up trying to fix.\n",
      "INFO:root:22634 BEB systems generated (target 25000)\n",
      "WARNING:root:0 M1s are nan\n",
      "WARNING:root:650 M2s are nan\n",
      "WARNING:root:0 R1s are nan\n",
      "WARNING:root:650 R2s are nan\n",
      "INFO:root:261 binaries are \"too close\"; gave up trying to fix.\n",
      "INFO:root:25570 BEB systems generated (target 25000)\n",
      "INFO:root:Fitting trapezoid models for BEBs...\n",
      "INFO:root:Done.hape parameters for 13889 systems:  99% |\\\\\\\\\\\\\\ | ETA:  0:00:00\n",
      "INFO:root:Fitting trapezoid models for BEBs...\n",
      "INFO:root:Done.hape parameters for 13889 systems:  99% |------- | ETA:  0:00:00\n",
      "INFO:root:Fitting trapezoid models for BEBs...\n",
      "INFO:root:Done.hape parameters for 13889 systems:  99% |||||||| | ETA:  0:00:00\n",
      "INFO:root:Fitting trapezoid models for BEBs...\n",
      "INFO:root:Done.hape parameters for 13889 systems:  99% |\\\\\\\\\\\\\\ | ETA:  0:00:00\n",
      "INFO:root:Fitting trapezoid models for BEBs...\n",
      "INFO:root:Done.hape parameters for 13889 systems:  99% |------- | ETA:  0:00:00\n",
      "INFO:root:Fitting trapezoid models for BEBs...\n",
      "INFO:root:Done.hape parameters for 13889 systems:  99% |||||||| | ETA:  0:00:00\n",
      "INFO:root:Fitting trapezoid models for BEBs...\n",
      "INFO:root:Done.hape parameters for 13889 systems:  99% |------- | ETA:  0:00:00\n",
      "INFO:root:Fitting trapezoid models for BEBs...\n",
      "INFO:root:Done.hape parameters for 13889 systems:  99% |------- | ETA:  0:00:00\n",
      "INFO:root:Fitting trapezoid models for BEBs...\n",
      "INFO:root:Done.hape parameters for 13889 systems:  99% |------- | ETA:  0:00:00\n"
     ]
    },
    {
     "name": "stdout",
     "output_type": "stream",
     "text": [
      "40 K08208.02\n"
     ]
    },
    {
     "name": "stderr",
     "output_type": "stream",
     "text": [
      "INFO:root:Loading TRILEGAL simulation from /Users/neptune/Documents/Thesis/pipeline/data_beb_2/K08208.02/K08208.02_starfield.h5\n",
      "WARNING:root:0 M1s are nan\n",
      "WARNING:root:114 M2s are nan\n",
      "WARNING:root:0 R1s are nan\n",
      "WARNING:root:114 R2s are nan\n",
      "INFO:root:58 binaries are \"too close\"; gave up trying to fix.\n",
      "INFO:root:624 BEB systems generated (target 25000)\n",
      "WARNING:root:0 M1s are nan\n",
      "WARNING:root:2362 M2s are nan\n",
      "WARNING:root:0 R1s are nan\n",
      "WARNING:root:2362 R2s are nan\n",
      "INFO:root:1020 binaries are \"too close\"; gave up trying to fix.\n",
      "INFO:root:11354 BEB systems generated (target 25000)\n",
      "WARNING:root:0 M1s are nan\n",
      "WARNING:root:2398 M2s are nan\n",
      "WARNING:root:0 R1s are nan\n",
      "WARNING:root:2398 R2s are nan\n",
      "INFO:root:960 binaries are \"too close\"; gave up trying to fix.\n",
      "INFO:root:22326 BEB systems generated (target 25000)\n",
      "WARNING:root:0 M1s are nan\n",
      "WARNING:root:651 M2s are nan\n",
      "WARNING:root:0 R1s are nan\n",
      "WARNING:root:651 R2s are nan\n",
      "INFO:root:312 binaries are \"too close\"; gave up trying to fix.\n",
      "INFO:root:25401 BEB systems generated (target 25000)\n",
      "INFO:root:Fitting trapezoid models for BEBs...\n",
      "INFO:root:Done.hape parameters for 13384 systems:  99% |\\\\\\\\\\\\\\ | ETA:  0:00:00\n",
      "INFO:root:Fitting trapezoid models for BEBs...\n",
      "INFO:root:Done.hape parameters for 13384 systems:  99% |\\\\\\\\\\\\\\ | ETA:  0:00:00\n",
      "INFO:root:Fitting trapezoid models for BEBs...\n",
      "INFO:root:Done.hape parameters for 13384 systems:  99% |\\\\\\\\\\\\\\ | ETA:  0:00:00\n",
      "INFO:root:Fitting trapezoid models for BEBs...\n",
      "INFO:root:Done.hape parameters for 13384 systems:  99% |\\\\\\\\\\\\\\ | ETA:  0:00:00\n",
      "INFO:root:Fitting trapezoid models for BEBs...\n",
      "INFO:root:Done.hape parameters for 13384 systems:  99% |\\\\\\\\\\\\\\ | ETA:  0:00:00\n",
      "INFO:root:Fitting trapezoid models for BEBs...\n",
      "INFO:root:Done.hape parameters for 13384 systems:  99% |\\\\\\\\\\\\\\ | ETA:  0:00:00\n",
      "INFO:root:Fitting trapezoid models for BEBs...\n",
      "INFO:root:Done.hape parameters for 13384 systems:  99% |\\\\\\\\\\\\\\ | ETA:  0:00:00\n",
      "INFO:root:Fitting trapezoid models for BEBs...\n",
      "INFO:root:Done.hape parameters for 13384 systems:  99% |\\\\\\\\\\\\\\ | ETA:  0:00:00\n",
      "INFO:root:Fitting trapezoid models for BEBs...\n",
      "INFO:root:Done.hape parameters for 13384 systems:  99% |\\\\\\\\\\\\\\ | ETA:  0:00:00\n"
     ]
    },
    {
     "name": "stdout",
     "output_type": "stream",
     "text": [
      "41 K08051.01\n"
     ]
    },
    {
     "name": "stderr",
     "output_type": "stream",
     "text": [
      "INFO:root:Loading TRILEGAL simulation from /Users/neptune/Documents/Thesis/pipeline/data_beb_2/K08051.01/K08051.01_starfield.h5\n",
      "WARNING:root:0 M1s are nan\n",
      "WARNING:root:113 M2s are nan\n",
      "WARNING:root:0 R1s are nan\n",
      "WARNING:root:113 R2s are nan\n",
      "INFO:root:94 binaries are \"too close\"; gave up trying to fix.\n",
      "INFO:root:753 BEB systems generated (target 25000)\n",
      "WARNING:root:0 M1s are nan\n",
      "WARNING:root:2125 M2s are nan\n",
      "WARNING:root:0 R1s are nan\n",
      "WARNING:root:2125 R2s are nan\n",
      "INFO:root:1746 binaries are \"too close\"; gave up trying to fix.\n",
      "INFO:root:15020 BEB systems generated (target 25000)\n",
      "WARNING:root:0 M1s are nan\n",
      "WARNING:root:1778 M2s are nan\n",
      "WARNING:root:0 R1s are nan\n",
      "WARNING:root:1778 R2s are nan\n",
      "INFO:root:1492 binaries are \"too close\"; gave up trying to fix.\n",
      "INFO:root:26790 BEB systems generated (target 25000)\n",
      "INFO:root:Fitting trapezoid models for BEBs...\n",
      "INFO:root:Done.hape parameters for 15537 systems:  99% |\\\\\\\\\\\\\\ | ETA:  0:00:00\n",
      "INFO:root:Fitting trapezoid models for BEBs...\n",
      "INFO:root:Done.hape parameters for 15537 systems:  99% |\\\\\\\\\\\\\\ | ETA:  0:00:00\n",
      "INFO:root:Fitting trapezoid models for BEBs...\n",
      "INFO:root:Done.hape parameters for 15537 systems:  99% |\\\\\\\\\\\\\\ | ETA:  0:00:00\n",
      "INFO:root:Fitting trapezoid models for BEBs...\n",
      "INFO:root:Done.hape parameters for 15537 systems:  99% |\\\\\\\\\\\\\\ | ETA:  0:00:00\n",
      "INFO:root:Fitting trapezoid models for BEBs...\n",
      "INFO:root:Done.hape parameters for 15537 systems:  99% |\\\\\\\\\\\\\\ | ETA:  0:00:00\n",
      "INFO:root:Fitting trapezoid models for BEBs...\n",
      "INFO:root:Done.hape parameters for 15537 systems:  99% |\\\\\\\\\\\\\\ | ETA:  0:00:00\n",
      "INFO:root:Fitting trapezoid models for BEBs...\n",
      "INFO:root:Done.hape parameters for 15537 systems:  99% |\\\\\\\\\\\\\\ | ETA:  0:00:00\n",
      "INFO:root:Fitting trapezoid models for BEBs...\n",
      "INFO:root:Done.hape parameters for 15537 systems:  99% |\\\\\\\\\\\\\\ | ETA:  0:00:00\n",
      "INFO:root:Fitting trapezoid models for BEBs...\n",
      "INFO:root:Done.hape parameters for 15537 systems:  99% |\\\\\\\\\\\\\\ | ETA:  0:00:00\n"
     ]
    },
    {
     "name": "stdout",
     "output_type": "stream",
     "text": [
      "42 K08099.01\n"
     ]
    },
    {
     "name": "stderr",
     "output_type": "stream",
     "text": [
      "INFO:root:Loading TRILEGAL simulation from /Users/neptune/Documents/Thesis/pipeline/data_beb_2/K08099.01/K08099.01_starfield.h5\n",
      "WARNING:root:0 M1s are nan\n",
      "WARNING:root:82 M2s are nan\n",
      "WARNING:root:0 R1s are nan\n",
      "WARNING:root:82 R2s are nan\n",
      "INFO:root:92 binaries are \"too close\"; gave up trying to fix.\n",
      "INFO:root:761 BEB systems generated (target 25000)\n",
      "WARNING:root:0 M1s are nan\n",
      "WARNING:root:1698 M2s are nan\n",
      "WARNING:root:0 R1s are nan\n",
      "WARNING:root:1698 R2s are nan\n",
      "INFO:root:1711 binaries are \"too close\"; gave up trying to fix.\n",
      "INFO:root:15628 BEB systems generated (target 25000)\n",
      "WARNING:root:0 M1s are nan\n",
      "WARNING:root:1307 M2s are nan\n",
      "WARNING:root:0 R1s are nan\n",
      "WARNING:root:1307 R2s are nan\n",
      "INFO:root:1254 binaries are \"too close\"; gave up trying to fix.\n",
      "INFO:root:26730 BEB systems generated (target 25000)\n",
      "INFO:root:Fitting trapezoid models for BEBs...\n",
      "INFO:root:Done.hape parameters for 14426 systems:  99% |\\\\\\\\\\\\\\ | ETA:  0:00:00\n",
      "INFO:root:Fitting trapezoid models for BEBs...\n",
      "INFO:root:Done.hape parameters for 14426 systems:  99% |------- | ETA:  0:00:00\n",
      "INFO:root:Fitting trapezoid models for BEBs...\n",
      "INFO:root:Done.hape parameters for 14426 systems:  99% |/////// | ETA:  0:00:00\n",
      "INFO:root:Fitting trapezoid models for BEBs...\n",
      "INFO:root:Done.hape parameters for 14426 systems:  99% |||||||| | ETA:  0:00:00\n",
      "INFO:root:Fitting trapezoid models for BEBs...\n",
      "INFO:root:Done.hape parameters for 14426 systems:  99% |/////// | ETA:  0:00:00\n",
      "INFO:root:Fitting trapezoid models for BEBs...\n",
      "INFO:root:Done.hape parameters for 14426 systems:  99% |\\\\\\\\\\\\\\ | ETA:  0:00:00\n",
      "INFO:root:Fitting trapezoid models for BEBs...\n",
      "INFO:root:Done.hape parameters for 14426 systems:  99% |------- | ETA:  0:00:00\n",
      "INFO:root:Fitting trapezoid models for BEBs...\n",
      "INFO:root:Done.hape parameters for 14426 systems:  99% |||||||| | ETA:  0:00:00\n",
      "INFO:root:Fitting trapezoid models for BEBs...\n",
      "INFO:root:Done.hape parameters for 14426 systems:  99% |\\\\\\\\\\\\\\ | ETA:  0:00:00\n"
     ]
    },
    {
     "name": "stdout",
     "output_type": "stream",
     "text": [
      "43 K00886.01\n"
     ]
    },
    {
     "name": "stderr",
     "output_type": "stream",
     "text": [
      "INFO:root:Loading TRILEGAL simulation from /Users/neptune/Documents/Thesis/pipeline/data_beb_2/K00886.01/K00886.01_starfield.h5\n",
      "WARNING:root:0 M1s are nan\n",
      "WARNING:root:125 M2s are nan\n",
      "WARNING:root:0 R1s are nan\n",
      "WARNING:root:125 R2s are nan\n",
      "INFO:root:170 binaries are \"too close\"; gave up trying to fix.\n",
      "INFO:root:3511 BEB systems generated (target 25000)\n",
      "WARNING:root:0 M1s are nan\n",
      "WARNING:root:845 M2s are nan\n",
      "WARNING:root:0 R1s are nan\n",
      "WARNING:root:845 R2s are nan\n",
      "INFO:root:1186 binaries are \"too close\"; gave up trying to fix.\n",
      "INFO:root:25509 BEB systems generated (target 25000)\n",
      "INFO:root:Fitting trapezoid models for BEBs...\n",
      "ERROR:root:No eclipse registered for star 3081ms:  17% |/       | ETA:  0:00:25\n",
      "INFO:root:Done.hape parameters for 17658 systems:  99% |\\\\\\\\\\\\\\ | ETA:  0:00:00\n",
      "INFO:root:Fitting trapezoid models for BEBs...\n",
      "ERROR:root:No eclipse registered for star 3081ms:  16% |\\       | ETA:  0:01:10\n",
      "INFO:root:Done.hape parameters for 17658 systems:  99% |\\\\\\\\\\\\\\ | ETA:  0:00:00\n",
      "INFO:root:Fitting trapezoid models for BEBs...\n",
      "ERROR:root:No eclipse registered for star 3081ms:  17% |-       | ETA:  0:00:49\n",
      "INFO:root:Done.hape parameters for 17658 systems:  99% |/////// | ETA:  0:00:00\n",
      "INFO:root:Fitting trapezoid models for BEBs...\n",
      "ERROR:root:No eclipse registered for star 3081ms:  17% |-       | ETA:  0:00:56\n",
      "INFO:root:Done.hape parameters for 17658 systems:  99% |\\\\\\\\\\\\\\ | ETA:  0:00:00\n",
      "INFO:root:Fitting trapezoid models for BEBs...\n",
      "ERROR:root:No eclipse registered for star 3081ms:  16% |\\       | ETA:  0:01:18\n",
      "INFO:root:Done.hape parameters for 17658 systems:  99% |/////// | ETA:  0:00:00\n",
      "INFO:root:Fitting trapezoid models for BEBs...\n",
      "ERROR:root:No eclipse registered for star 3081ms:  16% |/       | ETA:  0:01:02\n",
      "INFO:root:Done.hape parameters for 17658 systems:  99% |/////// | ETA:  0:00:00\n",
      "INFO:root:Fitting trapezoid models for BEBs...\n",
      "ERROR:root:No eclipse registered for star 3081ms:  16% |\\       | ETA:  0:01:07\n",
      "INFO:root:Done.hape parameters for 17658 systems:  99% |/////// | ETA:  0:00:00\n",
      "INFO:root:Fitting trapezoid models for BEBs...\n",
      "ERROR:root:No eclipse registered for star 3081ms:  16% |\\       | ETA:  0:01:12\n",
      "INFO:root:Done.hape parameters for 17658 systems:  99% |\\\\\\\\\\\\\\ | ETA:  0:00:00\n",
      "INFO:root:Fitting trapezoid models for BEBs...\n",
      "ERROR:root:No eclipse registered for star 3081ms:  16% |-       | ETA:  0:01:05\n",
      "INFO:root:Done.hape parameters for 17658 systems:  99% |/////// | ETA:  0:00:00\n"
     ]
    },
    {
     "name": "stdout",
     "output_type": "stream",
     "text": [
      "44 K01025.01\n"
     ]
    },
    {
     "name": "stderr",
     "output_type": "stream",
     "text": [
      "INFO:root:Loading TRILEGAL simulation from /Users/neptune/Documents/Thesis/pipeline/data_beb_2/K01025.01/K01025.01_starfield.h5\n",
      "WARNING:root:0 M1s are nan\n",
      "WARNING:root:95 M2s are nan\n",
      "WARNING:root:0 R1s are nan\n",
      "WARNING:root:95 R2s are nan\n",
      "INFO:root:129 binaries are \"too close\"; gave up trying to fix.\n",
      "INFO:root:2280 BEB systems generated (target 25000)\n",
      "WARNING:root:0 M1s are nan\n",
      "WARNING:root:1274 M2s are nan\n",
      "WARNING:root:0 R1s are nan\n",
      "WARNING:root:1274 R2s are nan\n",
      "INFO:root:1498 binaries are \"too close\"; gave up trying to fix.\n",
      "INFO:root:23965 BEB systems generated (target 25000)\n",
      "WARNING:root:0 M1s are nan\n",
      "WARNING:root:72 M2s are nan\n",
      "WARNING:root:0 R1s are nan\n",
      "WARNING:root:72 R2s are nan\n",
      "INFO:root:82 binaries are \"too close\"; gave up trying to fix.\n",
      "INFO:root:25260 BEB systems generated (target 25000)\n",
      "INFO:root:Fitting trapezoid models for BEBs...\n",
      "INFO:root:Done.hape parameters for 15743 systems:  99% |\\\\\\\\\\\\\\ | ETA:  0:00:00\n",
      "INFO:root:Fitting trapezoid models for BEBs...\n",
      "INFO:root:Done.hape parameters for 15743 systems:  99% |------- | ETA:  0:00:00\n",
      "INFO:root:Fitting trapezoid models for BEBs...\n",
      "INFO:root:Done.hape parameters for 15743 systems:  99% |/////// | ETA:  0:00:00\n",
      "INFO:root:Fitting trapezoid models for BEBs...\n",
      "INFO:root:Done.hape parameters for 15743 systems:  99% |------- | ETA:  0:00:00\n",
      "INFO:root:Fitting trapezoid models for BEBs...\n",
      "INFO:root:Done.hape parameters for 15743 systems:  99% |\\\\\\\\\\\\\\ | ETA:  0:00:00\n",
      "INFO:root:Fitting trapezoid models for BEBs...\n",
      "INFO:root:Done.hape parameters for 15743 systems:  99% |/////// | ETA:  0:00:00\n",
      "INFO:root:Fitting trapezoid models for BEBs...\n",
      "INFO:root:Done.hape parameters for 15743 systems:  99% |||||||| | ETA:  0:00:00\n",
      "INFO:root:Fitting trapezoid models for BEBs...\n",
      "INFO:root:Done.hape parameters for 15743 systems:  99% |/////// | ETA:  0:00:00\n",
      "INFO:root:Fitting trapezoid models for BEBs...\n",
      "INFO:root:Done.hape parameters for 15743 systems:  99% |||||||| | ETA:  0:00:00\n"
     ]
    },
    {
     "name": "stdout",
     "output_type": "stream",
     "text": [
      "45 K01459.01\n"
     ]
    },
    {
     "name": "stderr",
     "output_type": "stream",
     "text": [
      "INFO:root:Loading TRILEGAL simulation from /Users/neptune/Documents/Thesis/pipeline/data_beb_2/K01459.01/K01459.01_starfield.h5\n",
      "WARNING:root:0 M1s are nan\n",
      "WARNING:root:89 M2s are nan\n",
      "WARNING:root:0 R1s are nan\n",
      "WARNING:root:89 R2s are nan\n",
      "INFO:root:1106 binaries are \"too close\"; gave up trying to fix.\n",
      "INFO:root:10883 BEB systems generated (target 25000)\n",
      "WARNING:root:0 M1s are nan\n",
      "WARNING:root:137 M2s are nan\n",
      "WARNING:root:0 R1s are nan\n",
      "WARNING:root:137 R2s are nan\n",
      "INFO:root:1750 binaries are \"too close\"; gave up trying to fix.\n",
      "INFO:root:28457 BEB systems generated (target 25000)\n",
      "INFO:root:Fitting trapezoid models for BEBs...\n",
      "INFO:root:Done.hape parameters for 21226 systems:  99% |------- | ETA:  0:00:00\n",
      "INFO:root:Fitting trapezoid models for BEBs...\n",
      "INFO:root:Done.hape parameters for 21226 systems:  99% |||||||| | ETA:  0:00:00\n",
      "INFO:root:Fitting trapezoid models for BEBs...\n",
      "INFO:root:Done.hape parameters for 21226 systems:  99% |\\\\\\\\\\\\\\ | ETA:  0:00:00\n",
      "INFO:root:Fitting trapezoid models for BEBs...\n",
      "INFO:root:Done.hape parameters for 21226 systems:  99% |||||||| | ETA:  0:00:00\n",
      "INFO:root:Fitting trapezoid models for BEBs...\n",
      "INFO:root:Done.hape parameters for 21226 systems:  99% |\\\\\\\\\\\\\\ | ETA:  0:00:00\n",
      "INFO:root:Fitting trapezoid models for BEBs...\n",
      "INFO:root:Done.hape parameters for 21226 systems:  99% |/////// | ETA:  0:00:00\n",
      "INFO:root:Fitting trapezoid models for BEBs...\n",
      "INFO:root:Done.hape parameters for 21226 systems:  99% |------- | ETA:  0:00:00\n",
      "INFO:root:Fitting trapezoid models for BEBs...\n",
      "INFO:root:Done.hape parameters for 21226 systems:  99% |------- | ETA:  0:00:00\n",
      "INFO:root:Fitting trapezoid models for BEBs...\n",
      "INFO:root:Done.hape parameters for 21226 systems:  99% |/////// | ETA:  0:00:00\n"
     ]
    },
    {
     "name": "stdout",
     "output_type": "stream",
     "text": [
      "46 K01225.01\n"
     ]
    },
    {
     "name": "stderr",
     "output_type": "stream",
     "text": [
      "INFO:root:Loading TRILEGAL simulation from /Users/neptune/Documents/Thesis/pipeline/data_beb_2/K01225.01/K01225.01_starfield.h5\n",
      "WARNING:root:0 M1s are nan\n",
      "WARNING:root:121 M2s are nan\n",
      "WARNING:root:0 R1s are nan\n",
      "WARNING:root:121 R2s are nan\n",
      "INFO:root:322 binaries are \"too close\"; gave up trying to fix.\n",
      "INFO:root:7882 BEB systems generated (target 25000)\n",
      "WARNING:root:0 M1s are nan\n",
      "WARNING:root:297 M2s are nan\n",
      "WARNING:root:0 R1s are nan\n",
      "WARNING:root:297 R2s are nan\n",
      "INFO:root:863 binaries are \"too close\"; gave up trying to fix.\n",
      "INFO:root:26505 BEB systems generated (target 25000)\n",
      "INFO:root:Fitting trapezoid models for BEBs...\n",
      "INFO:root:Done.hape parameters for 19390 systems:  99% |/////// | ETA:  0:00:00\n",
      "INFO:root:Fitting trapezoid models for BEBs...\n",
      "INFO:root:Done.hape parameters for 19390 systems:  99% |\\\\\\\\\\\\\\ | ETA:  0:00:00\n",
      "INFO:root:Fitting trapezoid models for BEBs...\n",
      "INFO:root:Done.hape parameters for 19390 systems:  99% |/////// | ETA:  0:00:00\n",
      "INFO:root:Fitting trapezoid models for BEBs...\n",
      "INFO:root:Done.hape parameters for 19390 systems:  99% |||||||| | ETA:  0:00:00\n",
      "INFO:root:Fitting trapezoid models for BEBs...\n",
      "INFO:root:Done.hape parameters for 19390 systems:  99% |/////// | ETA:  0:00:00\n",
      "INFO:root:Fitting trapezoid models for BEBs...\n",
      "INFO:root:Done.hape parameters for 19390 systems:  99% |------- | ETA:  0:00:00\n",
      "INFO:root:Fitting trapezoid models for BEBs...\n",
      "INFO:root:Done.hape parameters for 19390 systems:  99% |||||||| | ETA:  0:00:00\n",
      "INFO:root:Fitting trapezoid models for BEBs...\n",
      "INFO:root:Done.hape parameters for 19390 systems:  99% |||||||| | ETA:  0:00:00\n",
      "INFO:root:Fitting trapezoid models for BEBs...\n",
      "INFO:root:Done.hape parameters for 19390 systems:  99% |||||||| | ETA:  0:00:00\n"
     ]
    },
    {
     "name": "stdout",
     "output_type": "stream",
     "text": [
      "47 K02015.01\n"
     ]
    },
    {
     "name": "stderr",
     "output_type": "stream",
     "text": [
      "INFO:root:Loading TRILEGAL simulation from /Users/neptune/Documents/Thesis/pipeline/data_beb_2/K02015.01/K02015.01_starfield.h5\n",
      "WARNING:root:0 M1s are nan\n",
      "WARNING:root:101 M2s are nan\n",
      "WARNING:root:0 R1s are nan\n",
      "WARNING:root:101 R2s are nan\n",
      "INFO:root:168 binaries are \"too close\"; gave up trying to fix.\n",
      "INFO:root:3594 BEB systems generated (target 25000)\n",
      "WARNING:root:0 M1s are nan\n",
      "WARNING:root:704 M2s are nan\n",
      "WARNING:root:0 R1s are nan\n",
      "WARNING:root:704 R2s are nan\n",
      "INFO:root:1236 binaries are \"too close\"; gave up trying to fix.\n",
      "INFO:root:29251 BEB systems generated (target 25000)\n",
      "INFO:root:Fitting trapezoid models for BEBs...\n",
      "ERROR:root:No eclipse registered for star 6246ms:  32% |--      | ETA:  0:00:42\n",
      "ERROR:root:No eclipse registered for star 17498s:  91% |------- | ETA:  0:00:04\n",
      "INFO:root:Done.hape parameters for 18996 systems:  99% |------- | ETA:  0:00:00\n",
      "INFO:root:Fitting trapezoid models for BEBs...\n",
      "ERROR:root:No eclipse registered for star 6246ms:  32% |||      | ETA:  0:00:19\n",
      "ERROR:root:No eclipse registered for star 17498s:  92% |||||||| | ETA:  0:00:02\n",
      "INFO:root:Done.hape parameters for 18996 systems:  99% |\\\\\\\\\\\\\\ | ETA:  0:00:00\n",
      "INFO:root:Fitting trapezoid models for BEBs...\n",
      "ERROR:root:No eclipse registered for star 6246ms:  32% |||      | ETA:  0:00:19\n",
      "ERROR:root:No eclipse registered for star 17498s:  92% |||||||| | ETA:  0:00:02\n",
      "INFO:root:Done.hape parameters for 18996 systems:  99% |\\\\\\\\\\\\\\ | ETA:  0:00:00\n",
      "INFO:root:Fitting trapezoid models for BEBs...\n",
      "ERROR:root:No eclipse registered for star 6246ms:  32% |||      | ETA:  0:00:19\n",
      "ERROR:root:No eclipse registered for star 17498s:  92% |||||||| | ETA:  0:00:02\n",
      "INFO:root:Done.hape parameters for 18996 systems:  99% |\\\\\\\\\\\\\\ | ETA:  0:00:00\n",
      "INFO:root:Fitting trapezoid models for BEBs...\n",
      "ERROR:root:No eclipse registered for star 6246ms:  32% |||      | ETA:  0:00:19\n",
      "ERROR:root:No eclipse registered for star 17498s:  92% |||||||| | ETA:  0:00:02\n",
      "INFO:root:Done.hape parameters for 18996 systems:  99% |\\\\\\\\\\\\\\ | ETA:  0:00:00\n",
      "INFO:root:Fitting trapezoid models for BEBs...\n",
      "ERROR:root:No eclipse registered for star 6246ms:  32% |||      | ETA:  0:00:19\n",
      "ERROR:root:No eclipse registered for star 17498s:  92% |||||||| | ETA:  0:00:02\n",
      "INFO:root:Done.hape parameters for 18996 systems:  99% |\\\\\\\\\\\\\\ | ETA:  0:00:00\n",
      "INFO:root:Fitting trapezoid models for BEBs...\n",
      "ERROR:root:No eclipse registered for star 6246ms:  32% |||      | ETA:  0:00:19\n",
      "ERROR:root:No eclipse registered for star 17498s:  92% |||||||| | ETA:  0:00:02\n",
      "INFO:root:Done.hape parameters for 18996 systems:  99% |\\\\\\\\\\\\\\ | ETA:  0:00:00\n",
      "INFO:root:Fitting trapezoid models for BEBs...\n",
      "ERROR:root:No eclipse registered for star 6246ms:  32% |||      | ETA:  0:00:19\n",
      "ERROR:root:No eclipse registered for star 17498s:  92% |||||||| | ETA:  0:00:02\n",
      "INFO:root:Done.hape parameters for 18996 systems:  99% |\\\\\\\\\\\\\\ | ETA:  0:00:00\n",
      "INFO:root:Fitting trapezoid models for BEBs...\n",
      "ERROR:root:No eclipse registered for star 6246ms:  32% |||      | ETA:  0:00:19\n",
      "ERROR:root:No eclipse registered for star 17498s:  92% |||||||| | ETA:  0:00:02\n",
      "INFO:root:Done.hape parameters for 18996 systems:  99% |\\\\\\\\\\\\\\ | ETA:  0:00:00\n"
     ]
    },
    {
     "name": "stdout",
     "output_type": "stream",
     "text": [
      "48 K01681.01\n"
     ]
    },
    {
     "name": "stderr",
     "output_type": "stream",
     "text": [
      "INFO:root:Loading TRILEGAL simulation from /Users/neptune/Documents/Thesis/pipeline/data_beb_2/K01681.01/K01681.01_starfield.h5\n",
      "WARNING:root:0 M1s are nan\n",
      "WARNING:root:102 M2s are nan\n",
      "WARNING:root:0 R1s are nan\n",
      "WARNING:root:102 R2s are nan\n",
      "INFO:root:153 binaries are \"too close\"; gave up trying to fix.\n",
      "INFO:root:3710 BEB systems generated (target 25000)\n",
      "WARNING:root:0 M1s are nan\n",
      "WARNING:root:679 M2s are nan\n",
      "WARNING:root:0 R1s are nan\n",
      "WARNING:root:679 R2s are nan\n",
      "INFO:root:1069 binaries are \"too close\"; gave up trying to fix.\n",
      "INFO:root:27201 BEB systems generated (target 25000)\n",
      "INFO:root:Fitting trapezoid models for BEBs...\n",
      "INFO:root:Done.hape parameters for 18198 systems:  99% |\\\\\\\\\\\\\\ | ETA:  0:00:00\n",
      "INFO:root:Fitting trapezoid models for BEBs...\n",
      "INFO:root:Done.hape parameters for 18198 systems:  99% |\\\\\\\\\\\\\\ | ETA:  0:00:00\n",
      "INFO:root:Fitting trapezoid models for BEBs...\n",
      "INFO:root:Done.hape parameters for 18198 systems:  99% |\\\\\\\\\\\\\\ | ETA:  0:00:00\n",
      "INFO:root:Fitting trapezoid models for BEBs...\n",
      "INFO:root:Done.hape parameters for 18198 systems:  99% |\\\\\\\\\\\\\\ | ETA:  0:00:00\n",
      "INFO:root:Fitting trapezoid models for BEBs...\n",
      "INFO:root:Done.hape parameters for 18198 systems:  99% |\\\\\\\\\\\\\\ | ETA:  0:00:00\n",
      "INFO:root:Fitting trapezoid models for BEBs...\n",
      "INFO:root:Done.hape parameters for 18198 systems:  99% |\\\\\\\\\\\\\\ | ETA:  0:00:00\n",
      "INFO:root:Fitting trapezoid models for BEBs...\n",
      "INFO:root:Done.hape parameters for 18198 systems:  99% |\\\\\\\\\\\\\\ | ETA:  0:00:00\n",
      "INFO:root:Fitting trapezoid models for BEBs...\n",
      "INFO:root:Done.hape parameters for 18198 systems:  99% |\\\\\\\\\\\\\\ | ETA:  0:00:00\n",
      "INFO:root:Fitting trapezoid models for BEBs...\n",
      "INFO:root:Done.hape parameters for 18198 systems:  99% |\\\\\\\\\\\\\\ | ETA:  0:00:00\n"
     ]
    },
    {
     "name": "stdout",
     "output_type": "stream",
     "text": [
      "49 K03090.01\n"
     ]
    },
    {
     "name": "stderr",
     "output_type": "stream",
     "text": [
      "INFO:root:Loading TRILEGAL simulation from /Users/neptune/Documents/Thesis/pipeline/data_beb_2/K03090.01/K03090.01_starfield.h5\n",
      "WARNING:root:0 M1s are nan\n",
      "WARNING:root:111 M2s are nan\n",
      "WARNING:root:0 R1s are nan\n",
      "WARNING:root:111 R2s are nan\n",
      "INFO:root:196 binaries are \"too close\"; gave up trying to fix.\n",
      "INFO:root:4499 BEB systems generated (target 25000)\n",
      "WARNING:root:0 M1s are nan\n",
      "WARNING:root:574 M2s are nan\n",
      "WARNING:root:0 R1s are nan\n",
      "WARNING:root:574 R2s are nan\n",
      "INFO:root:1022 binaries are \"too close\"; gave up trying to fix.\n",
      "INFO:root:27107 BEB systems generated (target 25000)\n",
      "INFO:root:Fitting trapezoid models for BEBs...\n",
      "ERROR:root:No eclipse registered for star 1392ms:   7% |        | ETA:  0:00:34\n",
      "INFO:root:Done.hape parameters for 19455 systems:  99% |\\\\\\\\\\\\\\ | ETA:  0:00:00\n",
      "INFO:root:Fitting trapezoid models for BEBs...\n",
      "ERROR:root:No eclipse registered for star 1392ms:   7% |        | ETA:  0:00:34\n",
      "INFO:root:Done.hape parameters for 19455 systems:  99% |\\\\\\\\\\\\\\ | ETA:  0:00:00\n",
      "INFO:root:Fitting trapezoid models for BEBs...\n",
      "ERROR:root:No eclipse registered for star 1392ms:   7% |        | ETA:  0:00:39\n",
      "INFO:root:Done.hape parameters for 19455 systems:  99% |\\\\\\\\\\\\\\ | ETA:  0:00:00\n",
      "INFO:root:Fitting trapezoid models for BEBs...\n",
      "ERROR:root:No eclipse registered for star 1392ms:   7% |        | ETA:  0:00:36\n",
      "INFO:root:Done.hape parameters for 19455 systems:  99% |\\\\\\\\\\\\\\ | ETA:  0:00:00\n",
      "INFO:root:Fitting trapezoid models for BEBs...\n",
      "ERROR:root:No eclipse registered for star 1392ms:   7% |        | ETA:  0:00:31\n",
      "INFO:root:Done.hape parameters for 19455 systems:  99% |\\\\\\\\\\\\\\ | ETA:  0:00:00\n",
      "INFO:root:Fitting trapezoid models for BEBs...\n",
      "ERROR:root:No eclipse registered for star 1392ms:   7% |        | ETA:  0:00:37\n",
      "INFO:root:Done.hape parameters for 19455 systems:  99% |\\\\\\\\\\\\\\ | ETA:  0:00:00\n",
      "INFO:root:Fitting trapezoid models for BEBs...\n",
      "ERROR:root:No eclipse registered for star 1392ms:   7% |        | ETA:  0:00:32\n",
      "INFO:root:Done.hape parameters for 19455 systems:  99% |\\\\\\\\\\\\\\ | ETA:  0:00:00\n",
      "INFO:root:Fitting trapezoid models for BEBs...\n",
      "ERROR:root:No eclipse registered for star 1392ms:   7% |        | ETA:  0:00:34\n",
      "INFO:root:Done.hape parameters for 19455 systems:  99% |\\\\\\\\\\\\\\ | ETA:  0:00:00\n",
      "INFO:root:Fitting trapezoid models for BEBs...\n",
      "ERROR:root:No eclipse registered for star 1392ms:   7% |        | ETA:  0:00:38\n",
      "INFO:root:Done.hape parameters for 19455 systems:  99% |\\\\\\\\\\\\\\ | ETA:  0:00:00\n"
     ]
    },
    {
     "name": "stdout",
     "output_type": "stream",
     "text": [
      "50 K02862.01\n"
     ]
    },
    {
     "name": "stderr",
     "output_type": "stream",
     "text": [
      "INFO:root:Loading TRILEGAL simulation from /Users/neptune/Documents/Thesis/pipeline/data_beb_2/K02862.01/K02862.01_starfield.h5\n",
      "WARNING:root:0 M1s are nan\n",
      "WARNING:root:96 M2s are nan\n",
      "WARNING:root:0 R1s are nan\n",
      "WARNING:root:96 R2s are nan\n",
      "INFO:root:133 binaries are \"too close\"; gave up trying to fix.\n",
      "INFO:root:2595 BEB systems generated (target 25000)\n",
      "WARNING:root:0 M1s are nan\n",
      "WARNING:root:814 M2s are nan\n",
      "WARNING:root:0 R1s are nan\n",
      "WARNING:root:814 R2s are nan\n",
      "INFO:root:1438 binaries are \"too close\"; gave up trying to fix.\n",
      "INFO:root:26906 BEB systems generated (target 25000)\n",
      "INFO:root:Fitting trapezoid models for BEBs...\n",
      "INFO:root:Done.hape parameters for 15649 systems:  99% |------- | ETA:  0:00:01\n",
      "INFO:root:Fitting trapezoid models for BEBs...\n",
      "INFO:root:Done.hape parameters for 15649 systems:  99% |\\\\\\\\\\\\\\ | ETA:  0:00:00\n",
      "INFO:root:Fitting trapezoid models for BEBs...\n",
      "INFO:root:Done.hape parameters for 15649 systems:  99% |\\\\\\\\\\\\\\ | ETA:  0:00:00\n",
      "INFO:root:Fitting trapezoid models for BEBs...\n",
      "INFO:root:Done.hape parameters for 15649 systems:  99% |\\\\\\\\\\\\\\ | ETA:  0:00:00\n",
      "INFO:root:Fitting trapezoid models for BEBs...\n",
      "INFO:root:Done.hape parameters for 15649 systems:  99% |\\\\\\\\\\\\\\ | ETA:  0:00:00\n",
      "INFO:root:Fitting trapezoid models for BEBs...\n",
      "INFO:root:Done.hape parameters for 15649 systems:  99% |\\\\\\\\\\\\\\ | ETA:  0:00:00\n",
      "INFO:root:Fitting trapezoid models for BEBs...\n",
      "INFO:root:Done.hape parameters for 15649 systems:  99% |\\\\\\\\\\\\\\ | ETA:  0:00:00\n",
      "INFO:root:Fitting trapezoid models for BEBs...\n",
      "INFO:root:Done.hape parameters for 15649 systems:  99% |\\\\\\\\\\\\\\ | ETA:  0:00:00\n",
      "INFO:root:Fitting trapezoid models for BEBs...\n",
      "INFO:root:Done.hape parameters for 15649 systems:  99% |\\\\\\\\\\\\\\ | ETA:  0:00:00\n"
     ]
    },
    {
     "name": "stdout",
     "output_type": "stream",
     "text": [
      "51 K07691.01\n"
     ]
    },
    {
     "name": "stderr",
     "output_type": "stream",
     "text": [
      "INFO:root:Loading TRILEGAL simulation from /Users/neptune/Documents/Thesis/pipeline/data_beb_2/K07691.01/K07691.01_starfield.h5\n",
      "WARNING:root:0 M1s are nan\n",
      "WARNING:root:87 M2s are nan\n",
      "WARNING:root:0 R1s are nan\n",
      "WARNING:root:87 R2s are nan\n",
      "INFO:root:3261 binaries are \"too close\"; gave up trying to fix.\n",
      "INFO:root:11177 BEB systems generated (target 25000)\n",
      "WARNING:root:0 M1s are nan\n",
      "WARNING:root:134 M2s are nan\n",
      "WARNING:root:0 R1s are nan\n",
      "WARNING:root:134 R2s are nan\n",
      "INFO:root:4801 binaries are \"too close\"; gave up trying to fix.\n",
      "INFO:root:27435 BEB systems generated (target 25000)\n",
      "INFO:root:Fitting trapezoid models for BEBs...\n",
      "INFO:root:Done.hape parameters for 23106 systems:  99% |\\\\\\\\\\\\\\ | ETA:  0:00:00\n",
      "INFO:root:Fitting trapezoid models for BEBs...\n",
      "INFO:root:Done.hape parameters for 23106 systems:  99% |||||||| | ETA:  0:00:00\n",
      "INFO:root:Fitting trapezoid models for BEBs...\n",
      "INFO:root:Done.hape parameters for 23106 systems:  99% |||||||| | ETA:  0:00:00\n",
      "INFO:root:Fitting trapezoid models for BEBs...\n",
      "INFO:root:Done.hape parameters for 23106 systems:  99% |||||||| | ETA:  0:00:00\n",
      "INFO:root:Fitting trapezoid models for BEBs...\n",
      "INFO:root:Done.hape parameters for 23106 systems:  99% |\\\\\\\\\\\\\\ | ETA:  0:00:00\n",
      "INFO:root:Fitting trapezoid models for BEBs...\n",
      "INFO:root:Done.hape parameters for 23106 systems:  99% |||||||| | ETA:  0:00:00\n",
      "INFO:root:Fitting trapezoid models for BEBs...\n",
      "INFO:root:Done.hape parameters for 23106 systems:  99% |\\\\\\\\\\\\\\ | ETA:  0:00:00\n",
      "INFO:root:Fitting trapezoid models for BEBs...\n",
      "INFO:root:Done.hape parameters for 23106 systems:  99% |||||||| | ETA:  0:00:00\n",
      "INFO:root:Fitting trapezoid models for BEBs...\n",
      "INFO:root:Done.hape parameters for 23106 systems:  99% |\\\\\\\\\\\\\\ | ETA:  0:00:00\n"
     ]
    },
    {
     "name": "stdout",
     "output_type": "stream",
     "text": [
      "52 K07952.01\n"
     ]
    },
    {
     "name": "stderr",
     "output_type": "stream",
     "text": [
      "INFO:root:Loading TRILEGAL simulation from /Users/neptune/Documents/Thesis/pipeline/data_beb_2/K07952.01/K07952.01_starfield.h5\n",
      "WARNING:root:0 M1s are nan\n",
      "WARNING:root:80 M2s are nan\n",
      "WARNING:root:0 R1s are nan\n",
      "WARNING:root:80 R2s are nan\n",
      "INFO:root:169 binaries are \"too close\"; gave up trying to fix.\n",
      "INFO:root:4405 BEB systems generated (target 25000)\n",
      "WARNING:root:0 M1s are nan\n",
      "WARNING:root:488 M2s are nan\n",
      "WARNING:root:0 R1s are nan\n",
      "WARNING:root:488 R2s are nan\n",
      "INFO:root:1024 binaries are \"too close\"; gave up trying to fix.\n",
      "INFO:root:26675 BEB systems generated (target 25000)\n",
      "INFO:root:Fitting trapezoid models for BEBs...\n",
      "ERROR:root:No eclipse registered for star 7473ms:  38% |---     | ETA:  0:00:18\n",
      "ERROR:root:No eclipse registered for star 7659ms:  39% |\\\\\\     | ETA:  0:00:17\n",
      "INFO:root:Done.hape parameters for 19554 systems:  99% |\\\\\\\\\\\\\\ | ETA:  0:00:00\n",
      "INFO:root:Fitting trapezoid models for BEBs...\n",
      "ERROR:root:No eclipse registered for star 7473ms:  37% |//      | ETA:  0:00:43\n",
      "ERROR:root:No eclipse registered for star 7659ms:  38% |---     | ETA:  0:00:42\n",
      "INFO:root:Done.hape parameters for 19554 systems:  99% |------- | ETA:  0:00:00\n",
      "INFO:root:Fitting trapezoid models for BEBs...\n",
      "ERROR:root:No eclipse registered for star 7473ms:  37% |||      | ETA:  0:00:42\n",
      "ERROR:root:No eclipse registered for star 7659ms:  38% |///     | ETA:  0:00:41\n",
      "INFO:root:Done.hape parameters for 19554 systems:  99% |\\\\\\\\\\\\\\ | ETA:  0:00:00\n",
      "INFO:root:Fitting trapezoid models for BEBs...\n",
      "ERROR:root:No eclipse registered for star 7473ms:  38% ||||     | ETA:  0:00:39\n",
      "ERROR:root:No eclipse registered for star 7659ms:  39% |///     | ETA:  0:00:38\n",
      "INFO:root:Done.hape parameters for 19554 systems:  99% |\\\\\\\\\\\\\\ | ETA:  0:00:00\n",
      "INFO:root:Fitting trapezoid models for BEBs...\n",
      "ERROR:root:No eclipse registered for star 7473ms:  38% |\\\\\\     | ETA:  0:00:35\n",
      "ERROR:root:No eclipse registered for star 7659ms:  39% ||||     | ETA:  0:00:35\n",
      "INFO:root:Done.hape parameters for 19554 systems:  99% |------- | ETA:  0:00:00\n",
      "INFO:root:Fitting trapezoid models for BEBs...\n",
      "ERROR:root:No eclipse registered for star 7473ms:  37% |||      | ETA:  0:00:45\n",
      "ERROR:root:No eclipse registered for star 7659ms:  38% |///     | ETA:  0:00:44\n",
      "INFO:root:Done.hape parameters for 19554 systems:  99% |||||||| | ETA:  0:00:00\n",
      "INFO:root:Fitting trapezoid models for BEBs...\n",
      "ERROR:root:No eclipse registered for star 7473ms:  38% ||||     | ETA:  0:00:35\n",
      "ERROR:root:No eclipse registered for star 7659ms:  39% |///     | ETA:  0:00:34\n",
      "INFO:root:Done.hape parameters for 19554 systems:  99% |||||||| | ETA:  0:00:00\n",
      "INFO:root:Fitting trapezoid models for BEBs...\n",
      "ERROR:root:No eclipse registered for star 7473ms:  37% ||||     | ETA:  0:00:43\n",
      "ERROR:root:No eclipse registered for star 7659ms:  38% |///     | ETA:  0:00:44\n",
      "INFO:root:Done.hape parameters for 19554 systems:  99% |\\\\\\\\\\\\\\ | ETA:  0:00:00\n",
      "INFO:root:Fitting trapezoid models for BEBs...\n",
      "ERROR:root:No eclipse registered for star 7473ms:  37% |--      | ETA:  0:00:37\n",
      "ERROR:root:No eclipse registered for star 7659ms:  38% |\\\\\\     | ETA:  0:00:36\n",
      "INFO:root:Done.hape parameters for 19554 systems:  99% |\\\\\\\\\\\\\\ | ETA:  0:00:00\n"
     ]
    },
    {
     "name": "stdout",
     "output_type": "stream",
     "text": [
      "53 K08007.01\n"
     ]
    },
    {
     "name": "stderr",
     "output_type": "stream",
     "text": [
      "INFO:root:Loading TRILEGAL simulation from /Users/neptune/Documents/Thesis/pipeline/data_beb_2/K08007.01/K08007.01_starfield.h5\n",
      "WARNING:root:0 M1s are nan\n",
      "WARNING:root:72 M2s are nan\n",
      "WARNING:root:0 R1s are nan\n",
      "WARNING:root:72 R2s are nan\n",
      "INFO:root:133 binaries are \"too close\"; gave up trying to fix.\n",
      "INFO:root:2177 BEB systems generated (target 25000)\n",
      "WARNING:root:0 M1s are nan\n",
      "WARNING:root:1146 M2s are nan\n",
      "WARNING:root:0 R1s are nan\n",
      "WARNING:root:1146 R2s are nan\n",
      "INFO:root:1611 binaries are \"too close\"; gave up trying to fix.\n",
      "INFO:root:20189 BEB systems generated (target 25000)\n",
      "WARNING:root:0 M1s are nan\n",
      "WARNING:root:322 M2s are nan\n",
      "WARNING:root:0 R1s are nan\n",
      "WARNING:root:322 R2s are nan\n",
      "INFO:root:471 binaries are \"too close\"; gave up trying to fix.\n",
      "INFO:root:25990 BEB systems generated (target 25000)\n",
      "INFO:root:Fitting trapezoid models for BEBs...\n",
      "INFO:root:Done.hape parameters for 14543 systems:  99% |/////// | ETA:  0:00:00\n",
      "INFO:root:Fitting trapezoid models for BEBs...\n",
      "INFO:root:Done.hape parameters for 14543 systems:  99% |\\\\\\\\\\\\\\ | ETA:  0:00:00\n",
      "INFO:root:Fitting trapezoid models for BEBs...\n",
      "INFO:root:Done.hape parameters for 14543 systems:  99% |\\\\\\\\\\\\\\ | ETA:  0:00:00\n",
      "INFO:root:Fitting trapezoid models for BEBs...\n",
      "INFO:root:Done.hape parameters for 14543 systems:  99% |\\\\\\\\\\\\\\ | ETA:  0:00:00\n",
      "INFO:root:Fitting trapezoid models for BEBs...\n",
      "INFO:root:Done.hape parameters for 14543 systems:  99% |\\\\\\\\\\\\\\ | ETA:  0:00:00\n",
      "INFO:root:Fitting trapezoid models for BEBs...\n",
      "INFO:root:Done.hape parameters for 14543 systems:  99% |\\\\\\\\\\\\\\ | ETA:  0:00:00\n",
      "INFO:root:Fitting trapezoid models for BEBs...\n",
      "INFO:root:Done.hape parameters for 14543 systems:  99% |\\\\\\\\\\\\\\ | ETA:  0:00:00\n",
      "INFO:root:Fitting trapezoid models for BEBs...\n",
      "INFO:root:Done.hape parameters for 14543 systems:  99% |\\\\\\\\\\\\\\ | ETA:  0:00:00\n",
      "INFO:root:Fitting trapezoid models for BEBs...\n",
      "INFO:root:Done.hape parameters for 14543 systems:  99% |\\\\\\\\\\\\\\ | ETA:  0:00:00\n"
     ]
    }
   ],
   "source": [
    "from pipeline_beb import *\n",
    "import pandas as pd\n",
    "import numpy as np\n",
    "data = pd.read_csv('beb_sample_complete.csv')\n",
    "data_ = pd.DataFrame()\n",
    "for index in range(len(data)):\n",
    "    print(index,data.iloc[index].koi)\n",
    "    items = Calculate_multiband_transit(data.iloc[index].copy())\n",
    "    data_ = data_.append(items,ignore_index=True)\n",
    "    data_.to_csv('beb_results_final.csv',index=None)"
   ]
  }
 ],
 "metadata": {
  "kernelspec": {
   "display_name": "Python 3",
   "language": "python",
   "name": "python3"
  },
  "language_info": {
   "codemirror_mode": {
    "name": "ipython",
    "version": 3
   },
   "file_extension": ".py",
   "mimetype": "text/x-python",
   "name": "python",
   "nbconvert_exporter": "python",
   "pygments_lexer": "ipython3",
   "version": "3.7.4"
  }
 },
 "nbformat": 4,
 "nbformat_minor": 2
}
